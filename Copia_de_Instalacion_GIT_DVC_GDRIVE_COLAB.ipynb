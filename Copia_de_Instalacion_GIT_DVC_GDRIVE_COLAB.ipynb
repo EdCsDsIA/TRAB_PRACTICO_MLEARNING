{
  "nbformat": 4,
  "nbformat_minor": 0,
  "metadata": {
    "colab": {
      "name": "Copia de Instalacion_GIT_DVC_GDRIVE_COLAB.ipynb",
      "provenance": [],
      "collapsed_sections": [],
      "include_colab_link": true
    },
    "kernelspec": {
      "name": "python3",
      "display_name": "Python 3"
    },
    "language_info": {
      "name": "python"
    }
  },
  "cells": [
    {
      "cell_type": "markdown",
      "metadata": {
        "id": "view-in-github",
        "colab_type": "text"
      },
      "source": [
        "<a href=\"https://colab.research.google.com/github/EdCsDsIA/TRAB_PRACTICO_MLEARNING/blob/main/Copia_de_Instalacion_GIT_DVC_GDRIVE_COLAB.ipynb\" target=\"_parent\"><img src=\"https://colab.research.google.com/assets/colab-badge.svg\" alt=\"Open In Colab\"/></a>"
      ]
    },
    {
      "cell_type": "markdown",
      "metadata": {
        "id": "o7HUuxpqj7BC"
      },
      "source": [
        "## INSTALACION Y APERTURA DE DRIVE"
      ]
    },
    {
      "cell_type": "code",
      "metadata": {
        "colab": {
          "base_uri": "https://localhost:8080/"
        },
        "id": "TbzU_Om5OSmC",
        "outputId": "815a3bdd-f73c-4ae9-d95b-6688bf0b436a"
      },
      "source": [
        "# CON ESTA LINEA IMPORTAMOS LA LIBRERIA DE DRIVE.\n",
        "# SOLICITARA QUE INGRESES A UNA URL, INGRESAR A LA URL, SOLICITA VALIDAR LA CUENTA DE GOOGLE\n",
        "# UNA VEZ VALIDADO EN GOOGLE ENTREGARA UN CODIGO DE AUTORIZACION QUE SE DEBE COPIAR.\n",
        "# VOLVEMOS A ESTA CELDA Y EN EL INPUT \" Enter your authorization code: \"  PEGAR EL CODIGO y TECLA ENTER.\n",
        "# AUTORIZAMOS A COLAB CONECTARSE AL DRIVE DE LA CUENTA.\n",
        "from google.colab import drive\n",
        "drive.mount('/content/drive')"
      ],
      "execution_count": 1,
      "outputs": [
        {
          "output_type": "stream",
          "name": "stdout",
          "text": [
            "Drive already mounted at /content/drive; to attempt to forcibly remount, call drive.mount(\"/content/drive\", force_remount=True).\n"
          ]
        }
      ]
    },
    {
      "cell_type": "code",
      "metadata": {
        "colab": {
          "base_uri": "https://localhost:8080/"
        },
        "id": "SfqnYlIrPUFt",
        "outputId": "55279a99-3688-4f91-b3cd-0b15e6a3e1e4"
      },
      "source": [
        "%cd /content/drive/MyDrive"
      ],
      "execution_count": 2,
      "outputs": [
        {
          "output_type": "stream",
          "name": "stdout",
          "text": [
            "/content/drive/MyDrive\n"
          ]
        }
      ]
    },
    {
      "cell_type": "code",
      "metadata": {
        "colab": {
          "base_uri": "https://localhost:8080/"
        },
        "id": "yFrmMjAFPhAZ",
        "outputId": "53c93490-4262-42e3-dfb3-a92339eaf286"
      },
      "source": [
        "!pwd"
      ],
      "execution_count": 3,
      "outputs": [
        {
          "output_type": "stream",
          "name": "stdout",
          "text": [
            "/content/drive/MyDrive\n"
          ]
        }
      ]
    },
    {
      "cell_type": "markdown",
      "metadata": {
        "id": "hDcTcO3EkBx0"
      },
      "source": [
        "INSTALACION E INICIALIZACION DE GIT"
      ]
    },
    {
      "cell_type": "code",
      "metadata": {
        "colab": {
          "base_uri": "https://localhost:8080/"
        },
        "id": "BAZpsj0dOMyO",
        "outputId": "54e9a0f8-cf2f-4855-9daf-65c01fda8f41"
      },
      "source": [
        "!git init\n",
        "# AHORA CONFIGURAMOS EL LOGIN DE COLAB A GIT\n",
        "!git config --global user.email \"octagomez.cba@gmail.com\" #MAIL DE LOGIN\n",
        "!git config --global user.name \"octagomez\" #NOMBRE EL PERFIL NO ES TAN RELEVANTE\n",
        "!git clone https://dagshub.com/octagomez.cba/test03"
      ],
      "execution_count": 5,
      "outputs": [
        {
          "output_type": "stream",
          "name": "stdout",
          "text": [
            "Reinitialized existing Git repository in /content/drive/MyDrive/.git/\n",
            "fatal: destination path 'test03' already exists and is not an empty directory.\n"
          ]
        }
      ]
    },
    {
      "cell_type": "code",
      "metadata": {
        "colab": {
          "base_uri": "https://localhost:8080/"
        },
        "id": "2PwYwdeAjQ1M",
        "outputId": "243db25d-3f5a-46f8-aeb6-1756c4c120af"
      },
      "source": [
        "# ENTRO EN AL RUTA DEL REPO LOCAL\n",
        "%cd /content/drive/MyDrive/test03\n",
        "!pwd"
      ],
      "execution_count": 6,
      "outputs": [
        {
          "output_type": "stream",
          "name": "stdout",
          "text": [
            "/content/drive/MyDrive/test03\n",
            "/content/drive/MyDrive/test03\n"
          ]
        }
      ]
    },
    {
      "cell_type": "code",
      "metadata": {
        "colab": {
          "base_uri": "https://localhost:8080/"
        },
        "id": "Fuvr6jam_4c3",
        "outputId": "c83346ed-7abd-424b-c3e2-7862e5d7a80b"
      },
      "source": [
        "# TOKEN DEL PERFIL DE GIT\n",
        "# buscamos el token desde el sitio de git.\n",
        "# despues de ingresar a git conusuario y contraseña, nos vamos al perfil arriba a la derecha se desplega un menu y a settings\n",
        "# EN el menu de la izq escroleamos (abajo) hasta DEVELOPER SETTINGS y entramos ahi.\n",
        "# En el nuevo menu izq vamos a \"Personal access tokens\"  y debemos generar un token, en la pantalla siguiente debera especificar un nombre al TOKEN y chequee todos los checkbox, ya tenemos generado uno generamos otro.\n",
        "# copiamos el token y lo pegamos en el INPUT que se muestra al ejecutar esta celda y ENTER.\n",
        "# 04e8826b000d7b452abc29bf958927959229521d\n",
        "from getpass import getpass\n",
        "password = getpass(\"Enter TOKEN: \")"
      ],
      "execution_count": 7,
      "outputs": [
        {
          "name": "stdout",
          "output_type": "stream",
          "text": [
            "Enter TOKEN: ··········\n"
          ]
        }
      ]
    },
    {
      "cell_type": "code",
      "metadata": {
        "id": "XB0MmTnhgXUB"
      },
      "source": [
        "# MODIFICAMOS LA URL con la URL del repositorio\n",
        "# Ejemplo:esta es la url de un proyecto: https://github.com/octagomez/Practica_algebra_iefi.git\n",
        "# y necesitamos copiar todo lo que esta a posterior de github.com/ es decir \"octagomez/Practica_algebra_iefi.git\"\n",
        "# la url se compone de: Dueño del repo en este caso \"octagomez\" y el nombre del repo \"Practica_algebra_iefi.git\" separados por un / \n",
        "# Estos 2 datos los vamos a llamar \"cola de url\" y debemos copletar esta URL con su cola correspondiente.\n",
        "# https://$password@github.com/octagomez/Practica_algebra_iefi.git\n",
        "# NOTA: el token esta guardado en la variable $password que definimos en la celda anterior.\n",
        "# https://dagshub.com/octagomez.cba/test03\n",
        "# !git remote add origin https://$password@github.com/octagomez/test_proyecto_v3.git\n",
        "!git remote add origin https://$password@dagshub.com/octagomez.cba/test03\n",
        "# !git remote add origin https://04e8826b000d7b452abc29bf958927959229521d@dagshub.com/octagomez.cba/test03\n",
        "\n",
        "# ERRORES\n",
        "# si el error le dice que \"fatal: remote origin already exists.\" hay que eliminarlo y volver a crear\n",
        "# HAY QUE eliminar el repo con este codigo # !git remote rm origin # ELIMINA EL origin y volver a ejecutar"
      ],
      "execution_count": 97,
      "outputs": []
    },
    {
      "cell_type": "code",
      "metadata": {
        "id": "CBkKbSDsgcBx"
      },
      "source": [
        "# ELIMINA EL REPO LOCAL si la sentencia anterior informa que ya existe\n",
        "!git remote rm origin "
      ],
      "execution_count": 9,
      "outputs": []
    },
    {
      "cell_type": "code",
      "metadata": {
        "id": "j6gXg72XgkjX"
      },
      "source": [
        "# SI DA ERROR el commit puede ser QUE NO ESTA CONFIGURADO VOLVEMOS A LA CELDA 11\n",
        "! git config --global user.email \"octagomez.cba@gmail.com\" #MAIL DE LOGIN\n",
        "! git config --global user.name \"octagomez\" #NOMBRE EL PERFIL NO ES TAN RELEVANTE"
      ],
      "execution_count": 10,
      "outputs": []
    },
    {
      "cell_type": "code",
      "metadata": {
        "id": "naxJqsuMhff6"
      },
      "source": [
        "# El comando git remote te permite crear, ver y eliminar conexiones con otros repositorios. Las conexiones remotas se asemejan más a marcadores que a enlaces directos con otros repositorios.\n",
        "# La salida de este comando nos muestra los repositorios conectados, y debemos ver los del repositorio en cuestion.\n",
        "!git remote -v"
      ],
      "execution_count": 11,
      "outputs": []
    },
    {
      "cell_type": "code",
      "metadata": {
        "colab": {
          "base_uri": "https://localhost:8080/"
        },
        "id": "0K4nzF2xi5MP",
        "outputId": "1a54f85a-8296-42f7-8d24-0dcf9802e1a9"
      },
      "source": [
        "!pwd"
      ],
      "execution_count": 12,
      "outputs": [
        {
          "output_type": "stream",
          "name": "stdout",
          "text": [
            "/content/drive/MyDrive/test03\n"
          ]
        }
      ]
    },
    {
      "cell_type": "code",
      "metadata": {
        "colab": {
          "base_uri": "https://localhost:8080/"
        },
        "id": "KtqxvA8x_wwm",
        "outputId": "452fda17-297e-4e66-b9b4-828a1c3286b0"
      },
      "source": [
        "# VERIFICO EL ESTATUS \n",
        "!git status"
      ],
      "execution_count": 13,
      "outputs": [
        {
          "output_type": "stream",
          "name": "stdout",
          "text": [
            "On branch master\n",
            "nothing to commit, working tree clean\n"
          ]
        }
      ]
    },
    {
      "cell_type": "code",
      "metadata": {
        "id": "b6an9fW2guiP",
        "colab": {
          "base_uri": "https://localhost:8080/"
        },
        "outputId": "7933a273-82e9-48f8-fe52-9c66899a4946"
      },
      "source": [
        "# INCORPORAMOS LOS ARCHIVOS A GIT\n",
        "!git add ."
      ],
      "execution_count": 99,
      "outputs": [
        {
          "output_type": "stream",
          "name": "stdout",
          "text": [
            "Everything up-to-date\n"
          ]
        }
      ]
    },
    {
      "cell_type": "code",
      "metadata": {
        "colab": {
          "base_uri": "https://localhost:8080/"
        },
        "id": "wHU8wKsbg5o_",
        "outputId": "40781a12-97dd-4884-9e88-c34ba650f787"
      },
      "source": [
        "# VERIFICO EL ESTATUS \n",
        "!git status"
      ],
      "execution_count": 100,
      "outputs": [
        {
          "output_type": "stream",
          "name": "stdout",
          "text": [
            "On branch master\n",
            "Changes to be committed:\n",
            "  (use \"git reset HEAD <file>...\" to unstage)\n",
            "\n",
            "\t\u001b[32mnew file:   .devcontainer/Dockerfile\u001b[m\n",
            "\t\u001b[32mnew file:   .devcontainer/devcontainer.json\u001b[m\n",
            "\t\u001b[32mnew file:   .github/workflows/cml.yaml\u001b[m\n",
            "\t\u001b[32mnew file:   dvcstore/15/3aad06d376b6595932470e459ef42a.dir\u001b[m\n",
            "\t\u001b[32mnew file:   dvcstore/4d/7294a200c07bc22dab617216c1ea2a\u001b[m\n",
            "\t\u001b[32mnew file:   dvcstore/5d/7d14263c85df3d314d71c8ae7774db\u001b[m\n",
            "\t\u001b[32mnew file:   dvcstore/9c/a281786366acca17632c27c5c5cc75\u001b[m\n",
            "\t\u001b[32mnew file:   dvcstore/b6/56f1a8273d0c541340cb129fd5d5a9\u001b[m\n",
            "\t\u001b[32mnew file:   dvcstore/c1/0d9323b503cff76f51831495105355.dir\u001b[m\n",
            "\t\u001b[32mnew file:   dvcstore/c1/43089846b4b9a503ae21a82826ce3d\u001b[m\n",
            "\t\u001b[32mnew file:   params.yaml\u001b[m\n",
            "\t\u001b[32mnew file:   src/evaluate.py\u001b[m\n",
            "\t\u001b[32mnew file:   src/featurization.py\u001b[m\n",
            "\t\u001b[32mnew file:   src/prepare.py\u001b[m\n",
            "\t\u001b[32mnew file:   src/requirements.txt\u001b[m\n",
            "\t\u001b[32mnew file:   src/train.py\u001b[m\n",
            "\n"
          ]
        }
      ]
    },
    {
      "cell_type": "code",
      "metadata": {
        "colab": {
          "base_uri": "https://localhost:8080/"
        },
        "id": "8Ia-5FWlhAP-",
        "outputId": "69dcb064-ad37-4c7a-cd1b-ed8b1823f01c"
      },
      "source": [
        "# REALIZAMOS EL COMMIT\n",
        "! git commit -a -m \"first commit\""
      ],
      "execution_count": 16,
      "outputs": [
        {
          "output_type": "stream",
          "name": "stdout",
          "text": [
            "On branch master\n",
            "nothing to commit, working tree clean\n"
          ]
        }
      ]
    },
    {
      "cell_type": "code",
      "metadata": {
        "colab": {
          "base_uri": "https://localhost:8080/"
        },
        "id": "XfR-87ZhhJLy",
        "outputId": "ec22b3a1-8bb5-4e64-bda2-27c534af25a1"
      },
      "source": [
        "# hacemos un pull/push de la rama main (si da error verificar si se llama main o master)\n",
        "! git push origin master \n",
        "# SI CORRE BIEN ESTO QUIERE DECIR QUE YA ESTA VINCULADO EL REPO CON COLAB"
      ],
      "execution_count": 17,
      "outputs": [
        {
          "output_type": "stream",
          "name": "stdout",
          "text": [
            "fatal: 'origin' does not appear to be a git repository\n",
            "fatal: Could not read from remote repository.\n",
            "\n",
            "Please make sure you have the correct access rights\n",
            "and the repository exists.\n"
          ]
        }
      ]
    },
    {
      "cell_type": "code",
      "metadata": {
        "colab": {
          "base_uri": "https://localhost:8080/"
        },
        "id": "VCax8l-gP9ng",
        "outputId": "e77c9289-5573-4de7-ce1c-7d3b2700ca8d"
      },
      "source": [
        "#VALIDAMOS ESTAR EN EL DIRECTORIO DEL REPO LOCAL\n",
        "!pwd\n",
        "%cd test03/"
      ],
      "execution_count": 18,
      "outputs": [
        {
          "output_type": "stream",
          "name": "stdout",
          "text": [
            "/content/drive/MyDrive/test03\n",
            "[Errno 2] No such file or directory: 'test03/'\n",
            "/content/drive/MyDrive/test03\n"
          ]
        }
      ]
    },
    {
      "cell_type": "code",
      "metadata": {
        "colab": {
          "base_uri": "https://localhost:8080/"
        },
        "id": "w27i-iv5pfPz",
        "outputId": "01db55de-36b0-4bcb-b14a-370d58b83edd"
      },
      "source": [
        "!pwd"
      ],
      "execution_count": 19,
      "outputs": [
        {
          "output_type": "stream",
          "name": "stdout",
          "text": [
            "/content/drive/MyDrive/test03\n"
          ]
        }
      ]
    },
    {
      "cell_type": "markdown",
      "metadata": {
        "id": "VHsXTbC0kQ26"
      },
      "source": [
        "## INSTALACION DE DVC"
      ]
    },
    {
      "cell_type": "code",
      "metadata": {
        "id": "5-RQtSaS5gU9"
      },
      "source": [
        "#!pip install git+https://github.com/skshetry/dvc.git@fix-6962#egg=dvc[dev]"
      ],
      "execution_count": null,
      "outputs": []
    },
    {
      "cell_type": "code",
      "metadata": {
        "colab": {
          "base_uri": "https://localhost:8080/"
        },
        "id": "UUyoe-tUQDix",
        "outputId": "70f9ea45-b378-4b24-f0fb-5a76ef8dddd3"
      },
      "source": [
        "# INSTALAMOS EL DVC en el directorio del repo local. \n",
        "# una vez finalizado nos solicita reiniciar el Kernel\n",
        "!pip install dvc"
      ],
      "execution_count": 20,
      "outputs": [
        {
          "output_type": "stream",
          "name": "stdout",
          "text": [
            "Looking in indexes: https://pypi.org/simple, https://us-python.pkg.dev/colab-wheels/public/simple/\n",
            "Requirement already satisfied: dvc in /usr/local/lib/python3.7/dist-packages (2.10.2)\n",
            "Requirement already satisfied: aiohttp-retry>=2.4.5 in /usr/local/lib/python3.7/dist-packages (from dvc) (2.4.6)\n",
            "Requirement already satisfied: dvc-render==0.0.5 in /usr/local/lib/python3.7/dist-packages (from dvc) (0.0.5)\n",
            "Requirement already satisfied: dictdiffer>=0.8.1 in /usr/local/lib/python3.7/dist-packages (from dvc) (0.9.0)\n",
            "Requirement already satisfied: scmrepo==0.0.19 in /usr/local/lib/python3.7/dist-packages (from dvc) (0.0.19)\n",
            "Requirement already satisfied: shortuuid>=0.5.0 in /usr/local/lib/python3.7/dist-packages (from dvc) (1.0.9)\n",
            "Requirement already satisfied: pygtrie>=2.3.2 in /usr/local/lib/python3.7/dist-packages (from dvc) (2.4.2)\n",
            "Requirement already satisfied: nanotime>=0.5.2 in /usr/local/lib/python3.7/dist-packages (from dvc) (0.5.2)\n",
            "Requirement already satisfied: importlib-resources>=5.2.2 in /usr/local/lib/python3.7/dist-packages (from dvc) (5.7.1)\n",
            "Requirement already satisfied: diskcache>=5.2.1 in /usr/local/lib/python3.7/dist-packages (from dvc) (5.4.0)\n",
            "Requirement already satisfied: flatten-dict<1,>=0.4.1 in /usr/local/lib/python3.7/dist-packages (from dvc) (0.4.2)\n",
            "Requirement already satisfied: configobj>=5.0.6 in /usr/local/lib/python3.7/dist-packages (from dvc) (5.0.6)\n",
            "Requirement already satisfied: distro>=1.3.0 in /usr/local/lib/python3.7/dist-packages (from dvc) (1.7.0)\n",
            "Requirement already satisfied: shtab<2,>=1.3.4 in /usr/local/lib/python3.7/dist-packages (from dvc) (1.5.4)\n",
            "Requirement already satisfied: fsspec[http]>=2021.10.1 in /usr/local/lib/python3.7/dist-packages (from dvc) (2022.5.0)\n",
            "Requirement already satisfied: voluptuous>=0.11.7 in /usr/local/lib/python3.7/dist-packages (from dvc) (0.13.1)\n",
            "Requirement already satisfied: psutil>=5.8.0 in /usr/local/lib/python3.7/dist-packages (from dvc) (5.9.1)\n",
            "Requirement already satisfied: pyparsing>=2.4.7 in /usr/local/lib/python3.7/dist-packages (from dvc) (3.0.9)\n",
            "Requirement already satisfied: flufl.lock>=5 in /usr/local/lib/python3.7/dist-packages (from dvc) (7.0)\n",
            "Requirement already satisfied: dvclive>=0.7.3 in /usr/local/lib/python3.7/dist-packages (from dvc) (0.8.2)\n",
            "Requirement already satisfied: importlib-metadata>=1.4 in /usr/local/lib/python3.7/dist-packages (from dvc) (4.11.4)\n",
            "Requirement already satisfied: funcy>=1.14 in /usr/local/lib/python3.7/dist-packages (from dvc) (1.17)\n",
            "Requirement already satisfied: zc.lockfile>=1.2.1 in /usr/local/lib/python3.7/dist-packages (from dvc) (2.0)\n",
            "Requirement already satisfied: python-benedict>=0.24.2 in /usr/local/lib/python3.7/dist-packages (from dvc) (0.25.1)\n",
            "Requirement already satisfied: rich>=10.13.0 in /usr/local/lib/python3.7/dist-packages (from dvc) (12.4.4)\n",
            "Requirement already satisfied: pathspec<0.10.0,>=0.9.0 in /usr/local/lib/python3.7/dist-packages (from dvc) (0.9.0)\n",
            "Requirement already satisfied: colorama>=0.3.9 in /usr/local/lib/python3.7/dist-packages (from dvc) (0.4.4)\n",
            "Requirement already satisfied: toml>=0.10.1 in /usr/local/lib/python3.7/dist-packages (from dvc) (0.10.2)\n",
            "Requirement already satisfied: dpath<3,>=2.0.2 in /usr/local/lib/python3.7/dist-packages (from dvc) (2.0.6)\n",
            "Requirement already satisfied: tabulate>=0.8.7 in /usr/local/lib/python3.7/dist-packages (from dvc) (0.8.9)\n",
            "Requirement already satisfied: networkx>=2.5 in /usr/local/lib/python3.7/dist-packages (from dvc) (2.6.3)\n",
            "Requirement already satisfied: pydot>=1.2.4 in /usr/local/lib/python3.7/dist-packages (from dvc) (1.3.0)\n",
            "Requirement already satisfied: typing-extensions>=3.7.4 in /usr/local/lib/python3.7/dist-packages (from dvc) (4.2.0)\n",
            "Requirement already satisfied: ruamel.yaml>=0.17.11 in /usr/local/lib/python3.7/dist-packages (from dvc) (0.17.21)\n",
            "Requirement already satisfied: appdirs>=1.4.3 in /usr/local/lib/python3.7/dist-packages (from dvc) (1.4.4)\n",
            "Requirement already satisfied: packaging>=19.0 in /usr/local/lib/python3.7/dist-packages (from dvc) (21.3)\n",
            "Requirement already satisfied: tqdm<5,>=4.63.1 in /usr/local/lib/python3.7/dist-packages (from dvc) (4.64.0)\n",
            "Requirement already satisfied: grandalf==0.6 in /usr/local/lib/python3.7/dist-packages (from dvc) (0.6)\n",
            "Requirement already satisfied: requests>=2.22.0 in /usr/local/lib/python3.7/dist-packages (from dvc) (2.27.1)\n",
            "Requirement already satisfied: future in /usr/local/lib/python3.7/dist-packages (from grandalf==0.6->dvc) (0.16.0)\n",
            "Requirement already satisfied: dulwich>=0.20.34 in /usr/local/lib/python3.7/dist-packages (from scmrepo==0.0.19->dvc) (0.20.42)\n",
            "Requirement already satisfied: pygit2>=1.7.2 in /usr/local/lib/python3.7/dist-packages (from scmrepo==0.0.19->dvc) (1.9.2)\n",
            "Requirement already satisfied: gitpython>3 in /usr/local/lib/python3.7/dist-packages (from scmrepo==0.0.19->dvc) (3.1.27)\n",
            "Requirement already satisfied: asyncssh<3,>=2.7.1 in /usr/local/lib/python3.7/dist-packages (from scmrepo==0.0.19->dvc) (2.10.1)\n",
            "Requirement already satisfied: aiohttp in /usr/local/lib/python3.7/dist-packages (from aiohttp-retry>=2.4.5->dvc) (3.8.1)\n",
            "Requirement already satisfied: cryptography>=3.1 in /usr/local/lib/python3.7/dist-packages (from asyncssh<3,>=2.7.1->scmrepo==0.0.19->dvc) (37.0.2)\n",
            "Requirement already satisfied: six in /usr/local/lib/python3.7/dist-packages (from configobj>=5.0.6->dvc) (1.15.0)\n",
            "Requirement already satisfied: cffi>=1.12 in /usr/local/lib/python3.7/dist-packages (from cryptography>=3.1->asyncssh<3,>=2.7.1->scmrepo==0.0.19->dvc) (1.15.0)\n",
            "Requirement already satisfied: pycparser in /usr/local/lib/python3.7/dist-packages (from cffi>=1.12->cryptography>=3.1->asyncssh<3,>=2.7.1->scmrepo==0.0.19->dvc) (2.21)\n",
            "Requirement already satisfied: urllib3>=1.24.1 in /usr/local/lib/python3.7/dist-packages (from dulwich>=0.20.34->scmrepo==0.0.19->dvc) (1.24.3)\n",
            "Requirement already satisfied: certifi in /usr/local/lib/python3.7/dist-packages (from dulwich>=0.20.34->scmrepo==0.0.19->dvc) (2022.5.18.1)\n",
            "Requirement already satisfied: atpublic>=2.3 in /usr/local/lib/python3.7/dist-packages (from flufl.lock>=5->dvc) (3.0.1)\n",
            "Requirement already satisfied: gitdb<5,>=4.0.1 in /usr/local/lib/python3.7/dist-packages (from gitpython>3->scmrepo==0.0.19->dvc) (4.0.9)\n",
            "Requirement already satisfied: smmap<6,>=3.0.1 in /usr/local/lib/python3.7/dist-packages (from gitdb<5,>=4.0.1->gitpython>3->scmrepo==0.0.19->dvc) (5.0.0)\n",
            "Requirement already satisfied: zipp>=0.5 in /usr/local/lib/python3.7/dist-packages (from importlib-metadata>=1.4->dvc) (3.8.0)\n",
            "Requirement already satisfied: cached-property in /usr/local/lib/python3.7/dist-packages (from pygit2>=1.7.2->scmrepo==0.0.19->dvc) (1.5.2)\n",
            "Requirement already satisfied: python-dateutil<3.0.0,>=2.8.0 in /usr/local/lib/python3.7/dist-packages (from python-benedict>=0.24.2->dvc) (2.8.2)\n",
            "Requirement already satisfied: pyyaml<7.0,>=6.0 in /usr/local/lib/python3.7/dist-packages (from python-benedict>=0.24.2->dvc) (6.0)\n",
            "Requirement already satisfied: python-fsutil<1.0.0,>=0.6.0 in /usr/local/lib/python3.7/dist-packages (from python-benedict>=0.24.2->dvc) (0.6.1)\n",
            "Requirement already satisfied: xmltodict<1.0.0,>=0.12.0 in /usr/local/lib/python3.7/dist-packages (from python-benedict>=0.24.2->dvc) (0.13.0)\n",
            "Requirement already satisfied: mailchecker<5.0.0,>=4.1.0 in /usr/local/lib/python3.7/dist-packages (from python-benedict>=0.24.2->dvc) (4.1.17)\n",
            "Requirement already satisfied: ftfy<7.0.0,>=6.0.0 in /usr/local/lib/python3.7/dist-packages (from python-benedict>=0.24.2->dvc) (6.1.1)\n",
            "Requirement already satisfied: python-slugify<7.0.0,>=6.0.1 in /usr/local/lib/python3.7/dist-packages (from python-benedict>=0.24.2->dvc) (6.1.2)\n",
            "Requirement already satisfied: phonenumbers<9.0.0,>=8.12.0 in /usr/local/lib/python3.7/dist-packages (from python-benedict>=0.24.2->dvc) (8.12.49)\n",
            "Requirement already satisfied: wcwidth>=0.2.5 in /usr/local/lib/python3.7/dist-packages (from ftfy<7.0.0,>=6.0.0->python-benedict>=0.24.2->dvc) (0.2.5)\n",
            "Requirement already satisfied: text-unidecode>=1.3 in /usr/local/lib/python3.7/dist-packages (from python-slugify<7.0.0,>=6.0.1->python-benedict>=0.24.2->dvc) (1.3)\n",
            "Requirement already satisfied: idna<4,>=2.5 in /usr/local/lib/python3.7/dist-packages (from requests>=2.22.0->dvc) (2.10)\n",
            "Requirement already satisfied: charset-normalizer~=2.0.0 in /usr/local/lib/python3.7/dist-packages (from requests>=2.22.0->dvc) (2.0.12)\n",
            "Requirement already satisfied: pygments<3.0.0,>=2.6.0 in /usr/local/lib/python3.7/dist-packages (from rich>=10.13.0->dvc) (2.6.1)\n",
            "Requirement already satisfied: commonmark<0.10.0,>=0.9.0 in /usr/local/lib/python3.7/dist-packages (from rich>=10.13.0->dvc) (0.9.1)\n",
            "Requirement already satisfied: ruamel.yaml.clib>=0.2.6 in /usr/local/lib/python3.7/dist-packages (from ruamel.yaml>=0.17.11->dvc) (0.2.6)\n",
            "Requirement already satisfied: setuptools in /usr/local/lib/python3.7/dist-packages (from zc.lockfile>=1.2.1->dvc) (57.4.0)\n",
            "Requirement already satisfied: frozenlist>=1.1.1 in /usr/local/lib/python3.7/dist-packages (from aiohttp->aiohttp-retry>=2.4.5->dvc) (1.3.0)\n",
            "Requirement already satisfied: yarl<2.0,>=1.0 in /usr/local/lib/python3.7/dist-packages (from aiohttp->aiohttp-retry>=2.4.5->dvc) (1.7.2)\n",
            "Requirement already satisfied: asynctest==0.13.0 in /usr/local/lib/python3.7/dist-packages (from aiohttp->aiohttp-retry>=2.4.5->dvc) (0.13.0)\n",
            "Requirement already satisfied: attrs>=17.3.0 in /usr/local/lib/python3.7/dist-packages (from aiohttp->aiohttp-retry>=2.4.5->dvc) (21.4.0)\n",
            "Requirement already satisfied: multidict<7.0,>=4.5 in /usr/local/lib/python3.7/dist-packages (from aiohttp->aiohttp-retry>=2.4.5->dvc) (6.0.2)\n",
            "Requirement already satisfied: aiosignal>=1.1.2 in /usr/local/lib/python3.7/dist-packages (from aiohttp->aiohttp-retry>=2.4.5->dvc) (1.2.0)\n",
            "Requirement already satisfied: async-timeout<5.0,>=4.0.0a3 in /usr/local/lib/python3.7/dist-packages (from aiohttp->aiohttp-retry>=2.4.5->dvc) (4.0.2)\n"
          ]
        }
      ]
    },
    {
      "cell_type": "code",
      "metadata": {
        "colab": {
          "base_uri": "https://localhost:8080/"
        },
        "id": "QbM8L1OsQQeA",
        "outputId": "c5541b97-8a35-4506-ee0e-858ed7d96dc0"
      },
      "source": [
        "# INICIALIZAMOS DVC EN EL REPO LOCAL\n",
        "!dvc init -f"
      ],
      "execution_count": 21,
      "outputs": [
        {
          "output_type": "stream",
          "name": "stdout",
          "text": [
            "Initialized DVC repository.\n",
            "\n",
            "You can now commit the changes to git.\n",
            "\n",
            "\u001b[31m+---------------------------------------------------------------------+\n",
            "\u001b[0m\u001b[31m|\u001b[0m                                                                     \u001b[31m|\u001b[0m\n",
            "\u001b[31m|\u001b[0m        DVC has enabled anonymous aggregate usage analytics.         \u001b[31m|\u001b[0m\n",
            "\u001b[31m|\u001b[0m     Read the analytics documentation (and how to opt-out) here:     \u001b[31m|\u001b[0m\n",
            "\u001b[31m|\u001b[0m             <\u001b[36mhttps://dvc.org/doc/user-guide/analytics\u001b[39m>              \u001b[31m|\u001b[0m\n",
            "\u001b[31m|\u001b[0m                                                                     \u001b[31m|\u001b[0m\n",
            "\u001b[31m+---------------------------------------------------------------------+\n",
            "\u001b[0m\n",
            "\u001b[33mWhat's next?\u001b[39m\n",
            "\u001b[33m------------\u001b[39m\n",
            "- Check out the documentation: <\u001b[36mhttps://dvc.org/doc\u001b[39m>\n",
            "- Get help and share ideas: <\u001b[36mhttps://dvc.org/chat\u001b[39m>\n",
            "- Star us on GitHub: <\u001b[36mhttps://github.com/iterative/dvc\u001b[39m>\n",
            "\u001b[0m"
          ]
        }
      ]
    },
    {
      "cell_type": "code",
      "metadata": {
        "colab": {
          "base_uri": "https://localhost:8080/"
        },
        "id": "I0sWsEQNQVaB",
        "outputId": "9b66d47d-103e-45fe-f7eb-8dcd64bbec30"
      },
      "source": [
        "# DESCARGA LOS DATOS DE DVC\n",
        "!dvc get https://github.com/iterative/dataset-registry \\\n",
        "          get-started/data.xml -o data/data.xml"
      ],
      "execution_count": 22,
      "outputs": [
        {
          "output_type": "stream",
          "name": "stdout",
          "text": [
            "\u001b[0m"
          ]
        }
      ]
    },
    {
      "cell_type": "code",
      "metadata": {
        "colab": {
          "base_uri": "https://localhost:8080/"
        },
        "id": "WjoqguXyp5YT",
        "outputId": "745d2d54-0a90-410a-faad-6cdddb32745e"
      },
      "source": [
        "# AHORA INCORPORAMOS LOS DATOS EN DVC\n",
        "!dvc add data/data.xml"
      ],
      "execution_count": 23,
      "outputs": [
        {
          "output_type": "stream",
          "name": "stdout",
          "text": [
            "\u001b[2K\u001b[32m⠋\u001b[0m Checking graph\n",
            "Adding...:   0% 0/1 [00:00<?, ?file/s{'info': ''}]\n",
            "!\u001b[A\n",
            "  0% |          |0/? [00:00<?,    ?files/s]\u001b[A\n",
            "                                           \u001b[A\n",
            "Transferring:   0% 0/1 [00:00<?, ?file/s]\u001b[A\n",
            "Transferring:   0% 0/1 [00:00<?, ?file/s{'info': ''}]\u001b[A\n",
            "\n",
            "!\u001b[A\u001b[A\n",
            "\n",
            "  0%|          |data.xml                           0.00/? [00:00<?,        ?B/s]\u001b[A\u001b[A\n",
            "\n",
            "data.xml:   0% 0.00/13.8M [00:00<?, ?B/s{'info': ''}]                           \u001b[A\u001b[A\n",
            "\n",
            "                                                     \u001b[A\u001b[A\n",
            "Transferring: 100% 1/1 [00:00<00:00,  9.48file/s{'info': ''}]\u001b[A\n",
            "                                                             \u001b[A\n",
            "!\u001b[A\n",
            "  0%|          |.JhPrH9ysZmXND2yq5VnxpC.tmp        0.00/? [00:00<?,        ?B/s]\u001b[A\n",
            ".JhPrH9ysZmXND2yq5VnxpC.tmp:   0% 0.00/4.00 [00:00<?, ?B/s{'info': ''}]         \u001b[A\n",
            "                                                                       \u001b[A\n",
            "!\u001b[A\n",
            "  0%|          |a1a2931c8370d3aeedd7183606fd7f     0.00/? [00:00<?,        ?B/s]\u001b[A\n",
            "a1a2931c8370d3aeedd7183606fd7f:   0% 0.00/13.8M [00:00<?, ?B/s{'info': ''}]     \u001b[A\n",
            "Adding...: 100% 1/1 [00:00<00:00,  2.28file/s{'info': ''}]\n",
            "\n",
            "To track the changes with git, run:\n",
            "\n",
            "    git add data/data.xml.dvc\n",
            "\n",
            "To enable auto staging, run:\n",
            "\n",
            "\tdvc config core.autostage true\n",
            "\u001b[0m"
          ]
        }
      ]
    },
    {
      "cell_type": "code",
      "metadata": {
        "colab": {
          "base_uri": "https://localhost:8080/"
        },
        "id": "HA9eKsyXuPSp",
        "outputId": "7cbb609f-116d-4b4f-b52b-d96d82155fb8"
      },
      "source": [
        "# DEFINO MI REMOTO\n",
        "# Con este comando podemos hacer el PUSH a un repositorio externo, en este caso el drive.\n",
        "# Link de doc: https://dvc.org/doc/command-reference/remote/add\n",
        "# Link para obtener un Token de Drive: https://developers.google.com/identity/protocols/oauth2\n",
        "\n",
        "!dvc remote add -d storage /content/drive/MyDrive/test03/dvcstore\n",
        "!git add .dvc/config\n",
        "!git commit -m \"Configure remote storage\""
      ],
      "execution_count": 24,
      "outputs": [
        {
          "output_type": "stream",
          "name": "stdout",
          "text": [
            "Setting 'storage' as a default remote.\n",
            "\u001b[0m[master cf2279d] Configure remote storage\n",
            " 1 file changed, 1 insertion(+), 1 deletion(-)\n"
          ]
        }
      ]
    },
    {
      "cell_type": "code",
      "metadata": {
        "colab": {
          "base_uri": "https://localhost:8080/"
        },
        "id": "h9NNcGNXu9ez",
        "outputId": "bab321ff-cf3e-4b54-8818-644bbc3d0c31"
      },
      "source": [
        "# REALIZO EL PUSH\n",
        "!dvc push"
      ],
      "execution_count": 25,
      "outputs": [
        {
          "output_type": "stream",
          "name": "stdout",
          "text": [
            "Transferring:   0% 0/1 [00:00<?, ?file/s{'info': ''}]\n",
            "!\u001b[A\n",
            "  0%|          |a1a2931c8370d3aeedd7183606fd7f     0.00/? [00:00<?,        ?B/s]\u001b[A\n",
            "a1a2931c8370d3aeedd7183606fd7f:   0% 0.00/13.8M [00:00<?, ?B/s{'info': ''}]     \u001b[A\n",
            "1 file pushed\n",
            "\u001b[0m"
          ]
        }
      ]
    },
    {
      "cell_type": "code",
      "metadata": {
        "id": "__lxiLJBp-XB"
      },
      "source": [
        "!git add data/data.xml.dvc"
      ],
      "execution_count": 26,
      "outputs": []
    },
    {
      "cell_type": "code",
      "metadata": {
        "id": "hS6UL6OgvYIE"
      },
      "source": [
        "!git add ."
      ],
      "execution_count": 27,
      "outputs": []
    },
    {
      "cell_type": "code",
      "metadata": {
        "colab": {
          "base_uri": "https://localhost:8080/"
        },
        "id": "mLDWZsbyo28s",
        "outputId": "cc89005b-578e-4352-d5a0-42e21c918c5a"
      },
      "source": [
        "!git add data/data.xml.dvc data/.gitignore\n",
        "!git commit -m \"Add raw data\""
      ],
      "execution_count": 28,
      "outputs": [
        {
          "output_type": "stream",
          "name": "stdout",
          "text": [
            "[master 3e13846] Add raw data\n",
            " 1 file changed, 10000 insertions(+)\n",
            " create mode 100644 dvcstore/22/a1a2931c8370d3aeedd7183606fd7f\n"
          ]
        }
      ]
    },
    {
      "cell_type": "code",
      "metadata": {
        "colab": {
          "base_uri": "https://localhost:8080/"
        },
        "id": "MrZa6yz8pvf_",
        "outputId": "ea0df793-690c-408c-f2c6-5052081a1620"
      },
      "source": [
        "!pwd"
      ],
      "execution_count": 29,
      "outputs": [
        {
          "output_type": "stream",
          "name": "stdout",
          "text": [
            "/content/drive/MyDrive/test03\n"
          ]
        }
      ]
    },
    {
      "cell_type": "code",
      "metadata": {
        "colab": {
          "base_uri": "https://localhost:8080/"
        },
        "id": "Sk-W9kJbQtn5",
        "outputId": "e3710cd6-d19f-441b-e6c9-60f1bc56c4c2"
      },
      "source": [
        "# Etapas del pipeline, Estos representan procesos (código fuente rastreado con Git) que forman los pasos de una canalización . Las etapas también conectan el código a su entrada y salida de datos correspondiente . Transformemos un script de Python en un escenario : \n",
        "!wget https://code.dvc.org/get-started/code.zip\n",
        "!unzip code.zip\n",
        "!rm -f code.zip\n",
        "!tree"
      ],
      "execution_count": 30,
      "outputs": [
        {
          "output_type": "stream",
          "name": "stdout",
          "text": [
            "--2022-06-03 00:40:53--  https://code.dvc.org/get-started/code.zip\n",
            "Resolving code.dvc.org (code.dvc.org)... 104.21.81.205, 172.67.164.76, 2606:4700:3036::6815:51cd, ...\n",
            "Connecting to code.dvc.org (code.dvc.org)|104.21.81.205|:443... connected.\n",
            "HTTP request sent, awaiting response... 303 See Other\n",
            "Location: https://s3-us-east-2.amazonaws.com/dvc-public/code/get-started/code.zip [following]\n",
            "--2022-06-03 00:40:53--  https://s3-us-east-2.amazonaws.com/dvc-public/code/get-started/code.zip\n",
            "Resolving s3-us-east-2.amazonaws.com (s3-us-east-2.amazonaws.com)... 52.219.109.129\n",
            "Connecting to s3-us-east-2.amazonaws.com (s3-us-east-2.amazonaws.com)|52.219.109.129|:443... connected.\n",
            "HTTP request sent, awaiting response... 200 OK\n",
            "Length: 5800 (5.7K) [application/zip]\n",
            "Saving to: ‘code.zip’\n",
            "\n",
            "code.zip            100%[===================>]   5.66K  --.-KB/s    in 0s      \n",
            "\n",
            "2022-06-03 00:40:53 (121 MB/s) - ‘code.zip’ saved [5800/5800]\n",
            "\n",
            "Archive:  code.zip\n",
            "  inflating: params.yaml             \n",
            "  inflating: src/evaluate.py         \n",
            "  inflating: src/featurization.py    \n",
            "  inflating: src/prepare.py          \n",
            "  inflating: src/requirements.txt    \n",
            "  inflating: src/train.py            \n",
            "   creating: .github/workflows/\n",
            "  inflating: .github/workflows/cml.yaml  \n",
            "  inflating: .devcontainer/Dockerfile  \n",
            "  inflating: .devcontainer/devcontainer.json  \n",
            "/bin/bash: tree: command not found\n"
          ]
        }
      ]
    },
    {
      "cell_type": "code",
      "metadata": {
        "colab": {
          "base_uri": "https://localhost:8080/"
        },
        "id": "lcl95yoPRDej",
        "outputId": "f092b315-66c4-4bae-8928-daac0ff62703"
      },
      "source": [
        "# INICIO DE ETAPA DE EJECUCION DE ML\n",
        "!pip install -r src/requirements.txt"
      ],
      "execution_count": 31,
      "outputs": [
        {
          "output_type": "stream",
          "name": "stdout",
          "text": [
            "Looking in indexes: https://pypi.org/simple, https://us-python.pkg.dev/colab-wheels/public/simple/\n",
            "Requirement already satisfied: dvclive>=0.6 in /usr/local/lib/python3.7/dist-packages (from -r src/requirements.txt (line 1)) (0.8.2)\n",
            "Requirement already satisfied: pandas in /usr/local/lib/python3.7/dist-packages (from -r src/requirements.txt (line 2)) (1.3.5)\n",
            "Requirement already satisfied: pyaml in /usr/local/lib/python3.7/dist-packages (from -r src/requirements.txt (line 3)) (21.10.1)\n",
            "Requirement already satisfied: scikit-learn in /usr/local/lib/python3.7/dist-packages (from -r src/requirements.txt (line 4)) (1.0.2)\n",
            "Requirement already satisfied: scipy in /usr/local/lib/python3.7/dist-packages (from -r src/requirements.txt (line 5)) (1.4.1)\n",
            "Requirement already satisfied: matplotlib in /usr/local/lib/python3.7/dist-packages (from -r src/requirements.txt (line 6)) (3.2.2)\n",
            "Requirement already satisfied: dvc-render in /usr/local/lib/python3.7/dist-packages (from dvclive>=0.6->-r src/requirements.txt (line 1)) (0.0.5)\n",
            "Requirement already satisfied: python-dateutil>=2.7.3 in /usr/local/lib/python3.7/dist-packages (from pandas->-r src/requirements.txt (line 2)) (2.8.2)\n",
            "Requirement already satisfied: numpy>=1.17.3 in /usr/local/lib/python3.7/dist-packages (from pandas->-r src/requirements.txt (line 2)) (1.21.6)\n",
            "Requirement already satisfied: pytz>=2017.3 in /usr/local/lib/python3.7/dist-packages (from pandas->-r src/requirements.txt (line 2)) (2022.1)\n",
            "Requirement already satisfied: six>=1.5 in /usr/local/lib/python3.7/dist-packages (from python-dateutil>=2.7.3->pandas->-r src/requirements.txt (line 2)) (1.15.0)\n",
            "Requirement already satisfied: PyYAML in /usr/local/lib/python3.7/dist-packages (from pyaml->-r src/requirements.txt (line 3)) (6.0)\n",
            "Requirement already satisfied: joblib>=0.11 in /usr/local/lib/python3.7/dist-packages (from scikit-learn->-r src/requirements.txt (line 4)) (1.1.0)\n",
            "Requirement already satisfied: threadpoolctl>=2.0.0 in /usr/local/lib/python3.7/dist-packages (from scikit-learn->-r src/requirements.txt (line 4)) (3.1.0)\n",
            "Requirement already satisfied: kiwisolver>=1.0.1 in /usr/local/lib/python3.7/dist-packages (from matplotlib->-r src/requirements.txt (line 6)) (1.4.2)\n",
            "Requirement already satisfied: cycler>=0.10 in /usr/local/lib/python3.7/dist-packages (from matplotlib->-r src/requirements.txt (line 6)) (0.11.0)\n",
            "Requirement already satisfied: pyparsing!=2.0.4,!=2.1.2,!=2.1.6,>=2.0.1 in /usr/local/lib/python3.7/dist-packages (from matplotlib->-r src/requirements.txt (line 6)) (3.0.9)\n",
            "Requirement already satisfied: typing-extensions in /usr/local/lib/python3.7/dist-packages (from kiwisolver>=1.0.1->matplotlib->-r src/requirements.txt (line 6)) (4.2.0)\n",
            "Requirement already satisfied: tabulate>=0.8.7 in /usr/local/lib/python3.7/dist-packages (from dvc-render->dvclive>=0.6->-r src/requirements.txt (line 1)) (0.8.9)\n",
            "Requirement already satisfied: funcy>=1.17 in /usr/local/lib/python3.7/dist-packages (from dvc-render->dvclive>=0.6->-r src/requirements.txt (line 1)) (1.17)\n"
          ]
        }
      ]
    },
    {
      "cell_type": "code",
      "metadata": {
        "colab": {
          "base_uri": "https://localhost:8080/"
        },
        "id": "9aPANy2cRGAR",
        "outputId": "f78871a2-3ef4-4e84-d51b-703c34e21a89"
      },
      "source": [
        "# FASE DE PREPARACION DE DATOS\n",
        "# EN PARALELO DVC CONTROLA LAS ETAPAS DE EJECUCION DE ML - ESPERAMOS EL ARCHIVO DVC.YAML\n",
        "!dvc run -n prepare \\\n",
        "          -p prepare.seed,prepare.split \\\n",
        "          -d src/prepare.py -d data/data.xml \\\n",
        "          -o data/prepared \\\n",
        "          python src/prepare.py data/data.xml"
      ],
      "execution_count": 32,
      "outputs": [
        {
          "output_type": "stream",
          "name": "stdout",
          "text": [
            "\r!\rIf DVC froze, see `hardlink_lock` in <\u001b[36mhttps://man.dvc.org/config#core\u001b[39m>\r                                                                      \rRunning stage 'prepare':\n",
            "> python src/prepare.py data/data.xml\n",
            "Transferring:   0% 0/3 [00:00<?, ?file/s{'info': ''}]\n",
            "!\u001b[A\n",
            "  0%|          |train.tsv                          0.00/? [00:00<?,        ?B/s]\u001b[A\n",
            "train.tsv:   0% 0.00/6.42M [00:00<?, ?B/s{'info': ''}]                          \u001b[A\n",
            "\n",
            "!\u001b[A\u001b[A\n",
            "\n",
            "  0%|          |test.tsv                           0.00/? [00:00<?,        ?B/s]\u001b[A\u001b[A\n",
            "\n",
            "test.tsv:   0% 0.00/1.63M [00:00<?, ?B/s{'info': ''}]                           \u001b[A\u001b[A\n",
            "\n",
            "Transferring:  33% 1/3 [00:00<00:00,  7.43file/s{'info': ''}]\n",
            "train.tsv: 100% 6.42M/6.42M [00:00<00:00, 67.1MB/s{'info': ''}]\u001b[A\n",
            "                                                               \u001b[A\n",
            "!\u001b[A\n",
            "  0%|          |3aad06d376b6595932470e459ef42a.dir 0.00/? [00:00<?,        ?B/s]\u001b[A\n",
            "3aad06d376b6595932470e459ef42a.dir:   0% 0.00/137 [00:00<?, ?B/s{'info': ''}]   \u001b[A\n",
            "Creating 'dvc.yaml'\n",
            "Adding stage 'prepare' in 'dvc.yaml'\n",
            "Generating lock file 'dvc.lock'\n",
            "Updating lock file 'dvc.lock'\n",
            "\n",
            "To track the changes with git, run:\n",
            "\n",
            "    git add data/.gitignore dvc.lock dvc.yaml\n",
            "\n",
            "To enable auto staging, run:\n",
            "\n",
            "\tdvc config core.autostage true\n",
            "\u001b[0m"
          ]
        }
      ]
    },
    {
      "cell_type": "code",
      "metadata": {
        "id": "Q48uC0ick6uB"
      },
      "source": [
        "# INCORPORAMOS LOS ARCHIVOS A GIT\n",
        "!git add dvc.yaml data/.gitignore dvc.lock"
      ],
      "execution_count": 33,
      "outputs": []
    },
    {
      "cell_type": "code",
      "metadata": {
        "colab": {
          "base_uri": "https://localhost:8080/"
        },
        "id": "53fwDSqvTXA9",
        "outputId": "40d355ba-4a38-4812-f1f4-87e4772aa6ff"
      },
      "source": [
        "# FASE DE FEATURIZE -> CONVIERTE LOS DATOS CATEGORIA EN DATOS \n",
        "!dvc run -n featurize \\\n",
        "          -p featurize.max_features,featurize.ngrams \\\n",
        "          -d src/featurization.py -d data/prepared \\\n",
        "          -o data/features \\\n",
        "          python src/featurization.py data/prepared data/features"
      ],
      "execution_count": 34,
      "outputs": [
        {
          "output_type": "stream",
          "name": "stdout",
          "text": [
            "\r!\rIf DVC froze, see `hardlink_lock` in <\u001b[36mhttps://man.dvc.org/config#core\u001b[39m>\r                                                                      \rRunning stage 'featurize':\n",
            "> python src/featurization.py data/prepared data/features\n",
            "The input data frame data/prepared/train.tsv size is (7996, 3)\n",
            "The output matrix data/features/train.pkl size is (7996, 102) and data type is float64\n",
            "The input data frame data/prepared/test.tsv size is (2004, 3)\n",
            "The output matrix data/features/test.pkl size is (2004, 102) and data type is float64\n",
            "Transferring:   0% 0/3 [00:00<?, ?file/s{'info': ''}]\n",
            "!\u001b[A\n",
            "  0%|          |test.pkl                           0.00/? [00:00<?,        ?B/s]\u001b[A\n",
            "test.pkl:   0% 0.00/303k [00:00<?, ?B/s{'info': ''}]                            \u001b[A\n",
            "\n",
            "!\u001b[A\u001b[A\n",
            "\n",
            "  0%|          |train.pkl                          0.00/? [00:00<?,        ?B/s]\u001b[A\u001b[A\n",
            "\n",
            "train.pkl:   0% 0.00/1.19M [00:00<?, ?B/s{'info': ''}]                          \u001b[A\u001b[A\n",
            "                                                    \u001b[A\n",
            "\n",
            "                                                      \u001b[A\u001b[A\n",
            "!\u001b[A\n",
            "  0%|          |0d9323b503cff76f51831495105355.dir 0.00/? [00:00<?,        ?B/s]\u001b[A\n",
            "0d9323b503cff76f51831495105355.dir:   0% 0.00/137 [00:00<?, ?B/s{'info': ''}]   \u001b[A\n",
            "Adding stage 'featurize' in 'dvc.yaml'\n",
            "Updating lock file 'dvc.lock'\n",
            "\n",
            "To track the changes with git, run:\n",
            "\n",
            "    git add dvc.lock dvc.yaml data/.gitignore\n",
            "\n",
            "To enable auto staging, run:\n",
            "\n",
            "\tdvc config core.autostage true\n",
            "\u001b[0m"
          ]
        }
      ]
    },
    {
      "cell_type": "code",
      "metadata": {
        "id": "mcuq84_vedLd"
      },
      "source": [
        "# INCORPORAMOS LOS ARCHIVOS A GIT\n",
        "!git add dvc.lock data/.gitignore dvc.yaml"
      ],
      "execution_count": 35,
      "outputs": []
    },
    {
      "cell_type": "code",
      "source": [
        "!dvc run -d data/prepares -d myscript.py -o data/prepared/prepared_data.csv -f data_preparation.dvc python3 myscript.py"
      ],
      "metadata": {
        "colab": {
          "base_uri": "https://localhost:8080/"
        },
        "id": "mH7mK13IBTMw",
        "outputId": "7e4a0ce6-e2ce-4065-e57b-d152b0bc6e81"
      },
      "execution_count": 42,
      "outputs": [
        {
          "output_type": "stream",
          "name": "stdout",
          "text": [
            "\r!\rIf DVC froze, see `hardlink_lock` in <\u001b[36mhttps://man.dvc.org/config#core\u001b[39m>\r                                                                      \r\u001b[31mERROR\u001b[39m: `-n|--name` is required\n",
            "\u001b[0m"
          ]
        }
      ]
    },
    {
      "cell_type": "code",
      "metadata": {
        "colab": {
          "base_uri": "https://localhost:8080/"
        },
        "id": "5V1XlEnTtHhx",
        "outputId": "4f117720-5718-4db9-fd25-3e16a375c70e"
      },
      "source": [
        "!dvc add data"
      ],
      "execution_count": 36,
      "outputs": [
        {
          "output_type": "stream",
          "name": "stdout",
          "text": [
            "\u001b[?25l\u001b[32m⠋\u001b[0m Checking graph\n",
            "\u001b[1A\u001b[2K\u001b[31mERROR\u001b[39m: Cannot add '/content/drive/MyDrive/test03/data/prepared', because it is overlapping with other DVC tracked output: '/content/drive/MyDrive/test03/data'.\n",
            "To include '/content/drive/MyDrive/test03/data/prepared' in '/content/drive/MyDrive/test03/data', run 'dvc commit data.dvc'\n",
            "\u001b[0m"
          ]
        }
      ]
    },
    {
      "cell_type": "code",
      "metadata": {
        "colab": {
          "base_uri": "https://localhost:8080/"
        },
        "id": "y_wgXQfj7hYG",
        "outputId": "e466d638-71ea-4526-a3b0-092b7ad9ea93"
      },
      "source": [
        "# FASE DE ENTRENAMIENTO\n",
        "!dvc run -n train \\\n",
        "          -p train.seed,train.n_est,train.min_split \\\n",
        "          -d src/train.py -d data/features \\\n",
        "          -o model.pkl \\\n",
        "          python src/train.py data/features model.pkl"
      ],
      "execution_count": 43,
      "outputs": [
        {
          "output_type": "stream",
          "name": "stdout",
          "text": [
            "\r!\rIf DVC froze, see `hardlink_lock` in <\u001b[36mhttps://man.dvc.org/config#core\u001b[39m>\r                                                                      \rRunning stage 'train':\n",
            "> python src/train.py data/features model.pkl\n",
            "Input matrix size (7996, 102)\n",
            "X matrix size (7996, 100)\n",
            "Y matrix size (7996,)\n",
            "Transferring:   0% 0/1 [00:00<?, ?file/s{'info': ''}]\n",
            "!\u001b[A\n",
            "  0%|          |model.pkl                          0.00/? [00:00<?,        ?B/s]\u001b[A\n",
            "model.pkl:   0% 0.00/1.60M [00:00<?, ?B/s{'info': ''}]                          \u001b[A\n",
            "Adding stage 'train' in 'dvc.yaml'\n",
            "Updating lock file 'dvc.lock'\n",
            "\n",
            "To track the changes with git, run:\n",
            "\n",
            "    git add dvc.lock .gitignore dvc.yaml\n",
            "\n",
            "To enable auto staging, run:\n",
            "\n",
            "\tdvc config core.autostage true\n",
            "\u001b[0m"
          ]
        }
      ]
    },
    {
      "cell_type": "code",
      "metadata": {
        "id": "4RU6WXoneqTz"
      },
      "source": [
        "# INCORPORAMOS LOS ARCHIVOS A GIT\n",
        "!git add dvc.yaml dvc.lock .gitignore"
      ],
      "execution_count": 44,
      "outputs": []
    },
    {
      "cell_type": "code",
      "metadata": {
        "colab": {
          "base_uri": "https://localhost:8080/"
        },
        "id": "zBFnQaUL7iJn",
        "outputId": "131828ba-ef48-4134-ac0f-0e141e967c60"
      },
      "source": [
        "# FASE DE EVALUACION LA SALIDA ESTA EN EL ROOT\n",
        "!dvc run -n evaluate \\\n",
        "          -d src/evaluate.py -d model.pkl -d data/features \\\n",
        "          -M scores.json \\\n",
        "          --plots-no-cache prc.json \\\n",
        "          --plots-no-cache roc.json \\\n",
        "          python src/evaluate.py model.pkl \\\n",
        "                 data/features scores.json prc.json roc.json"
      ],
      "execution_count": 45,
      "outputs": [
        {
          "output_type": "stream",
          "name": "stdout",
          "text": [
            "\r!\rIf DVC froze, see `hardlink_lock` in <\u001b[36mhttps://man.dvc.org/config#core\u001b[39m>\r                                                                      \rRunning stage 'evaluate':\n",
            "> python src/evaluate.py model.pkl data/features scores.json prc.json roc.json\n",
            "INFO:dvclive:Report path (if generated): /content/drive/MyDrive/test03/evaluation/report.html\n",
            "Arguments error. Usage:\n",
            "\tpython evaluate.py model features\n",
            "\u001b[31mERROR\u001b[39m: failed to run: python src/evaluate.py model.pkl data/features scores.json prc.json roc.json, exited with 1\n",
            "\u001b[0m"
          ]
        }
      ]
    },
    {
      "cell_type": "code",
      "metadata": {
        "id": "uOQJC8VcevEg"
      },
      "source": [
        "# INCORPORAMOS LOS ARCHIVOS A GIT\n",
        "!git add dvc.yaml dvc.lock .gitignore"
      ],
      "execution_count": 46,
      "outputs": []
    },
    {
      "cell_type": "code",
      "metadata": {
        "colab": {
          "base_uri": "https://localhost:8080/"
        },
        "id": "Ehke3D837lnZ",
        "outputId": "db30d736-1e90-4611-c35c-865505346a57"
      },
      "source": [
        "# evalua el archivo params.yaml segun sus cambios y ejecuta el que recibio modificaciones\n",
        "!dvc repro"
      ],
      "execution_count": 47,
      "outputs": [
        {
          "output_type": "stream",
          "name": "stdout",
          "text": [
            "\r!\rIf DVC froze, see `hardlink_lock` in <\u001b[36mhttps://man.dvc.org/config#core\u001b[39m>\r                                                                      \r'data/data.xml.dvc' didn't change, skipping\n",
            "Stage 'prepare' didn't change, skipping\n",
            "Stage 'featurize' didn't change, skipping\n",
            "Stage 'train' didn't change, skipping\n",
            "Data and pipelines are up to date.\n",
            "\u001b[0m"
          ]
        }
      ]
    },
    {
      "cell_type": "code",
      "metadata": {
        "colab": {
          "base_uri": "https://localhost:8080/"
        },
        "id": "qndc7qGNrCd0",
        "outputId": "eb6067d4-7874-49f7-9f01-7e8b7f272382"
      },
      "source": [
        "!dvc push"
      ],
      "execution_count": 48,
      "outputs": [
        {
          "output_type": "stream",
          "name": "stdout",
          "text": [
            "Transferring:   0% 0/7 [00:00<?, ?file/s{'info': ''}]\n",
            "!\u001b[A\n",
            "  0%|          |a281786366acca17632c27c5c5cc75     0.00/? [00:00<?,        ?B/s]\u001b[A\n",
            "a281786366acca17632c27c5c5cc75:   0% 0.00/6.42M [00:00<?, ?B/s{'info': ''}]     \u001b[A\n",
            "\n",
            "!\u001b[A\u001b[A\n",
            "\n",
            "  0%|          |56f1a8273d0c541340cb129fd5d5a9     0.00/? [00:00<?,        ?B/s]\u001b[A\u001b[A\n",
            "\n",
            "56f1a8273d0c541340cb129fd5d5a9:   0% 0.00/1.63M [00:00<?, ?B/s{'info': ''}]     \u001b[A\u001b[A\n",
            "\n",
            "                                                                           \u001b[A\u001b[A\n",
            "Transferring:  14% 1/7 [00:00<00:00,  8.72file/s{'info': ''}]\n",
            "!\u001b[A\n",
            "  0%|          |3aad06d376b6595932470e459ef42a.dir 0.00/? [00:00<?,        ?B/s]\u001b[A\n",
            "3aad06d376b6595932470e459ef42a.dir:   0% 0.00/137 [00:00<?, ?B/s{'info': ''}]   \u001b[A\n",
            "                                                                             \u001b[A\n",
            "!\u001b[A\n",
            "  0%|          |43089846b4b9a503ae21a82826ce3d     0.00/? [00:00<?,        ?B/s]\u001b[A\n",
            "43089846b4b9a503ae21a82826ce3d:   0% 0.00/1.19M [00:00<?, ?B/s{'info': ''}]     \u001b[A\n",
            "\n",
            "!\u001b[A\u001b[A\n",
            "\n",
            "  0%|          |7294a200c07bc22dab617216c1ea2a     0.00/? [00:00<?,        ?B/s]\u001b[A\u001b[A\n",
            "\n",
            "7294a200c07bc22dab617216c1ea2a:   0% 0.00/303k [00:00<?, ?B/s{'info': ''}]      \u001b[A\u001b[A\n",
            "                                                                           \u001b[A\n",
            "\n",
            "                                                                          \u001b[A\u001b[A\n",
            "!\u001b[A\n",
            "  0%|          |0d9323b503cff76f51831495105355.dir 0.00/? [00:00<?,        ?B/s]\u001b[A\n",
            "0d9323b503cff76f51831495105355.dir:   0% 0.00/137 [00:00<?, ?B/s{'info': ''}]   \u001b[A\n",
            "Transferring:  86% 6/7 [00:00<00:00, 27.27file/s{'info': ''}]\n",
            "!\u001b[A\n",
            "  0%|          |7d14263c85df3d314d71c8ae7774db     0.00/? [00:00<?,        ?B/s]\u001b[A\n",
            "7d14263c85df3d314d71c8ae7774db:   0% 0.00/1.60M [00:00<?, ?B/s{'info': ''}]     \u001b[A\n",
            "7 files pushed\n",
            "\u001b[0m"
          ]
        }
      ]
    },
    {
      "cell_type": "code",
      "metadata": {
        "colab": {
          "base_uri": "https://localhost:8080/"
        },
        "id": "iNU9kxHC7rHm",
        "outputId": "7b79fb91-1eab-46b1-b7cc-2b17af2a17d1"
      },
      "source": [
        "# Listamos todos los archivos en el directorio (Tambien los ocultos) \n",
        "# ahora se vera una carpeta .dvc como se observa en la ultima ejecucion \n",
        "!ls -als"
      ],
      "execution_count": 49,
      "outputs": [
        {
          "output_type": "stream",
          "name": "stdout",
          "text": [
            "total 1675\n",
            "   4 drwx------ 4 root root    4096 Jun  3 00:41 data\n",
            "   4 drwx------ 2 root root    4096 Jun  3 00:40 .devcontainer\n",
            "   4 drwx------ 4 root root    4096 Jun  3 00:40 .dvc\n",
            "   1 -rw------- 1 root root     139 Jun  3 00:36 .dvcignore\n",
            "   2 -rw------- 1 root root    1460 Jun  3 00:55 dvc.lock\n",
            "   4 drwx------ 9 root root    4096 Jun  3 01:01 dvcstore\n",
            "   1 -rw------- 1 root root     631 Jun  3 00:55 dvc.yaml\n",
            "   4 drwx------ 2 root root    4096 Jun  3 00:58 evaluation\n",
            "   4 drwx------ 8 root root    4096 Jun  3 01:01 .git\n",
            "   4 drwx------ 3 root root    4096 Jun  3 00:40 .github\n",
            "   1 -rw------- 1 root root      11 Jun  3 00:55 .gitignore\n",
            "1638 -rw------- 1 root root 1676910 Jun  3 00:55 model.pkl\n",
            "   1 -rw------- 1 root root     140 May 24 15:02 params.yaml\n",
            "   1 -rw------- 1 root root      10 Jun  3 00:36 README.md\n",
            "   4 drwx------ 2 root root    4096 Jun  3 00:40 src\n"
          ]
        }
      ]
    },
    {
      "cell_type": "code",
      "metadata": {
        "colab": {
          "base_uri": "https://localhost:8080/"
        },
        "id": "B9WbFC3DoJiz",
        "outputId": "ac14f94e-1327-4fda-f068-e9019834a403"
      },
      "source": [
        "!mkdir -p /home/shared/dvcstore\n",
        "!dvc cache dir /home/shared/dvcstore"
      ],
      "execution_count": 50,
      "outputs": [
        {
          "output_type": "stream",
          "name": "stdout",
          "text": [
            "\u001b[0m"
          ]
        }
      ]
    },
    {
      "cell_type": "code",
      "metadata": {
        "colab": {
          "base_uri": "https://localhost:8080/"
        },
        "id": "aL7BynhMmLLX",
        "outputId": "a6834bd8-f452-487d-b712-c212c17656be"
      },
      "source": [
        "!dvc push"
      ],
      "execution_count": 51,
      "outputs": [
        {
          "output_type": "stream",
          "name": "stdout",
          "text": [
            "Transferring:   0% 0/1 [00:00<?, ?file/s{'info': ''}]\n",
            "!\u001b[A\n",
            "  0%|          |3aad06d376b6595932470e459ef42a.dir 0.00/? [00:00<?,        ?B/s]\u001b[A\n",
            "3aad06d376b6595932470e459ef42a.dir:   0% 0.00/137 [00:00<?, ?B/s{'info': ''}]   \u001b[A\n",
            "Transferring:   0% 0/1 [00:00<?, ?file/s{'info': ''}]\n",
            "!\u001b[A\n",
            "  0%|          |0d9323b503cff76f51831495105355.dir 0.00/? [00:00<?,        ?B/s]\u001b[A\n",
            "0d9323b503cff76f51831495105355.dir:   0% 0.00/137 [00:00<?, ?B/s{'info': ''}]   \u001b[A\n",
            "Everything is up to date.\n",
            "\u001b[0m"
          ]
        }
      ]
    },
    {
      "cell_type": "code",
      "metadata": {
        "colab": {
          "base_uri": "https://localhost:8080/"
        },
        "id": "QXSOWKWc70Ox",
        "outputId": "e31eaf26-ed59-4591-e2d3-7337465deae8"
      },
      "source": [
        "!pwd"
      ],
      "execution_count": 52,
      "outputs": [
        {
          "output_type": "stream",
          "name": "stdout",
          "text": [
            "/content/drive/MyDrive/test03\n"
          ]
        }
      ]
    },
    {
      "cell_type": "code",
      "metadata": {
        "colab": {
          "base_uri": "https://localhost:8080/"
        },
        "id": "-M-QSWfM9gT5",
        "outputId": "ebd6e4f2-f597-4ba2-f9a9-de0328151eab"
      },
      "source": [
        "# EJECUTAMOS EL COMMIT PARA INCORPORAR DVC AL REPO REMOTO\n",
        "! git commit -a -m \"subo octa.txt\""
      ],
      "execution_count": 53,
      "outputs": [
        {
          "output_type": "stream",
          "name": "stdout",
          "text": [
            "[master fbbe96d] subo octa.txt\n",
            " 5 files changed, 95 insertions(+)\n",
            " create mode 100644 .gitignore\n",
            " create mode 100644 dvc.lock\n",
            " create mode 100644 dvc.yaml\n"
          ]
        }
      ]
    },
    {
      "cell_type": "code",
      "metadata": {
        "colab": {
          "base_uri": "https://localhost:8080/"
        },
        "id": "gTkVOoZy9iYs",
        "outputId": "d0ea1479-2beb-4862-a4ab-0880fe846ed4"
      },
      "source": [
        "# INCORPORAMOS LA INSTALACION DE DVC\n",
        "! git push origin master "
      ],
      "execution_count": 76,
      "outputs": [
        {
          "output_type": "stream",
          "name": "stdout",
          "text": [
            "fatal: 'origin' does not appear to be a git repository\n",
            "fatal: Could not read from remote repository.\n",
            "\n",
            "Please make sure you have the correct access rights\n",
            "and the repository exists.\n"
          ]
        }
      ]
    },
    {
      "cell_type": "code",
      "metadata": {
        "colab": {
          "base_uri": "https://localhost:8080/"
        },
        "id": "0LhdW-vn_Ukf",
        "outputId": "e59bca5c-6d9e-4c03-cd97-9c6b7b6b3795"
      },
      "source": [
        "!dvc status"
      ],
      "execution_count": 60,
      "outputs": [
        {
          "output_type": "stream",
          "name": "stdout",
          "text": [
            "prepare:\n",
            "\tchanged outs:\n",
            "\t\tnot in cache:       data/prepared\n",
            "featurize:\n",
            "\tchanged outs:\n",
            "\t\tnot in cache:       data/features\n",
            "train:\n",
            "\tchanged outs:\n",
            "\t\tnot in cache:       model.pkl\n",
            "data/data.xml.dvc:\n",
            "\tchanged outs:\n",
            "\t\tnot in cache:       data/data.xml\n",
            "\u001b[0m"
          ]
        }
      ]
    },
    {
      "cell_type": "code",
      "metadata": {
        "colab": {
          "base_uri": "https://localhost:8080/"
        },
        "id": "OlcNTiGP_kWN",
        "outputId": "f1f48253-6d31-482c-92b8-8c624016374f"
      },
      "source": [
        "! git commit -a -m \"Actualizo archivo txt test03\"\n",
        "!git add .\n",
        "!git push origin master"
      ],
      "execution_count": 123,
      "outputs": [
        {
          "output_type": "stream",
          "name": "stdout",
          "text": [
            "[master a60b0c1] Actualizo archivo txt test03\n",
            " 17 files changed, 10324 insertions(+), 1 deletion(-)\n",
            " create mode 100644 .devcontainer/Dockerfile\n",
            " create mode 100644 .devcontainer/devcontainer.json\n",
            " create mode 100644 .github/workflows/cml.yaml\n",
            " create mode 100644 dvcstore/15/3aad06d376b6595932470e459ef42a.dir\n",
            " create mode 100644 dvcstore/4d/7294a200c07bc22dab617216c1ea2a\n",
            " create mode 100644 dvcstore/5d/7d14263c85df3d314d71c8ae7774db\n",
            " create mode 100644 dvcstore/9c/a281786366acca17632c27c5c5cc75\n",
            " create mode 100644 dvcstore/b6/56f1a8273d0c541340cb129fd5d5a9\n",
            " create mode 100644 dvcstore/c1/0d9323b503cff76f51831495105355.dir\n",
            " create mode 100644 dvcstore/c1/43089846b4b9a503ae21a82826ce3d\n",
            " create mode 100644 params.yaml\n",
            " create mode 100644 src/evaluate.py\n",
            " create mode 100644 src/featurization.py\n",
            " create mode 100644 src/prepare.py\n",
            " create mode 100644 src/requirements.txt\n",
            " create mode 100644 src/train.py\n",
            "Counting objects: 30, done.\n",
            "Delta compression using up to 2 threads.\n",
            "Compressing objects: 100% (28/28), done.\n",
            "Writing objects: 100% (30/30), 4.37 MiB | 4.52 MiB/s, done.\n",
            "Total 30 (delta 1), reused 0 (delta 0)\n",
            "To https://dagshub.com/octagomez.cba/test03\n",
            "   dccd974..a60b0c1  master -> master\n"
          ]
        }
      ]
    },
    {
      "cell_type": "code",
      "source": [
        "# TRAER DATOS DEL REPO REMOTO\n",
        "\n",
        "!git pull origin master"
      ],
      "metadata": {
        "colab": {
          "base_uri": "https://localhost:8080/"
        },
        "id": "nfXMf6UuGwUV",
        "outputId": "239354f5-d9b8-4840-fff0-7b17ce0139ed"
      },
      "execution_count": 119,
      "outputs": [
        {
          "output_type": "stream",
          "name": "stdout",
          "text": [
            "From https://dagshub.com/octagomez.cba/test03\n",
            " * branch            master     -> FETCH_HEAD\n",
            "Already up to date.\n"
          ]
        }
      ]
    },
    {
      "cell_type": "code",
      "source": [
        "!git fetch "
      ],
      "metadata": {
        "id": "dcgKkDv4NSDm"
      },
      "execution_count": 117,
      "outputs": []
    },
    {
      "cell_type": "code",
      "source": [
        "!git --help"
      ],
      "metadata": {
        "colab": {
          "base_uri": "https://localhost:8080/"
        },
        "id": "0HbNtQJ6MSbt",
        "outputId": "d5a96530-3bff-47ae-b80d-22c2006f5502"
      },
      "execution_count": 107,
      "outputs": [
        {
          "output_type": "stream",
          "name": "stdout",
          "text": [
            "usage: git [--version] [--help] [-C <path>] [-c <name>=<value>]\n",
            "           [--exec-path[=<path>]] [--html-path] [--man-path] [--info-path]\n",
            "           [-p | --paginate | --no-pager] [--no-replace-objects] [--bare]\n",
            "           [--git-dir=<path>] [--work-tree=<path>] [--namespace=<name>]\n",
            "           <command> [<args>]\n",
            "\n",
            "These are common Git commands used in various situations:\n",
            "\n",
            "start a working area (see also: git help tutorial)\n",
            "   clone      Clone a repository into a new directory\n",
            "   init       Create an empty Git repository or reinitialize an existing one\n",
            "\n",
            "work on the current change (see also: git help everyday)\n",
            "   add        Add file contents to the index\n",
            "   mv         Move or rename a file, a directory, or a symlink\n",
            "   reset      Reset current HEAD to the specified state\n",
            "   rm         Remove files from the working tree and from the index\n",
            "\n",
            "examine the history and state (see also: git help revisions)\n",
            "   bisect     Use binary search to find the commit that introduced a bug\n",
            "   grep       Print lines matching a pattern\n",
            "   log        Show commit logs\n",
            "   show       Show various types of objects\n",
            "   status     Show the working tree status\n",
            "\n",
            "grow, mark and tweak your common history\n",
            "   branch     List, create, or delete branches\n",
            "   checkout   Switch branches or restore working tree files\n",
            "   commit     Record changes to the repository\n",
            "   diff       Show changes between commits, commit and working tree, etc\n",
            "   merge      Join two or more development histories together\n",
            "   rebase     Reapply commits on top of another base tip\n",
            "   tag        Create, list, delete or verify a tag object signed with GPG\n",
            "\n",
            "collaborate (see also: git help workflows)\n",
            "   fetch      Download objects and refs from another repository\n",
            "   pull       Fetch from and integrate with another repository or a local branch\n",
            "   push       Update remote refs along with associated objects\n",
            "\n",
            "'git help -a' and 'git help -g' list available subcommands and some\n",
            "concept guides. See 'git help <command>' or 'git help <concept>'\n",
            "to read about a specific subcommand or concept.\n"
          ]
        }
      ]
    }
  ]
}