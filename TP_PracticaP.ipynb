{
  "nbformat": 4,
  "nbformat_minor": 0,
  "metadata": {
    "colab": {
      "name": "TP_PracticaP.ipynb",
      "provenance": [],
      "collapsed_sections": []
    },
    "kernelspec": {
      "name": "python3",
      "display_name": "Python 3"
    },
    "language_info": {
      "name": "python"
    }
  },
  "cells": [
    {
      "cell_type": "markdown",
      "source": [
        "#TRABAJO PRÁCTICO DE INCIDENTES VIALES\n",
        "\n",
        "Modelos Supervisados"
      ],
      "metadata": {
        "id": "HEG5SZbWersX"
      }
    },
    {
      "cell_type": "code",
      "execution_count": 95,
      "metadata": {
        "id": "d4qEDK1WepuL"
      },
      "outputs": [],
      "source": [
        "# Tratamiento de datos\n",
        "# ==============================================================================\n",
        "import numpy as np\n",
        "import pandas as pd\n",
        "from tabulate import tabulate\n",
        "\n",
        "# Gráficos\n",
        "# ==============================================================================\n",
        "import matplotlib.pyplot as plt\n",
        "from matplotlib import style\n",
        "import matplotlib.ticker as ticker\n",
        "import seaborn as sns\n",
        "\n",
        "# Preprocesado y modelado\n",
        "# ==============================================================================\n",
        "from sklearn.model_selection import train_test_split\n",
        "from sklearn.model_selection import GridSearchCV\n",
        "from sklearn.model_selection import RepeatedKFold\n",
        "from sklearn.neighbors import KNeighborsClassifier\n",
        "from sklearn.datasets import make_blobs\n",
        "from sklearn.metrics import euclidean_distances\n",
        "from sklearn.neighbors import KNeighborsClassifier\n",
        "from sklearn.ensemble import RandomForestClassifier\n",
        "from sklearn.linear_model import Ridge\n",
        "from sklearn.preprocessing import LabelEncoder\n",
        "from imblearn.over_sampling import RandomOverSampler\n",
        "# LIBRERIAS PARA PREDICCION DE DATOS\n",
        "from sklearn import linear_model, neural_network, ensemble\n",
        "from sklearn.naive_bayes import MultinomialNB\n",
        "from sklearn.tree import DecisionTreeClassifier\n",
        "from sklearn.model_selection import KFold\n",
        "from xgboost import XGBRegressor, XGBRFRegressor, XGBClassifier, XGBRFClassifier\n",
        "\n",
        "# LIBRERIAS PARA BALANCEO SEPARACION Y ANALISIS\n",
        "from sklearn.model_selection import train_test_split, GridSearchCV, StratifiedKFold\n",
        "from sklearn.metrics import accuracy_score, ConfusionMatrixDisplay, classification_report,  mean_squared_error, r2_score, plot_confusion_matrix\n",
        "from imblearn.over_sampling import RandomOverSampler\n",
        "\n",
        "# Configuración warnings\n",
        "# ==============================================================================\n",
        "import warnings\n",
        "warnings.filterwarnings('ignore')"
      ]
    },
    {
      "cell_type": "code",
      "source": [
        "from google.colab import drive\n",
        "drive.mount('/content/drive')"
      ],
      "metadata": {
        "colab": {
          "base_uri": "https://localhost:8080/"
        },
        "id": "dqKZR0R1eq3c",
        "outputId": "95bcf091-5883-4e80-cdc3-393804148d62"
      },
      "execution_count": 2,
      "outputs": [
        {
          "output_type": "stream",
          "name": "stdout",
          "text": [
            "Mounted at /content/drive\n"
          ]
        }
      ]
    },
    {
      "cell_type": "code",
      "source": [
        "df=pd.read_csv(\"/content/drive/MyDrive/Acc_ok.csv\", sep=\",\" )"
      ],
      "metadata": {
        "id": "qe_ZzZY0eq6D"
      },
      "execution_count": 68,
      "outputs": []
    },
    {
      "cell_type": "code",
      "source": [
        "print(df.shape)"
      ],
      "metadata": {
        "colab": {
          "base_uri": "https://localhost:8080/"
        },
        "id": "kCwnyNqAeq8d",
        "outputId": "48e03a35-bc38-4431-97c1-1b34afb12ad2"
      },
      "execution_count": 69,
      "outputs": [
        {
          "output_type": "stream",
          "name": "stdout",
          "text": [
            "(232872, 19)\n"
          ]
        }
      ]
    },
    {
      "cell_type": "code",
      "source": [
        "df.head(10)"
      ],
      "metadata": {
        "colab": {
          "base_uri": "https://localhost:8080/",
          "height": 652
        },
        "id": "gRLMmyYMeq-7",
        "outputId": "f157b0e6-bd30-4659-855c-7746b9706439"
      },
      "execution_count": 70,
      "outputs": [
        {
          "output_type": "execute_result",
          "data": {
            "text/plain": [
              "  Gravedad_victima Fecha_incidente Hora_incidente Clase_incidente  \\\n",
              "0          Heridos      2014-01-01       00:15:00            Otro   \n",
              "1          Heridos      2014-01-01       00:30:00       Atropello   \n",
              "2          Heridos      2014-01-01       00:30:00       Atropello   \n",
              "3          Heridos      2014-01-01       00:37:00       Atropello   \n",
              "4          Heridos      2014-01-01       00:37:00       Atropello   \n",
              "5          Heridos      2014-01-01       00:50:00       Atropello   \n",
              "6          Heridos      2014-01-01       01:00:00       Atropello   \n",
              "7          Heridos      2014-01-01       01:20:00          Choque   \n",
              "8          Heridos      2014-01-01       01:20:00          Choque   \n",
              "9          Heridos      2014-01-01       01:30:00          Choque   \n",
              "\n",
              "  Direccion_incidente Sexo  Edad                   Condicion  Mes  Dia  \\\n",
              "0         CR 49 CL 72    M  17.0                Motociclista  Ene  Mié   \n",
              "1         CR 46 CL 98    M  20.0                Motociclista  Ene  Mié   \n",
              "2         CR 46 CL 98    F  18.0                      Peatón  Ene  Mié   \n",
              "3         CL 32 CR 84    M  19.0                Motociclista  Ene  Mié   \n",
              "4         CL 32 CR 84    M  39.0                      Peatón  Ene  Mié   \n",
              "5         CR 53 CL 61    M  44.0                      Peatón  Ene  Mié   \n",
              "6         CR 39 CL 70    M   7.0                      Peatón  Ene  Mié   \n",
              "7    CR 86 C CL 76 DD    M  18.0                Motociclista  Ene  Mié   \n",
              "8    CR 86 C CL 76 DD    F  17.0  Acompañante de Motocicleta  Ene  Mié   \n",
              "9       CR 78 CL 47 D    M  35.0                Motociclista  Ene  Mié   \n",
              "\n",
              "   Num_dia  Hora Grupo_edad   Año   Radicado   Latitud   Longitud  \\\n",
              "0      1.0   0.0    10 - 19  2014  1423940.0  6.266915 -75.559099   \n",
              "1      1.0   0.0    20 - 29  2014  1423921.0  6.289353 -75.553292   \n",
              "2      1.0   0.0    10 - 19  2014  1423921.0  6.289353 -75.553292   \n",
              "3      1.0   0.0    10 - 19  2014  1423849.0  6.234327 -75.607611   \n",
              "4      1.0   0.0    30 - 39  2014  1423849.0  6.234327 -75.607611   \n",
              "5      1.0   0.0    40 - 49  2014  1423839.0  6.260009 -75.568185   \n",
              "6      1.0   1.0      0 - 9  2014  1423840.0  6.264765 -75.549943   \n",
              "7      1.0   1.0    10 - 19  2014  1423912.0  6.281797 -75.591982   \n",
              "8      1.0   1.0    10 - 19  2014  1423912.0  6.281797 -75.591982   \n",
              "9      1.0   1.0    30 - 39  2014  1423897.0  6.257979 -75.595777   \n",
              "\n",
              "                  Comuna                  Barrio  \n",
              "0          04 - Aranjuez  Manrique Central No. 1  \n",
              "1           01 - Popular             Moscú No. 2  \n",
              "2           01 - Popular             Moscú No. 2  \n",
              "3             16 - Belén            Las Mercedes  \n",
              "4             16 - Belén            Las Mercedes  \n",
              "5     10 - La Candelaria          Jesús Nazareno  \n",
              "6          03 - Manrique       Manrique Oriental  \n",
              "7           07 - Robledo             Villa Flora  \n",
              "8           07 - Robledo             Villa Flora  \n",
              "9  11 - Laureles Estadio  U.D. Atanasio Girardot  "
            ],
            "text/html": [
              "\n",
              "  <div id=\"df-cedd488c-da28-4937-9f16-b0631b1fd0bb\">\n",
              "    <div class=\"colab-df-container\">\n",
              "      <div>\n",
              "<style scoped>\n",
              "    .dataframe tbody tr th:only-of-type {\n",
              "        vertical-align: middle;\n",
              "    }\n",
              "\n",
              "    .dataframe tbody tr th {\n",
              "        vertical-align: top;\n",
              "    }\n",
              "\n",
              "    .dataframe thead th {\n",
              "        text-align: right;\n",
              "    }\n",
              "</style>\n",
              "<table border=\"1\" class=\"dataframe\">\n",
              "  <thead>\n",
              "    <tr style=\"text-align: right;\">\n",
              "      <th></th>\n",
              "      <th>Gravedad_victima</th>\n",
              "      <th>Fecha_incidente</th>\n",
              "      <th>Hora_incidente</th>\n",
              "      <th>Clase_incidente</th>\n",
              "      <th>Direccion_incidente</th>\n",
              "      <th>Sexo</th>\n",
              "      <th>Edad</th>\n",
              "      <th>Condicion</th>\n",
              "      <th>Mes</th>\n",
              "      <th>Dia</th>\n",
              "      <th>Num_dia</th>\n",
              "      <th>Hora</th>\n",
              "      <th>Grupo_edad</th>\n",
              "      <th>Año</th>\n",
              "      <th>Radicado</th>\n",
              "      <th>Latitud</th>\n",
              "      <th>Longitud</th>\n",
              "      <th>Comuna</th>\n",
              "      <th>Barrio</th>\n",
              "    </tr>\n",
              "  </thead>\n",
              "  <tbody>\n",
              "    <tr>\n",
              "      <th>0</th>\n",
              "      <td>Heridos</td>\n",
              "      <td>2014-01-01</td>\n",
              "      <td>00:15:00</td>\n",
              "      <td>Otro</td>\n",
              "      <td>CR 49 CL 72</td>\n",
              "      <td>M</td>\n",
              "      <td>17.0</td>\n",
              "      <td>Motociclista</td>\n",
              "      <td>Ene</td>\n",
              "      <td>Mié</td>\n",
              "      <td>1.0</td>\n",
              "      <td>0.0</td>\n",
              "      <td>10 - 19</td>\n",
              "      <td>2014</td>\n",
              "      <td>1423940.0</td>\n",
              "      <td>6.266915</td>\n",
              "      <td>-75.559099</td>\n",
              "      <td>04 - Aranjuez</td>\n",
              "      <td>Manrique Central No. 1</td>\n",
              "    </tr>\n",
              "    <tr>\n",
              "      <th>1</th>\n",
              "      <td>Heridos</td>\n",
              "      <td>2014-01-01</td>\n",
              "      <td>00:30:00</td>\n",
              "      <td>Atropello</td>\n",
              "      <td>CR 46 CL 98</td>\n",
              "      <td>M</td>\n",
              "      <td>20.0</td>\n",
              "      <td>Motociclista</td>\n",
              "      <td>Ene</td>\n",
              "      <td>Mié</td>\n",
              "      <td>1.0</td>\n",
              "      <td>0.0</td>\n",
              "      <td>20 - 29</td>\n",
              "      <td>2014</td>\n",
              "      <td>1423921.0</td>\n",
              "      <td>6.289353</td>\n",
              "      <td>-75.553292</td>\n",
              "      <td>01 - Popular</td>\n",
              "      <td>Moscú No. 2</td>\n",
              "    </tr>\n",
              "    <tr>\n",
              "      <th>2</th>\n",
              "      <td>Heridos</td>\n",
              "      <td>2014-01-01</td>\n",
              "      <td>00:30:00</td>\n",
              "      <td>Atropello</td>\n",
              "      <td>CR 46 CL 98</td>\n",
              "      <td>F</td>\n",
              "      <td>18.0</td>\n",
              "      <td>Peatón</td>\n",
              "      <td>Ene</td>\n",
              "      <td>Mié</td>\n",
              "      <td>1.0</td>\n",
              "      <td>0.0</td>\n",
              "      <td>10 - 19</td>\n",
              "      <td>2014</td>\n",
              "      <td>1423921.0</td>\n",
              "      <td>6.289353</td>\n",
              "      <td>-75.553292</td>\n",
              "      <td>01 - Popular</td>\n",
              "      <td>Moscú No. 2</td>\n",
              "    </tr>\n",
              "    <tr>\n",
              "      <th>3</th>\n",
              "      <td>Heridos</td>\n",
              "      <td>2014-01-01</td>\n",
              "      <td>00:37:00</td>\n",
              "      <td>Atropello</td>\n",
              "      <td>CL 32 CR 84</td>\n",
              "      <td>M</td>\n",
              "      <td>19.0</td>\n",
              "      <td>Motociclista</td>\n",
              "      <td>Ene</td>\n",
              "      <td>Mié</td>\n",
              "      <td>1.0</td>\n",
              "      <td>0.0</td>\n",
              "      <td>10 - 19</td>\n",
              "      <td>2014</td>\n",
              "      <td>1423849.0</td>\n",
              "      <td>6.234327</td>\n",
              "      <td>-75.607611</td>\n",
              "      <td>16 - Belén</td>\n",
              "      <td>Las Mercedes</td>\n",
              "    </tr>\n",
              "    <tr>\n",
              "      <th>4</th>\n",
              "      <td>Heridos</td>\n",
              "      <td>2014-01-01</td>\n",
              "      <td>00:37:00</td>\n",
              "      <td>Atropello</td>\n",
              "      <td>CL 32 CR 84</td>\n",
              "      <td>M</td>\n",
              "      <td>39.0</td>\n",
              "      <td>Peatón</td>\n",
              "      <td>Ene</td>\n",
              "      <td>Mié</td>\n",
              "      <td>1.0</td>\n",
              "      <td>0.0</td>\n",
              "      <td>30 - 39</td>\n",
              "      <td>2014</td>\n",
              "      <td>1423849.0</td>\n",
              "      <td>6.234327</td>\n",
              "      <td>-75.607611</td>\n",
              "      <td>16 - Belén</td>\n",
              "      <td>Las Mercedes</td>\n",
              "    </tr>\n",
              "    <tr>\n",
              "      <th>5</th>\n",
              "      <td>Heridos</td>\n",
              "      <td>2014-01-01</td>\n",
              "      <td>00:50:00</td>\n",
              "      <td>Atropello</td>\n",
              "      <td>CR 53 CL 61</td>\n",
              "      <td>M</td>\n",
              "      <td>44.0</td>\n",
              "      <td>Peatón</td>\n",
              "      <td>Ene</td>\n",
              "      <td>Mié</td>\n",
              "      <td>1.0</td>\n",
              "      <td>0.0</td>\n",
              "      <td>40 - 49</td>\n",
              "      <td>2014</td>\n",
              "      <td>1423839.0</td>\n",
              "      <td>6.260009</td>\n",
              "      <td>-75.568185</td>\n",
              "      <td>10 - La Candelaria</td>\n",
              "      <td>Jesús Nazareno</td>\n",
              "    </tr>\n",
              "    <tr>\n",
              "      <th>6</th>\n",
              "      <td>Heridos</td>\n",
              "      <td>2014-01-01</td>\n",
              "      <td>01:00:00</td>\n",
              "      <td>Atropello</td>\n",
              "      <td>CR 39 CL 70</td>\n",
              "      <td>M</td>\n",
              "      <td>7.0</td>\n",
              "      <td>Peatón</td>\n",
              "      <td>Ene</td>\n",
              "      <td>Mié</td>\n",
              "      <td>1.0</td>\n",
              "      <td>1.0</td>\n",
              "      <td>0 - 9</td>\n",
              "      <td>2014</td>\n",
              "      <td>1423840.0</td>\n",
              "      <td>6.264765</td>\n",
              "      <td>-75.549943</td>\n",
              "      <td>03 - Manrique</td>\n",
              "      <td>Manrique Oriental</td>\n",
              "    </tr>\n",
              "    <tr>\n",
              "      <th>7</th>\n",
              "      <td>Heridos</td>\n",
              "      <td>2014-01-01</td>\n",
              "      <td>01:20:00</td>\n",
              "      <td>Choque</td>\n",
              "      <td>CR 86 C CL 76 DD</td>\n",
              "      <td>M</td>\n",
              "      <td>18.0</td>\n",
              "      <td>Motociclista</td>\n",
              "      <td>Ene</td>\n",
              "      <td>Mié</td>\n",
              "      <td>1.0</td>\n",
              "      <td>1.0</td>\n",
              "      <td>10 - 19</td>\n",
              "      <td>2014</td>\n",
              "      <td>1423912.0</td>\n",
              "      <td>6.281797</td>\n",
              "      <td>-75.591982</td>\n",
              "      <td>07 - Robledo</td>\n",
              "      <td>Villa Flora</td>\n",
              "    </tr>\n",
              "    <tr>\n",
              "      <th>8</th>\n",
              "      <td>Heridos</td>\n",
              "      <td>2014-01-01</td>\n",
              "      <td>01:20:00</td>\n",
              "      <td>Choque</td>\n",
              "      <td>CR 86 C CL 76 DD</td>\n",
              "      <td>F</td>\n",
              "      <td>17.0</td>\n",
              "      <td>Acompañante de Motocicleta</td>\n",
              "      <td>Ene</td>\n",
              "      <td>Mié</td>\n",
              "      <td>1.0</td>\n",
              "      <td>1.0</td>\n",
              "      <td>10 - 19</td>\n",
              "      <td>2014</td>\n",
              "      <td>1423912.0</td>\n",
              "      <td>6.281797</td>\n",
              "      <td>-75.591982</td>\n",
              "      <td>07 - Robledo</td>\n",
              "      <td>Villa Flora</td>\n",
              "    </tr>\n",
              "    <tr>\n",
              "      <th>9</th>\n",
              "      <td>Heridos</td>\n",
              "      <td>2014-01-01</td>\n",
              "      <td>01:30:00</td>\n",
              "      <td>Choque</td>\n",
              "      <td>CR 78 CL 47 D</td>\n",
              "      <td>M</td>\n",
              "      <td>35.0</td>\n",
              "      <td>Motociclista</td>\n",
              "      <td>Ene</td>\n",
              "      <td>Mié</td>\n",
              "      <td>1.0</td>\n",
              "      <td>1.0</td>\n",
              "      <td>30 - 39</td>\n",
              "      <td>2014</td>\n",
              "      <td>1423897.0</td>\n",
              "      <td>6.257979</td>\n",
              "      <td>-75.595777</td>\n",
              "      <td>11 - Laureles Estadio</td>\n",
              "      <td>U.D. Atanasio Girardot</td>\n",
              "    </tr>\n",
              "  </tbody>\n",
              "</table>\n",
              "</div>\n",
              "      <button class=\"colab-df-convert\" onclick=\"convertToInteractive('df-cedd488c-da28-4937-9f16-b0631b1fd0bb')\"\n",
              "              title=\"Convert this dataframe to an interactive table.\"\n",
              "              style=\"display:none;\">\n",
              "        \n",
              "  <svg xmlns=\"http://www.w3.org/2000/svg\" height=\"24px\"viewBox=\"0 0 24 24\"\n",
              "       width=\"24px\">\n",
              "    <path d=\"M0 0h24v24H0V0z\" fill=\"none\"/>\n",
              "    <path d=\"M18.56 5.44l.94 2.06.94-2.06 2.06-.94-2.06-.94-.94-2.06-.94 2.06-2.06.94zm-11 1L8.5 8.5l.94-2.06 2.06-.94-2.06-.94L8.5 2.5l-.94 2.06-2.06.94zm10 10l.94 2.06.94-2.06 2.06-.94-2.06-.94-.94-2.06-.94 2.06-2.06.94z\"/><path d=\"M17.41 7.96l-1.37-1.37c-.4-.4-.92-.59-1.43-.59-.52 0-1.04.2-1.43.59L10.3 9.45l-7.72 7.72c-.78.78-.78 2.05 0 2.83L4 21.41c.39.39.9.59 1.41.59.51 0 1.02-.2 1.41-.59l7.78-7.78 2.81-2.81c.8-.78.8-2.07 0-2.86zM5.41 20L4 18.59l7.72-7.72 1.47 1.35L5.41 20z\"/>\n",
              "  </svg>\n",
              "      </button>\n",
              "      \n",
              "  <style>\n",
              "    .colab-df-container {\n",
              "      display:flex;\n",
              "      flex-wrap:wrap;\n",
              "      gap: 12px;\n",
              "    }\n",
              "\n",
              "    .colab-df-convert {\n",
              "      background-color: #E8F0FE;\n",
              "      border: none;\n",
              "      border-radius: 50%;\n",
              "      cursor: pointer;\n",
              "      display: none;\n",
              "      fill: #1967D2;\n",
              "      height: 32px;\n",
              "      padding: 0 0 0 0;\n",
              "      width: 32px;\n",
              "    }\n",
              "\n",
              "    .colab-df-convert:hover {\n",
              "      background-color: #E2EBFA;\n",
              "      box-shadow: 0px 1px 2px rgba(60, 64, 67, 0.3), 0px 1px 3px 1px rgba(60, 64, 67, 0.15);\n",
              "      fill: #174EA6;\n",
              "    }\n",
              "\n",
              "    [theme=dark] .colab-df-convert {\n",
              "      background-color: #3B4455;\n",
              "      fill: #D2E3FC;\n",
              "    }\n",
              "\n",
              "    [theme=dark] .colab-df-convert:hover {\n",
              "      background-color: #434B5C;\n",
              "      box-shadow: 0px 1px 3px 1px rgba(0, 0, 0, 0.15);\n",
              "      filter: drop-shadow(0px 1px 2px rgba(0, 0, 0, 0.3));\n",
              "      fill: #FFFFFF;\n",
              "    }\n",
              "  </style>\n",
              "\n",
              "      <script>\n",
              "        const buttonEl =\n",
              "          document.querySelector('#df-cedd488c-da28-4937-9f16-b0631b1fd0bb button.colab-df-convert');\n",
              "        buttonEl.style.display =\n",
              "          google.colab.kernel.accessAllowed ? 'block' : 'none';\n",
              "\n",
              "        async function convertToInteractive(key) {\n",
              "          const element = document.querySelector('#df-cedd488c-da28-4937-9f16-b0631b1fd0bb');\n",
              "          const dataTable =\n",
              "            await google.colab.kernel.invokeFunction('convertToInteractive',\n",
              "                                                     [key], {});\n",
              "          if (!dataTable) return;\n",
              "\n",
              "          const docLinkHtml = 'Like what you see? Visit the ' +\n",
              "            '<a target=\"_blank\" href=https://colab.research.google.com/notebooks/data_table.ipynb>data table notebook</a>'\n",
              "            + ' to learn more about interactive tables.';\n",
              "          element.innerHTML = '';\n",
              "          dataTable['output_type'] = 'display_data';\n",
              "          await google.colab.output.renderOutput(dataTable, element);\n",
              "          const docLink = document.createElement('div');\n",
              "          docLink.innerHTML = docLinkHtml;\n",
              "          element.appendChild(docLink);\n",
              "        }\n",
              "      </script>\n",
              "    </div>\n",
              "  </div>\n",
              "  "
            ]
          },
          "metadata": {},
          "execution_count": 70
        }
      ]
    },
    {
      "cell_type": "code",
      "source": [
        "df.tail(10)"
      ],
      "metadata": {
        "colab": {
          "base_uri": "https://localhost:8080/",
          "height": 600
        },
        "id": "w2IGG3hBerBg",
        "outputId": "30b16646-b3da-44d8-ee41-6dddc6830512"
      },
      "execution_count": 71,
      "outputs": [
        {
          "output_type": "execute_result",
          "data": {
            "text/plain": [
              "       Gravedad_victima Fecha_incidente Hora_incidente Clase_incidente  \\\n",
              "232862          Heridos      2021-09-30       19:00:00          Choque   \n",
              "232863          Heridos      2021-09-30       19:00:00          Choque   \n",
              "232864          Heridos      2021-09-30       20:00:00            Otro   \n",
              "232865          Heridos      2021-09-30       20:00:00            Otro   \n",
              "232866          Heridos      2021-09-30       20:40:00          Choque   \n",
              "232867          Heridos      2021-09-30       22:00:00            Otro   \n",
              "232868          Heridos      2021-09-30       22:00:00            Otro   \n",
              "232869          Heridos      2021-09-30       22:00:00  Caida Ocupante   \n",
              "232870          Heridos      2021-09-30       23:00:00       Atropello   \n",
              "232871          Heridos      2021-09-30       23:00:00            Otro   \n",
              "\n",
              "       Direccion_incidente Sexo  Edad                   Condicion   Mes  Dia  \\\n",
              "232862         CR 51 CL 49    M  31.0                    Ciclista  Sept  Jue   \n",
              "232863         CR 51 CL 49    M  27.0                Motociclista  Sept  Jue   \n",
              "232864         CR 34 CL 72    F  29.0                Motociclista  Sept  Jue   \n",
              "232865         CL 97 CR 85    F  44.0                Motociclista  Sept  Jue   \n",
              "232866       CR 48 CL 16 A    F  38.0                Motociclista  Sept  Jue   \n",
              "232867        CL 54 CR 9 A    M  32.0                Motociclista  Sept  Jue   \n",
              "232868        CL 54 CR 9 A    F  29.0  Acompañante de Motocicleta  Sept  Jue   \n",
              "232869         CL 81 CR 39    M  41.0  Acompañante de Motocicleta  Sept  Jue   \n",
              "232870         CR 63 CL 32    F  51.0                      Peatón  Sept  Jue   \n",
              "232871        CR 107 CL 65    M  23.0                Motociclista  Sept  Jue   \n",
              "\n",
              "        Num_dia  Hora Grupo_edad   Año   Radicado   Latitud   Longitud  \\\n",
              "232862     30.0  19.0    30 - 39  2021  1763921.0  6.248936 -75.568866   \n",
              "232863     30.0  19.0    20 - 29  2021  1763921.0  6.248936 -75.568866   \n",
              "232864     30.0  20.0    20 - 29  2021  1763941.0       NaN        NaN   \n",
              "232865     30.0  20.0    40 - 49  2021  1763939.0  6.298268 -75.585992   \n",
              "232866     30.0  20.0    30 - 39  2021  1763788.0  6.217895 -75.575824   \n",
              "232867     30.0  22.0    30 - 39  2021  1764135.0  6.234267 -75.536311   \n",
              "232868     30.0  22.0    20 - 29  2021  1764135.0  6.234267 -75.536311   \n",
              "232869     30.0  22.0    40 - 49  2021  1763968.0  6.272697 -75.548675   \n",
              "232870     30.0  23.0    50 - 59  2021  1764133.0       NaN        NaN   \n",
              "232871     30.0  23.0    20 - 29  2021  1763946.0       NaN        NaN   \n",
              "\n",
              "                      Comuna         Barrio  \n",
              "232862    10 - La Candelaria  La Candelaria  \n",
              "232863    10 - La Candelaria  La Candelaria  \n",
              "232864                   NaN            NaN  \n",
              "232865  06 - Doce de Octubre      Picachito  \n",
              "232866       14 - El Poblado  Villa Carlota  \n",
              "232867    08 - Villa Hermosa  Las Estancias  \n",
              "232868    08 - Villa Hermosa  Las Estancias  \n",
              "232869         03 - Manrique     Santa Inés  \n",
              "232870                   NaN            NaN  \n",
              "232871                   NaN            NaN  "
            ],
            "text/html": [
              "\n",
              "  <div id=\"df-557ec5f2-410c-46cf-89d8-b1ab5ab491db\">\n",
              "    <div class=\"colab-df-container\">\n",
              "      <div>\n",
              "<style scoped>\n",
              "    .dataframe tbody tr th:only-of-type {\n",
              "        vertical-align: middle;\n",
              "    }\n",
              "\n",
              "    .dataframe tbody tr th {\n",
              "        vertical-align: top;\n",
              "    }\n",
              "\n",
              "    .dataframe thead th {\n",
              "        text-align: right;\n",
              "    }\n",
              "</style>\n",
              "<table border=\"1\" class=\"dataframe\">\n",
              "  <thead>\n",
              "    <tr style=\"text-align: right;\">\n",
              "      <th></th>\n",
              "      <th>Gravedad_victima</th>\n",
              "      <th>Fecha_incidente</th>\n",
              "      <th>Hora_incidente</th>\n",
              "      <th>Clase_incidente</th>\n",
              "      <th>Direccion_incidente</th>\n",
              "      <th>Sexo</th>\n",
              "      <th>Edad</th>\n",
              "      <th>Condicion</th>\n",
              "      <th>Mes</th>\n",
              "      <th>Dia</th>\n",
              "      <th>Num_dia</th>\n",
              "      <th>Hora</th>\n",
              "      <th>Grupo_edad</th>\n",
              "      <th>Año</th>\n",
              "      <th>Radicado</th>\n",
              "      <th>Latitud</th>\n",
              "      <th>Longitud</th>\n",
              "      <th>Comuna</th>\n",
              "      <th>Barrio</th>\n",
              "    </tr>\n",
              "  </thead>\n",
              "  <tbody>\n",
              "    <tr>\n",
              "      <th>232862</th>\n",
              "      <td>Heridos</td>\n",
              "      <td>2021-09-30</td>\n",
              "      <td>19:00:00</td>\n",
              "      <td>Choque</td>\n",
              "      <td>CR 51 CL 49</td>\n",
              "      <td>M</td>\n",
              "      <td>31.0</td>\n",
              "      <td>Ciclista</td>\n",
              "      <td>Sept</td>\n",
              "      <td>Jue</td>\n",
              "      <td>30.0</td>\n",
              "      <td>19.0</td>\n",
              "      <td>30 - 39</td>\n",
              "      <td>2021</td>\n",
              "      <td>1763921.0</td>\n",
              "      <td>6.248936</td>\n",
              "      <td>-75.568866</td>\n",
              "      <td>10 - La Candelaria</td>\n",
              "      <td>La Candelaria</td>\n",
              "    </tr>\n",
              "    <tr>\n",
              "      <th>232863</th>\n",
              "      <td>Heridos</td>\n",
              "      <td>2021-09-30</td>\n",
              "      <td>19:00:00</td>\n",
              "      <td>Choque</td>\n",
              "      <td>CR 51 CL 49</td>\n",
              "      <td>M</td>\n",
              "      <td>27.0</td>\n",
              "      <td>Motociclista</td>\n",
              "      <td>Sept</td>\n",
              "      <td>Jue</td>\n",
              "      <td>30.0</td>\n",
              "      <td>19.0</td>\n",
              "      <td>20 - 29</td>\n",
              "      <td>2021</td>\n",
              "      <td>1763921.0</td>\n",
              "      <td>6.248936</td>\n",
              "      <td>-75.568866</td>\n",
              "      <td>10 - La Candelaria</td>\n",
              "      <td>La Candelaria</td>\n",
              "    </tr>\n",
              "    <tr>\n",
              "      <th>232864</th>\n",
              "      <td>Heridos</td>\n",
              "      <td>2021-09-30</td>\n",
              "      <td>20:00:00</td>\n",
              "      <td>Otro</td>\n",
              "      <td>CR 34 CL 72</td>\n",
              "      <td>F</td>\n",
              "      <td>29.0</td>\n",
              "      <td>Motociclista</td>\n",
              "      <td>Sept</td>\n",
              "      <td>Jue</td>\n",
              "      <td>30.0</td>\n",
              "      <td>20.0</td>\n",
              "      <td>20 - 29</td>\n",
              "      <td>2021</td>\n",
              "      <td>1763941.0</td>\n",
              "      <td>NaN</td>\n",
              "      <td>NaN</td>\n",
              "      <td>NaN</td>\n",
              "      <td>NaN</td>\n",
              "    </tr>\n",
              "    <tr>\n",
              "      <th>232865</th>\n",
              "      <td>Heridos</td>\n",
              "      <td>2021-09-30</td>\n",
              "      <td>20:00:00</td>\n",
              "      <td>Otro</td>\n",
              "      <td>CL 97 CR 85</td>\n",
              "      <td>F</td>\n",
              "      <td>44.0</td>\n",
              "      <td>Motociclista</td>\n",
              "      <td>Sept</td>\n",
              "      <td>Jue</td>\n",
              "      <td>30.0</td>\n",
              "      <td>20.0</td>\n",
              "      <td>40 - 49</td>\n",
              "      <td>2021</td>\n",
              "      <td>1763939.0</td>\n",
              "      <td>6.298268</td>\n",
              "      <td>-75.585992</td>\n",
              "      <td>06 - Doce de Octubre</td>\n",
              "      <td>Picachito</td>\n",
              "    </tr>\n",
              "    <tr>\n",
              "      <th>232866</th>\n",
              "      <td>Heridos</td>\n",
              "      <td>2021-09-30</td>\n",
              "      <td>20:40:00</td>\n",
              "      <td>Choque</td>\n",
              "      <td>CR 48 CL 16 A</td>\n",
              "      <td>F</td>\n",
              "      <td>38.0</td>\n",
              "      <td>Motociclista</td>\n",
              "      <td>Sept</td>\n",
              "      <td>Jue</td>\n",
              "      <td>30.0</td>\n",
              "      <td>20.0</td>\n",
              "      <td>30 - 39</td>\n",
              "      <td>2021</td>\n",
              "      <td>1763788.0</td>\n",
              "      <td>6.217895</td>\n",
              "      <td>-75.575824</td>\n",
              "      <td>14 - El Poblado</td>\n",
              "      <td>Villa Carlota</td>\n",
              "    </tr>\n",
              "    <tr>\n",
              "      <th>232867</th>\n",
              "      <td>Heridos</td>\n",
              "      <td>2021-09-30</td>\n",
              "      <td>22:00:00</td>\n",
              "      <td>Otro</td>\n",
              "      <td>CL 54 CR 9 A</td>\n",
              "      <td>M</td>\n",
              "      <td>32.0</td>\n",
              "      <td>Motociclista</td>\n",
              "      <td>Sept</td>\n",
              "      <td>Jue</td>\n",
              "      <td>30.0</td>\n",
              "      <td>22.0</td>\n",
              "      <td>30 - 39</td>\n",
              "      <td>2021</td>\n",
              "      <td>1764135.0</td>\n",
              "      <td>6.234267</td>\n",
              "      <td>-75.536311</td>\n",
              "      <td>08 - Villa Hermosa</td>\n",
              "      <td>Las Estancias</td>\n",
              "    </tr>\n",
              "    <tr>\n",
              "      <th>232868</th>\n",
              "      <td>Heridos</td>\n",
              "      <td>2021-09-30</td>\n",
              "      <td>22:00:00</td>\n",
              "      <td>Otro</td>\n",
              "      <td>CL 54 CR 9 A</td>\n",
              "      <td>F</td>\n",
              "      <td>29.0</td>\n",
              "      <td>Acompañante de Motocicleta</td>\n",
              "      <td>Sept</td>\n",
              "      <td>Jue</td>\n",
              "      <td>30.0</td>\n",
              "      <td>22.0</td>\n",
              "      <td>20 - 29</td>\n",
              "      <td>2021</td>\n",
              "      <td>1764135.0</td>\n",
              "      <td>6.234267</td>\n",
              "      <td>-75.536311</td>\n",
              "      <td>08 - Villa Hermosa</td>\n",
              "      <td>Las Estancias</td>\n",
              "    </tr>\n",
              "    <tr>\n",
              "      <th>232869</th>\n",
              "      <td>Heridos</td>\n",
              "      <td>2021-09-30</td>\n",
              "      <td>22:00:00</td>\n",
              "      <td>Caida Ocupante</td>\n",
              "      <td>CL 81 CR 39</td>\n",
              "      <td>M</td>\n",
              "      <td>41.0</td>\n",
              "      <td>Acompañante de Motocicleta</td>\n",
              "      <td>Sept</td>\n",
              "      <td>Jue</td>\n",
              "      <td>30.0</td>\n",
              "      <td>22.0</td>\n",
              "      <td>40 - 49</td>\n",
              "      <td>2021</td>\n",
              "      <td>1763968.0</td>\n",
              "      <td>6.272697</td>\n",
              "      <td>-75.548675</td>\n",
              "      <td>03 - Manrique</td>\n",
              "      <td>Santa Inés</td>\n",
              "    </tr>\n",
              "    <tr>\n",
              "      <th>232870</th>\n",
              "      <td>Heridos</td>\n",
              "      <td>2021-09-30</td>\n",
              "      <td>23:00:00</td>\n",
              "      <td>Atropello</td>\n",
              "      <td>CR 63 CL 32</td>\n",
              "      <td>F</td>\n",
              "      <td>51.0</td>\n",
              "      <td>Peatón</td>\n",
              "      <td>Sept</td>\n",
              "      <td>Jue</td>\n",
              "      <td>30.0</td>\n",
              "      <td>23.0</td>\n",
              "      <td>50 - 59</td>\n",
              "      <td>2021</td>\n",
              "      <td>1764133.0</td>\n",
              "      <td>NaN</td>\n",
              "      <td>NaN</td>\n",
              "      <td>NaN</td>\n",
              "      <td>NaN</td>\n",
              "    </tr>\n",
              "    <tr>\n",
              "      <th>232871</th>\n",
              "      <td>Heridos</td>\n",
              "      <td>2021-09-30</td>\n",
              "      <td>23:00:00</td>\n",
              "      <td>Otro</td>\n",
              "      <td>CR 107 CL 65</td>\n",
              "      <td>M</td>\n",
              "      <td>23.0</td>\n",
              "      <td>Motociclista</td>\n",
              "      <td>Sept</td>\n",
              "      <td>Jue</td>\n",
              "      <td>30.0</td>\n",
              "      <td>23.0</td>\n",
              "      <td>20 - 29</td>\n",
              "      <td>2021</td>\n",
              "      <td>1763946.0</td>\n",
              "      <td>NaN</td>\n",
              "      <td>NaN</td>\n",
              "      <td>NaN</td>\n",
              "      <td>NaN</td>\n",
              "    </tr>\n",
              "  </tbody>\n",
              "</table>\n",
              "</div>\n",
              "      <button class=\"colab-df-convert\" onclick=\"convertToInteractive('df-557ec5f2-410c-46cf-89d8-b1ab5ab491db')\"\n",
              "              title=\"Convert this dataframe to an interactive table.\"\n",
              "              style=\"display:none;\">\n",
              "        \n",
              "  <svg xmlns=\"http://www.w3.org/2000/svg\" height=\"24px\"viewBox=\"0 0 24 24\"\n",
              "       width=\"24px\">\n",
              "    <path d=\"M0 0h24v24H0V0z\" fill=\"none\"/>\n",
              "    <path d=\"M18.56 5.44l.94 2.06.94-2.06 2.06-.94-2.06-.94-.94-2.06-.94 2.06-2.06.94zm-11 1L8.5 8.5l.94-2.06 2.06-.94-2.06-.94L8.5 2.5l-.94 2.06-2.06.94zm10 10l.94 2.06.94-2.06 2.06-.94-2.06-.94-.94-2.06-.94 2.06-2.06.94z\"/><path d=\"M17.41 7.96l-1.37-1.37c-.4-.4-.92-.59-1.43-.59-.52 0-1.04.2-1.43.59L10.3 9.45l-7.72 7.72c-.78.78-.78 2.05 0 2.83L4 21.41c.39.39.9.59 1.41.59.51 0 1.02-.2 1.41-.59l7.78-7.78 2.81-2.81c.8-.78.8-2.07 0-2.86zM5.41 20L4 18.59l7.72-7.72 1.47 1.35L5.41 20z\"/>\n",
              "  </svg>\n",
              "      </button>\n",
              "      \n",
              "  <style>\n",
              "    .colab-df-container {\n",
              "      display:flex;\n",
              "      flex-wrap:wrap;\n",
              "      gap: 12px;\n",
              "    }\n",
              "\n",
              "    .colab-df-convert {\n",
              "      background-color: #E8F0FE;\n",
              "      border: none;\n",
              "      border-radius: 50%;\n",
              "      cursor: pointer;\n",
              "      display: none;\n",
              "      fill: #1967D2;\n",
              "      height: 32px;\n",
              "      padding: 0 0 0 0;\n",
              "      width: 32px;\n",
              "    }\n",
              "\n",
              "    .colab-df-convert:hover {\n",
              "      background-color: #E2EBFA;\n",
              "      box-shadow: 0px 1px 2px rgba(60, 64, 67, 0.3), 0px 1px 3px 1px rgba(60, 64, 67, 0.15);\n",
              "      fill: #174EA6;\n",
              "    }\n",
              "\n",
              "    [theme=dark] .colab-df-convert {\n",
              "      background-color: #3B4455;\n",
              "      fill: #D2E3FC;\n",
              "    }\n",
              "\n",
              "    [theme=dark] .colab-df-convert:hover {\n",
              "      background-color: #434B5C;\n",
              "      box-shadow: 0px 1px 3px 1px rgba(0, 0, 0, 0.15);\n",
              "      filter: drop-shadow(0px 1px 2px rgba(0, 0, 0, 0.3));\n",
              "      fill: #FFFFFF;\n",
              "    }\n",
              "  </style>\n",
              "\n",
              "      <script>\n",
              "        const buttonEl =\n",
              "          document.querySelector('#df-557ec5f2-410c-46cf-89d8-b1ab5ab491db button.colab-df-convert');\n",
              "        buttonEl.style.display =\n",
              "          google.colab.kernel.accessAllowed ? 'block' : 'none';\n",
              "\n",
              "        async function convertToInteractive(key) {\n",
              "          const element = document.querySelector('#df-557ec5f2-410c-46cf-89d8-b1ab5ab491db');\n",
              "          const dataTable =\n",
              "            await google.colab.kernel.invokeFunction('convertToInteractive',\n",
              "                                                     [key], {});\n",
              "          if (!dataTable) return;\n",
              "\n",
              "          const docLinkHtml = 'Like what you see? Visit the ' +\n",
              "            '<a target=\"_blank\" href=https://colab.research.google.com/notebooks/data_table.ipynb>data table notebook</a>'\n",
              "            + ' to learn more about interactive tables.';\n",
              "          element.innerHTML = '';\n",
              "          dataTable['output_type'] = 'display_data';\n",
              "          await google.colab.output.renderOutput(dataTable, element);\n",
              "          const docLink = document.createElement('div');\n",
              "          docLink.innerHTML = docLinkHtml;\n",
              "          element.appendChild(docLink);\n",
              "        }\n",
              "      </script>\n",
              "    </div>\n",
              "  </div>\n",
              "  "
            ]
          },
          "metadata": {},
          "execution_count": 71
        }
      ]
    },
    {
      "cell_type": "code",
      "source": [
        "df.dtypes"
      ],
      "metadata": {
        "colab": {
          "base_uri": "https://localhost:8080/"
        },
        "id": "gUv0LziperGl",
        "outputId": "2838f5b5-0fa8-443a-cc91-850a35665c2a"
      },
      "execution_count": 72,
      "outputs": [
        {
          "output_type": "execute_result",
          "data": {
            "text/plain": [
              "Gravedad_victima        object\n",
              "Fecha_incidente         object\n",
              "Hora_incidente          object\n",
              "Clase_incidente         object\n",
              "Direccion_incidente     object\n",
              "Sexo                    object\n",
              "Edad                   float64\n",
              "Condicion               object\n",
              "Mes                     object\n",
              "Dia                     object\n",
              "Num_dia                float64\n",
              "Hora                   float64\n",
              "Grupo_edad              object\n",
              "Año                      int64\n",
              "Radicado               float64\n",
              "Latitud                float64\n",
              "Longitud               float64\n",
              "Comuna                  object\n",
              "Barrio                  object\n",
              "dtype: object"
            ]
          },
          "metadata": {},
          "execution_count": 72
        }
      ]
    },
    {
      "cell_type": "code",
      "source": [
        "df['Edad'] = df['Edad'].astype('int64')"
      ],
      "metadata": {
        "id": "GWgrJ3D6erJR"
      },
      "execution_count": 73,
      "outputs": []
    },
    {
      "cell_type": "code",
      "source": [
        "#se cambia fecha de incidente a datetime\n",
        "df['Fecha_incidente']= pd.to_datetime(df['Fecha_incidente'])\n",
        "df.dtypes"
      ],
      "metadata": {
        "colab": {
          "base_uri": "https://localhost:8080/"
        },
        "id": "K5YEyunverL1",
        "outputId": "000b31b5-498a-46c6-8011-2f1833944675"
      },
      "execution_count": 74,
      "outputs": [
        {
          "output_type": "execute_result",
          "data": {
            "text/plain": [
              "Gravedad_victima               object\n",
              "Fecha_incidente        datetime64[ns]\n",
              "Hora_incidente                 object\n",
              "Clase_incidente                object\n",
              "Direccion_incidente            object\n",
              "Sexo                           object\n",
              "Edad                            int64\n",
              "Condicion                      object\n",
              "Mes                            object\n",
              "Dia                            object\n",
              "Num_dia                       float64\n",
              "Hora                          float64\n",
              "Grupo_edad                     object\n",
              "Año                             int64\n",
              "Radicado                      float64\n",
              "Latitud                       float64\n",
              "Longitud                      float64\n",
              "Comuna                         object\n",
              "Barrio                         object\n",
              "dtype: object"
            ]
          },
          "metadata": {},
          "execution_count": 74
        }
      ]
    },
    {
      "cell_type": "code",
      "source": [
        "# Número de datos ausentes por variable\n",
        "df.isna().sum().sort_values()"
      ],
      "metadata": {
        "colab": {
          "base_uri": "https://localhost:8080/"
        },
        "id": "a0ifmOJferED",
        "outputId": "ff295203-9048-44cc-a6b1-cbed06ac31d0"
      },
      "execution_count": 75,
      "outputs": [
        {
          "output_type": "execute_result",
          "data": {
            "text/plain": [
              "Gravedad_victima           0\n",
              "Año                        0\n",
              "Mes                        0\n",
              "Condicion                  0\n",
              "Edad                       0\n",
              "Dia                        0\n",
              "Clase_incidente            0\n",
              "Hora_incidente             0\n",
              "Fecha_incidente            0\n",
              "Sexo                       0\n",
              "Num_dia                    1\n",
              "Hora                       7\n",
              "Grupo_edad                11\n",
              "Direccion_incidente       12\n",
              "Radicado                  47\n",
              "Latitud                20494\n",
              "Longitud               20494\n",
              "Comuna                 20495\n",
              "Barrio                 20955\n",
              "dtype: int64"
            ]
          },
          "metadata": {},
          "execution_count": 75
        }
      ]
    },
    {
      "cell_type": "code",
      "source": [
        "# Identificamos los missing values visualmente\n",
        "sns.heatmap(df.isnull(), cbar=False)"
      ],
      "metadata": {
        "colab": {
          "base_uri": "https://localhost:8080/",
          "height": 376
        },
        "id": "cx8Rlmh6iSZm",
        "outputId": "2ef0262a-2031-4d86-82dd-b0803f5f4435"
      },
      "execution_count": 76,
      "outputs": [
        {
          "output_type": "execute_result",
          "data": {
            "text/plain": [
              "<matplotlib.axes._subplots.AxesSubplot at 0x7fa888ebac10>"
            ]
          },
          "metadata": {},
          "execution_count": 76
        },
        {
          "output_type": "display_data",
          "data": {
            "text/plain": [
              "<Figure size 432x288 with 1 Axes>"
            ],
            "image/png": "[encoded data removed]"
          },
          "metadata": {
            "needs_background": "light"
          }
        }
      ]
    },
    {
      "cell_type": "markdown",
      "source": [
        "Cómo se observa en el detalle de arriba, los datos faltantes son de las columnas 'Latitud', 'Longitud', 'Comuna' y 'Barrio'; lo que hace difícil imputar estos valores en base a los otros, por lo tanto se procede a eliminar las filas faltantes."
      ],
      "metadata": {
        "id": "l6IZn_2Qi4YB"
      }
    },
    {
      "cell_type": "code",
      "source": [
        "df = df.dropna(subset=['Latitud'], axis=0)\n",
        "df.isnull().sum()"
      ],
      "metadata": {
        "colab": {
          "base_uri": "https://localhost:8080/"
        },
        "id": "f8hTk6spjSWF",
        "outputId": "326397e3-81e4-43c2-f51b-e372ca39a511"
      },
      "execution_count": 77,
      "outputs": [
        {
          "output_type": "execute_result",
          "data": {
            "text/plain": [
              "Gravedad_victima         0\n",
              "Fecha_incidente          0\n",
              "Hora_incidente           0\n",
              "Clase_incidente          0\n",
              "Direccion_incidente      6\n",
              "Sexo                     0\n",
              "Edad                     0\n",
              "Condicion                0\n",
              "Mes                      0\n",
              "Dia                      0\n",
              "Num_dia                  1\n",
              "Hora                     5\n",
              "Grupo_edad              11\n",
              "Año                      0\n",
              "Radicado                43\n",
              "Latitud                  0\n",
              "Longitud                 0\n",
              "Comuna                   2\n",
              "Barrio                 461\n",
              "dtype: int64"
            ]
          },
          "metadata": {},
          "execution_count": 77
        }
      ]
    },
    {
      "cell_type": "code",
      "source": [
        "df = df.dropna(subset=['Barrio'], axis=0)\n",
        "df.isnull().sum()"
      ],
      "metadata": {
        "colab": {
          "base_uri": "https://localhost:8080/"
        },
        "id": "vUNhWY3alUUF",
        "outputId": "66115885-34d4-4521-8a05-a1fcfac37c78"
      },
      "execution_count": 78,
      "outputs": [
        {
          "output_type": "execute_result",
          "data": {
            "text/plain": [
              "Gravedad_victima        0\n",
              "Fecha_incidente         0\n",
              "Hora_incidente          0\n",
              "Clase_incidente         0\n",
              "Direccion_incidente     6\n",
              "Sexo                    0\n",
              "Edad                    0\n",
              "Condicion               0\n",
              "Mes                     0\n",
              "Dia                     0\n",
              "Num_dia                 1\n",
              "Hora                    4\n",
              "Grupo_edad             11\n",
              "Año                     0\n",
              "Radicado               40\n",
              "Latitud                 0\n",
              "Longitud                0\n",
              "Comuna                  0\n",
              "Barrio                  0\n",
              "dtype: int64"
            ]
          },
          "metadata": {},
          "execution_count": 78
        }
      ]
    },
    {
      "cell_type": "code",
      "source": [
        "df = df.dropna(axis=0)\n",
        "df.isnull().sum()"
      ],
      "metadata": {
        "colab": {
          "base_uri": "https://localhost:8080/"
        },
        "id": "B4QSHA6slUeA",
        "outputId": "6e5690c0-92c5-4148-918c-7a94998e9456"
      },
      "execution_count": 79,
      "outputs": [
        {
          "output_type": "execute_result",
          "data": {
            "text/plain": [
              "Gravedad_victima       0\n",
              "Fecha_incidente        0\n",
              "Hora_incidente         0\n",
              "Clase_incidente        0\n",
              "Direccion_incidente    0\n",
              "Sexo                   0\n",
              "Edad                   0\n",
              "Condicion              0\n",
              "Mes                    0\n",
              "Dia                    0\n",
              "Num_dia                0\n",
              "Hora                   0\n",
              "Grupo_edad             0\n",
              "Año                    0\n",
              "Radicado               0\n",
              "Latitud                0\n",
              "Longitud               0\n",
              "Comuna                 0\n",
              "Barrio                 0\n",
              "dtype: int64"
            ]
          },
          "metadata": {},
          "execution_count": 79
        }
      ]
    },
    {
      "cell_type": "code",
      "source": [
        "sns.heatmap(df.isnull(), cbar=False)"
      ],
      "metadata": {
        "colab": {
          "base_uri": "https://localhost:8080/",
          "height": 376
        },
        "id": "VqfMr_erloNQ",
        "outputId": "88a06922-a444-4245-9d2a-fbf1faf5b78c"
      },
      "execution_count": 80,
      "outputs": [
        {
          "output_type": "execute_result",
          "data": {
            "text/plain": [
              "<matplotlib.axes._subplots.AxesSubplot at 0x7fa87f22a650>"
            ]
          },
          "metadata": {},
          "execution_count": 80
        },
        {
          "output_type": "display_data",
          "data": {
            "text/plain": [
              "<Figure size 432x288 with 1 Axes>"
            ],
            "image/png": "[encoded data removed]"
          },
          "metadata": {
            "needs_background": "light"
          }
        }
      ]
    },
    {
      "cell_type": "markdown",
      "source": [
        "Ahora nuestro set de datos no tiene valores nulos."
      ],
      "metadata": {
        "id": "ZLzsoHLBlwq9"
      }
    },
    {
      "cell_type": "markdown",
      "source": [
        "\n",
        "\n",
        "---\n",
        "Ahora trabajo tanto en la variable objetivo como en las predictoras pasando a numéricos sus valores para poder modelarlos con algoritmos supervisados\n"
      ],
      "metadata": {
        "id": "C2zllei8FYFz"
      }
    },
    {
      "cell_type": "markdown",
      "source": [
        "#Selección de Features\n",
        "\n",
        "Las columnas que se consideran como predictoras son:\n",
        "\n",
        "*Clase_incidente\n",
        "\n",
        "*Sexo\n",
        "\n",
        "*Edad\t\n",
        "\n",
        "*Condicion\n",
        "\n",
        "*Año\n",
        "\n",
        "*Comuna.\n"
      ],
      "metadata": {
        "id": "cHpHK5c0r40q"
      }
    },
    {
      "cell_type": "code",
      "source": [
        "df = df.drop(['Fecha_incidente', 'Hora_incidente', 'Direccion_incidente', 'Grupo_edad', 'Hora', 'Radicado', 'Latitud', 'Longitud','Mes','Dia','Num_dia',\t'Hora','Barrio' ], axis=1)\n",
        "df"
      ],
      "metadata": {
        "colab": {
          "base_uri": "https://localhost:8080/",
          "height": 424
        },
        "id": "vislNN_7FNp-",
        "outputId": "d8208db0-4897-4230-ffad-a0d8e0e61a95"
      },
      "execution_count": 81,
      "outputs": [
        {
          "output_type": "execute_result",
          "data": {
            "text/plain": [
              "       Gravedad_victima Clase_incidente Sexo  Edad  \\\n",
              "0               Heridos            Otro    M    17   \n",
              "1               Heridos       Atropello    M    20   \n",
              "2               Heridos       Atropello    F    18   \n",
              "3               Heridos       Atropello    M    19   \n",
              "4               Heridos       Atropello    M    39   \n",
              "...                 ...             ...  ...   ...   \n",
              "232865          Heridos            Otro    F    44   \n",
              "232866          Heridos          Choque    F    38   \n",
              "232867          Heridos            Otro    M    32   \n",
              "232868          Heridos            Otro    F    29   \n",
              "232869          Heridos  Caida Ocupante    M    41   \n",
              "\n",
              "                         Condicion   Año                Comuna  \n",
              "0                     Motociclista  2014         04 - Aranjuez  \n",
              "1                     Motociclista  2014          01 - Popular  \n",
              "2                           Peatón  2014          01 - Popular  \n",
              "3                     Motociclista  2014            16 - Belén  \n",
              "4                           Peatón  2014            16 - Belén  \n",
              "...                            ...   ...                   ...  \n",
              "232865                Motociclista  2021  06 - Doce de Octubre  \n",
              "232866                Motociclista  2021       14 - El Poblado  \n",
              "232867                Motociclista  2021    08 - Villa Hermosa  \n",
              "232868  Acompañante de Motocicleta  2021    08 - Villa Hermosa  \n",
              "232869  Acompañante de Motocicleta  2021         03 - Manrique  \n",
              "\n",
              "[211855 rows x 7 columns]"
            ],
            "text/html": [
              "\n",
              "  <div id=\"df-0b610561-ce03-4adc-8814-031abe85e637\">\n",
              "    <div class=\"colab-df-container\">\n",
              "      <div>\n",
              "<style scoped>\n",
              "    .dataframe tbody tr th:only-of-type {\n",
              "        vertical-align: middle;\n",
              "    }\n",
              "\n",
              "    .dataframe tbody tr th {\n",
              "        vertical-align: top;\n",
              "    }\n",
              "\n",
              "    .dataframe thead th {\n",
              "        text-align: right;\n",
              "    }\n",
              "</style>\n",
              "<table border=\"1\" class=\"dataframe\">\n",
              "  <thead>\n",
              "    <tr style=\"text-align: right;\">\n",
              "      <th></th>\n",
              "      <th>Gravedad_victima</th>\n",
              "      <th>Clase_incidente</th>\n",
              "      <th>Sexo</th>\n",
              "      <th>Edad</th>\n",
              "      <th>Condicion</th>\n",
              "      <th>Año</th>\n",
              "      <th>Comuna</th>\n",
              "    </tr>\n",
              "  </thead>\n",
              "  <tbody>\n",
              "    <tr>\n",
              "      <th>0</th>\n",
              "      <td>Heridos</td>\n",
              "      <td>Otro</td>\n",
              "      <td>M</td>\n",
              "      <td>17</td>\n",
              "      <td>Motociclista</td>\n",
              "      <td>2014</td>\n",
              "      <td>04 - Aranjuez</td>\n",
              "    </tr>\n",
              "    <tr>\n",
              "      <th>1</th>\n",
              "      <td>Heridos</td>\n",
              "      <td>Atropello</td>\n",
              "      <td>M</td>\n",
              "      <td>20</td>\n",
              "      <td>Motociclista</td>\n",
              "      <td>2014</td>\n",
              "      <td>01 - Popular</td>\n",
              "    </tr>\n",
              "    <tr>\n",
              "      <th>2</th>\n",
              "      <td>Heridos</td>\n",
              "      <td>Atropello</td>\n",
              "      <td>F</td>\n",
              "      <td>18</td>\n",
              "      <td>Peatón</td>\n",
              "      <td>2014</td>\n",
              "      <td>01 - Popular</td>\n",
              "    </tr>\n",
              "    <tr>\n",
              "      <th>3</th>\n",
              "      <td>Heridos</td>\n",
              "      <td>Atropello</td>\n",
              "      <td>M</td>\n",
              "      <td>19</td>\n",
              "      <td>Motociclista</td>\n",
              "      <td>2014</td>\n",
              "      <td>16 - Belén</td>\n",
              "    </tr>\n",
              "    <tr>\n",
              "      <th>4</th>\n",
              "      <td>Heridos</td>\n",
              "      <td>Atropello</td>\n",
              "      <td>M</td>\n",
              "      <td>39</td>\n",
              "      <td>Peatón</td>\n",
              "      <td>2014</td>\n",
              "      <td>16 - Belén</td>\n",
              "    </tr>\n",
              "    <tr>\n",
              "      <th>...</th>\n",
              "      <td>...</td>\n",
              "      <td>...</td>\n",
              "      <td>...</td>\n",
              "      <td>...</td>\n",
              "      <td>...</td>\n",
              "      <td>...</td>\n",
              "      <td>...</td>\n",
              "    </tr>\n",
              "    <tr>\n",
              "      <th>232865</th>\n",
              "      <td>Heridos</td>\n",
              "      <td>Otro</td>\n",
              "      <td>F</td>\n",
              "      <td>44</td>\n",
              "      <td>Motociclista</td>\n",
              "      <td>2021</td>\n",
              "      <td>06 - Doce de Octubre</td>\n",
              "    </tr>\n",
              "    <tr>\n",
              "      <th>232866</th>\n",
              "      <td>Heridos</td>\n",
              "      <td>Choque</td>\n",
              "      <td>F</td>\n",
              "      <td>38</td>\n",
              "      <td>Motociclista</td>\n",
              "      <td>2021</td>\n",
              "      <td>14 - El Poblado</td>\n",
              "    </tr>\n",
              "    <tr>\n",
              "      <th>232867</th>\n",
              "      <td>Heridos</td>\n",
              "      <td>Otro</td>\n",
              "      <td>M</td>\n",
              "      <td>32</td>\n",
              "      <td>Motociclista</td>\n",
              "      <td>2021</td>\n",
              "      <td>08 - Villa Hermosa</td>\n",
              "    </tr>\n",
              "    <tr>\n",
              "      <th>232868</th>\n",
              "      <td>Heridos</td>\n",
              "      <td>Otro</td>\n",
              "      <td>F</td>\n",
              "      <td>29</td>\n",
              "      <td>Acompañante de Motocicleta</td>\n",
              "      <td>2021</td>\n",
              "      <td>08 - Villa Hermosa</td>\n",
              "    </tr>\n",
              "    <tr>\n",
              "      <th>232869</th>\n",
              "      <td>Heridos</td>\n",
              "      <td>Caida Ocupante</td>\n",
              "      <td>M</td>\n",
              "      <td>41</td>\n",
              "      <td>Acompañante de Motocicleta</td>\n",
              "      <td>2021</td>\n",
              "      <td>03 - Manrique</td>\n",
              "    </tr>\n",
              "  </tbody>\n",
              "</table>\n",
              "<p>211855 rows × 7 columns</p>\n",
              "</div>\n",
              "      <button class=\"colab-df-convert\" onclick=\"convertToInteractive('df-0b610561-ce03-4adc-8814-031abe85e637')\"\n",
              "              title=\"Convert this dataframe to an interactive table.\"\n",
              "              style=\"display:none;\">\n",
              "        \n",
              "  <svg xmlns=\"http://www.w3.org/2000/svg\" height=\"24px\"viewBox=\"0 0 24 24\"\n",
              "       width=\"24px\">\n",
              "    <path d=\"M0 0h24v24H0V0z\" fill=\"none\"/>\n",
              "    <path d=\"M18.56 5.44l.94 2.06.94-2.06 2.06-.94-2.06-.94-.94-2.06-.94 2.06-2.06.94zm-11 1L8.5 8.5l.94-2.06 2.06-.94-2.06-.94L8.5 2.5l-.94 2.06-2.06.94zm10 10l.94 2.06.94-2.06 2.06-.94-2.06-.94-.94-2.06-.94 2.06-2.06.94z\"/><path d=\"M17.41 7.96l-1.37-1.37c-.4-.4-.92-.59-1.43-.59-.52 0-1.04.2-1.43.59L10.3 9.45l-7.72 7.72c-.78.78-.78 2.05 0 2.83L4 21.41c.39.39.9.59 1.41.59.51 0 1.02-.2 1.41-.59l7.78-7.78 2.81-2.81c.8-.78.8-2.07 0-2.86zM5.41 20L4 18.59l7.72-7.72 1.47 1.35L5.41 20z\"/>\n",
              "  </svg>\n",
              "      </button>\n",
              "      \n",
              "  <style>\n",
              "    .colab-df-container {\n",
              "      display:flex;\n",
              "      flex-wrap:wrap;\n",
              "      gap: 12px;\n",
              "    }\n",
              "\n",
              "    .colab-df-convert {\n",
              "      background-color: #E8F0FE;\n",
              "      border: none;\n",
              "      border-radius: 50%;\n",
              "      cursor: pointer;\n",
              "      display: none;\n",
              "      fill: #1967D2;\n",
              "      height: 32px;\n",
              "      padding: 0 0 0 0;\n",
              "      width: 32px;\n",
              "    }\n",
              "\n",
              "    .colab-df-convert:hover {\n",
              "      background-color: #E2EBFA;\n",
              "      box-shadow: 0px 1px 2px rgba(60, 64, 67, 0.3), 0px 1px 3px 1px rgba(60, 64, 67, 0.15);\n",
              "      fill: #174EA6;\n",
              "    }\n",
              "\n",
              "    [theme=dark] .colab-df-convert {\n",
              "      background-color: #3B4455;\n",
              "      fill: #D2E3FC;\n",
              "    }\n",
              "\n",
              "    [theme=dark] .colab-df-convert:hover {\n",
              "      background-color: #434B5C;\n",
              "      box-shadow: 0px 1px 3px 1px rgba(0, 0, 0, 0.15);\n",
              "      filter: drop-shadow(0px 1px 2px rgba(0, 0, 0, 0.3));\n",
              "      fill: #FFFFFF;\n",
              "    }\n",
              "  </style>\n",
              "\n",
              "      <script>\n",
              "        const buttonEl =\n",
              "          document.querySelector('#df-0b610561-ce03-4adc-8814-031abe85e637 button.colab-df-convert');\n",
              "        buttonEl.style.display =\n",
              "          google.colab.kernel.accessAllowed ? 'block' : 'none';\n",
              "\n",
              "        async function convertToInteractive(key) {\n",
              "          const element = document.querySelector('#df-0b610561-ce03-4adc-8814-031abe85e637');\n",
              "          const dataTable =\n",
              "            await google.colab.kernel.invokeFunction('convertToInteractive',\n",
              "                                                     [key], {});\n",
              "          if (!dataTable) return;\n",
              "\n",
              "          const docLinkHtml = 'Like what you see? Visit the ' +\n",
              "            '<a target=\"_blank\" href=https://colab.research.google.com/notebooks/data_table.ipynb>data table notebook</a>'\n",
              "            + ' to learn more about interactive tables.';\n",
              "          element.innerHTML = '';\n",
              "          dataTable['output_type'] = 'display_data';\n",
              "          await google.colab.output.renderOutput(dataTable, element);\n",
              "          const docLink = document.createElement('div');\n",
              "          docLink.innerHTML = docLinkHtml;\n",
              "          element.appendChild(docLink);\n",
              "        }\n",
              "      </script>\n",
              "    </div>\n",
              "  </div>\n",
              "  "
            ]
          },
          "metadata": {},
          "execution_count": 81
        }
      ]
    },
    {
      "cell_type": "code",
      "source": [
        "dummies = pd.get_dummies(df['Gravedad_victima'])\n",
        "dummies.head(20)"
      ],
      "metadata": {
        "colab": {
          "base_uri": "https://localhost:8080/",
          "height": 676
        },
        "id": "ncncsjJjr8Vw",
        "outputId": "9dc3233c-5e17-497c-909d-6953ded6925b"
      },
      "execution_count": 82,
      "outputs": [
        {
          "output_type": "execute_result",
          "data": {
            "text/plain": [
              "    Heridos  Muertos\n",
              "0         1        0\n",
              "1         1        0\n",
              "2         1        0\n",
              "3         1        0\n",
              "4         1        0\n",
              "5         1        0\n",
              "6         1        0\n",
              "7         1        0\n",
              "8         1        0\n",
              "9         1        0\n",
              "11        1        0\n",
              "13        1        0\n",
              "14        1        0\n",
              "15        1        0\n",
              "16        1        0\n",
              "17        1        0\n",
              "18        1        0\n",
              "20        1        0\n",
              "21        1        0\n",
              "22        1        0"
            ],
            "text/html": [
              "\n",
              "  <div id=\"df-0e7482d0-3a1d-4e4a-90d7-eb4d4c4db4a4\">\n",
              "    <div class=\"colab-df-container\">\n",
              "      <div>\n",
              "<style scoped>\n",
              "    .dataframe tbody tr th:only-of-type {\n",
              "        vertical-align: middle;\n",
              "    }\n",
              "\n",
              "    .dataframe tbody tr th {\n",
              "        vertical-align: top;\n",
              "    }\n",
              "\n",
              "    .dataframe thead th {\n",
              "        text-align: right;\n",
              "    }\n",
              "</style>\n",
              "<table border=\"1\" class=\"dataframe\">\n",
              "  <thead>\n",
              "    <tr style=\"text-align: right;\">\n",
              "      <th></th>\n",
              "      <th>Heridos</th>\n",
              "      <th>Muertos</th>\n",
              "    </tr>\n",
              "  </thead>\n",
              "  <tbody>\n",
              "    <tr>\n",
              "      <th>0</th>\n",
              "      <td>1</td>\n",
              "      <td>0</td>\n",
              "    </tr>\n",
              "    <tr>\n",
              "      <th>1</th>\n",
              "      <td>1</td>\n",
              "      <td>0</td>\n",
              "    </tr>\n",
              "    <tr>\n",
              "      <th>2</th>\n",
              "      <td>1</td>\n",
              "      <td>0</td>\n",
              "    </tr>\n",
              "    <tr>\n",
              "      <th>3</th>\n",
              "      <td>1</td>\n",
              "      <td>0</td>\n",
              "    </tr>\n",
              "    <tr>\n",
              "      <th>4</th>\n",
              "      <td>1</td>\n",
              "      <td>0</td>\n",
              "    </tr>\n",
              "    <tr>\n",
              "      <th>5</th>\n",
              "      <td>1</td>\n",
              "      <td>0</td>\n",
              "    </tr>\n",
              "    <tr>\n",
              "      <th>6</th>\n",
              "      <td>1</td>\n",
              "      <td>0</td>\n",
              "    </tr>\n",
              "    <tr>\n",
              "      <th>7</th>\n",
              "      <td>1</td>\n",
              "      <td>0</td>\n",
              "    </tr>\n",
              "    <tr>\n",
              "      <th>8</th>\n",
              "      <td>1</td>\n",
              "      <td>0</td>\n",
              "    </tr>\n",
              "    <tr>\n",
              "      <th>9</th>\n",
              "      <td>1</td>\n",
              "      <td>0</td>\n",
              "    </tr>\n",
              "    <tr>\n",
              "      <th>11</th>\n",
              "      <td>1</td>\n",
              "      <td>0</td>\n",
              "    </tr>\n",
              "    <tr>\n",
              "      <th>13</th>\n",
              "      <td>1</td>\n",
              "      <td>0</td>\n",
              "    </tr>\n",
              "    <tr>\n",
              "      <th>14</th>\n",
              "      <td>1</td>\n",
              "      <td>0</td>\n",
              "    </tr>\n",
              "    <tr>\n",
              "      <th>15</th>\n",
              "      <td>1</td>\n",
              "      <td>0</td>\n",
              "    </tr>\n",
              "    <tr>\n",
              "      <th>16</th>\n",
              "      <td>1</td>\n",
              "      <td>0</td>\n",
              "    </tr>\n",
              "    <tr>\n",
              "      <th>17</th>\n",
              "      <td>1</td>\n",
              "      <td>0</td>\n",
              "    </tr>\n",
              "    <tr>\n",
              "      <th>18</th>\n",
              "      <td>1</td>\n",
              "      <td>0</td>\n",
              "    </tr>\n",
              "    <tr>\n",
              "      <th>20</th>\n",
              "      <td>1</td>\n",
              "      <td>0</td>\n",
              "    </tr>\n",
              "    <tr>\n",
              "      <th>21</th>\n",
              "      <td>1</td>\n",
              "      <td>0</td>\n",
              "    </tr>\n",
              "    <tr>\n",
              "      <th>22</th>\n",
              "      <td>1</td>\n",
              "      <td>0</td>\n",
              "    </tr>\n",
              "  </tbody>\n",
              "</table>\n",
              "</div>\n",
              "      <button class=\"colab-df-convert\" onclick=\"convertToInteractive('df-0e7482d0-3a1d-4e4a-90d7-eb4d4c4db4a4')\"\n",
              "              title=\"Convert this dataframe to an interactive table.\"\n",
              "              style=\"display:none;\">\n",
              "        \n",
              "  <svg xmlns=\"http://www.w3.org/2000/svg\" height=\"24px\"viewBox=\"0 0 24 24\"\n",
              "       width=\"24px\">\n",
              "    <path d=\"M0 0h24v24H0V0z\" fill=\"none\"/>\n",
              "    <path d=\"M18.56 5.44l.94 2.06.94-2.06 2.06-.94-2.06-.94-.94-2.06-.94 2.06-2.06.94zm-11 1L8.5 8.5l.94-2.06 2.06-.94-2.06-.94L8.5 2.5l-.94 2.06-2.06.94zm10 10l.94 2.06.94-2.06 2.06-.94-2.06-.94-.94-2.06-.94 2.06-2.06.94z\"/><path d=\"M17.41 7.96l-1.37-1.37c-.4-.4-.92-.59-1.43-.59-.52 0-1.04.2-1.43.59L10.3 9.45l-7.72 7.72c-.78.78-.78 2.05 0 2.83L4 21.41c.39.39.9.59 1.41.59.51 0 1.02-.2 1.41-.59l7.78-7.78 2.81-2.81c.8-.78.8-2.07 0-2.86zM5.41 20L4 18.59l7.72-7.72 1.47 1.35L5.41 20z\"/>\n",
              "  </svg>\n",
              "      </button>\n",
              "      \n",
              "  <style>\n",
              "    .colab-df-container {\n",
              "      display:flex;\n",
              "      flex-wrap:wrap;\n",
              "      gap: 12px;\n",
              "    }\n",
              "\n",
              "    .colab-df-convert {\n",
              "      background-color: #E8F0FE;\n",
              "      border: none;\n",
              "      border-radius: 50%;\n",
              "      cursor: pointer;\n",
              "      display: none;\n",
              "      fill: #1967D2;\n",
              "      height: 32px;\n",
              "      padding: 0 0 0 0;\n",
              "      width: 32px;\n",
              "    }\n",
              "\n",
              "    .colab-df-convert:hover {\n",
              "      background-color: #E2EBFA;\n",
              "      box-shadow: 0px 1px 2px rgba(60, 64, 67, 0.3), 0px 1px 3px 1px rgba(60, 64, 67, 0.15);\n",
              "      fill: #174EA6;\n",
              "    }\n",
              "\n",
              "    [theme=dark] .colab-df-convert {\n",
              "      background-color: #3B4455;\n",
              "      fill: #D2E3FC;\n",
              "    }\n",
              "\n",
              "    [theme=dark] .colab-df-convert:hover {\n",
              "      background-color: #434B5C;\n",
              "      box-shadow: 0px 1px 3px 1px rgba(0, 0, 0, 0.15);\n",
              "      filter: drop-shadow(0px 1px 2px rgba(0, 0, 0, 0.3));\n",
              "      fill: #FFFFFF;\n",
              "    }\n",
              "  </style>\n",
              "\n",
              "      <script>\n",
              "        const buttonEl =\n",
              "          document.querySelector('#df-0e7482d0-3a1d-4e4a-90d7-eb4d4c4db4a4 button.colab-df-convert');\n",
              "        buttonEl.style.display =\n",
              "          google.colab.kernel.accessAllowed ? 'block' : 'none';\n",
              "\n",
              "        async function convertToInteractive(key) {\n",
              "          const element = document.querySelector('#df-0e7482d0-3a1d-4e4a-90d7-eb4d4c4db4a4');\n",
              "          const dataTable =\n",
              "            await google.colab.kernel.invokeFunction('convertToInteractive',\n",
              "                                                     [key], {});\n",
              "          if (!dataTable) return;\n",
              "\n",
              "          const docLinkHtml = 'Like what you see? Visit the ' +\n",
              "            '<a target=\"_blank\" href=https://colab.research.google.com/notebooks/data_table.ipynb>data table notebook</a>'\n",
              "            + ' to learn more about interactive tables.';\n",
              "          element.innerHTML = '';\n",
              "          dataTable['output_type'] = 'display_data';\n",
              "          await google.colab.output.renderOutput(dataTable, element);\n",
              "          const docLink = document.createElement('div');\n",
              "          docLink.innerHTML = docLinkHtml;\n",
              "          element.appendChild(docLink);\n",
              "        }\n",
              "      </script>\n",
              "    </div>\n",
              "  </div>\n",
              "  "
            ]
          },
          "metadata": {},
          "execution_count": 82
        }
      ]
    },
    {
      "cell_type": "code",
      "source": [
        "# Eliminamos la variable muertos\n",
        "dummies = dummies.drop(columns=['Muertos'])"
      ],
      "metadata": {
        "id": "huv6G2iVFNhH"
      },
      "execution_count": 83,
      "outputs": []
    },
    {
      "cell_type": "markdown",
      "source": [
        "Lo que voy a predecir es la gravedad de la víctima en un incidente vial, tomando a Herido=1 y Muerto=0."
      ],
      "metadata": {
        "id": "W9vTJY_2FrH2"
      }
    },
    {
      "cell_type": "code",
      "source": [
        "# Añadimos las variables binarias al DataFrame\n",
        "df = pd.concat([df, dummies], axis = 1)"
      ],
      "metadata": {
        "id": "5CRHfB63FNkK"
      },
      "execution_count": 84,
      "outputs": []
    },
    {
      "cell_type": "code",
      "source": [
        "df=df.drop(columns=['Gravedad_victima'])\n",
        "df.rename({'Heridos': 'Gravedad_victima'}, axis=1,inplace=True)\n",
        "df"
      ],
      "metadata": {
        "colab": {
          "base_uri": "https://localhost:8080/",
          "height": 424
        },
        "id": "4goKnlurFNm9",
        "outputId": "bf018cd8-502a-4f39-93b9-1c325f4c8974"
      },
      "execution_count": 85,
      "outputs": [
        {
          "output_type": "execute_result",
          "data": {
            "text/plain": [
              "       Clase_incidente Sexo  Edad                   Condicion   Año  \\\n",
              "0                 Otro    M    17                Motociclista  2014   \n",
              "1            Atropello    M    20                Motociclista  2014   \n",
              "2            Atropello    F    18                      Peatón  2014   \n",
              "3            Atropello    M    19                Motociclista  2014   \n",
              "4            Atropello    M    39                      Peatón  2014   \n",
              "...                ...  ...   ...                         ...   ...   \n",
              "232865            Otro    F    44                Motociclista  2021   \n",
              "232866          Choque    F    38                Motociclista  2021   \n",
              "232867            Otro    M    32                Motociclista  2021   \n",
              "232868            Otro    F    29  Acompañante de Motocicleta  2021   \n",
              "232869  Caida Ocupante    M    41  Acompañante de Motocicleta  2021   \n",
              "\n",
              "                      Comuna  Gravedad_victima  \n",
              "0              04 - Aranjuez                 1  \n",
              "1               01 - Popular                 1  \n",
              "2               01 - Popular                 1  \n",
              "3                 16 - Belén                 1  \n",
              "4                 16 - Belén                 1  \n",
              "...                      ...               ...  \n",
              "232865  06 - Doce de Octubre                 1  \n",
              "232866       14 - El Poblado                 1  \n",
              "232867    08 - Villa Hermosa                 1  \n",
              "232868    08 - Villa Hermosa                 1  \n",
              "232869         03 - Manrique                 1  \n",
              "\n",
              "[211855 rows x 7 columns]"
            ],
            "text/html": [
              "\n",
              "  <div id=\"df-ed6dff04-6836-4965-83d4-6eefcfc6ebd4\">\n",
              "    <div class=\"colab-df-container\">\n",
              "      <div>\n",
              "<style scoped>\n",
              "    .dataframe tbody tr th:only-of-type {\n",
              "        vertical-align: middle;\n",
              "    }\n",
              "\n",
              "    .dataframe tbody tr th {\n",
              "        vertical-align: top;\n",
              "    }\n",
              "\n",
              "    .dataframe thead th {\n",
              "        text-align: right;\n",
              "    }\n",
              "</style>\n",
              "<table border=\"1\" class=\"dataframe\">\n",
              "  <thead>\n",
              "    <tr style=\"text-align: right;\">\n",
              "      <th></th>\n",
              "      <th>Clase_incidente</th>\n",
              "      <th>Sexo</th>\n",
              "      <th>Edad</th>\n",
              "      <th>Condicion</th>\n",
              "      <th>Año</th>\n",
              "      <th>Comuna</th>\n",
              "      <th>Gravedad_victima</th>\n",
              "    </tr>\n",
              "  </thead>\n",
              "  <tbody>\n",
              "    <tr>\n",
              "      <th>0</th>\n",
              "      <td>Otro</td>\n",
              "      <td>M</td>\n",
              "      <td>17</td>\n",
              "      <td>Motociclista</td>\n",
              "      <td>2014</td>\n",
              "      <td>04 - Aranjuez</td>\n",
              "      <td>1</td>\n",
              "    </tr>\n",
              "    <tr>\n",
              "      <th>1</th>\n",
              "      <td>Atropello</td>\n",
              "      <td>M</td>\n",
              "      <td>20</td>\n",
              "      <td>Motociclista</td>\n",
              "      <td>2014</td>\n",
              "      <td>01 - Popular</td>\n",
              "      <td>1</td>\n",
              "    </tr>\n",
              "    <tr>\n",
              "      <th>2</th>\n",
              "      <td>Atropello</td>\n",
              "      <td>F</td>\n",
              "      <td>18</td>\n",
              "      <td>Peatón</td>\n",
              "      <td>2014</td>\n",
              "      <td>01 - Popular</td>\n",
              "      <td>1</td>\n",
              "    </tr>\n",
              "    <tr>\n",
              "      <th>3</th>\n",
              "      <td>Atropello</td>\n",
              "      <td>M</td>\n",
              "      <td>19</td>\n",
              "      <td>Motociclista</td>\n",
              "      <td>2014</td>\n",
              "      <td>16 - Belén</td>\n",
              "      <td>1</td>\n",
              "    </tr>\n",
              "    <tr>\n",
              "      <th>4</th>\n",
              "      <td>Atropello</td>\n",
              "      <td>M</td>\n",
              "      <td>39</td>\n",
              "      <td>Peatón</td>\n",
              "      <td>2014</td>\n",
              "      <td>16 - Belén</td>\n",
              "      <td>1</td>\n",
              "    </tr>\n",
              "    <tr>\n",
              "      <th>...</th>\n",
              "      <td>...</td>\n",
              "      <td>...</td>\n",
              "      <td>...</td>\n",
              "      <td>...</td>\n",
              "      <td>...</td>\n",
              "      <td>...</td>\n",
              "      <td>...</td>\n",
              "    </tr>\n",
              "    <tr>\n",
              "      <th>232865</th>\n",
              "      <td>Otro</td>\n",
              "      <td>F</td>\n",
              "      <td>44</td>\n",
              "      <td>Motociclista</td>\n",
              "      <td>2021</td>\n",
              "      <td>06 - Doce de Octubre</td>\n",
              "      <td>1</td>\n",
              "    </tr>\n",
              "    <tr>\n",
              "      <th>232866</th>\n",
              "      <td>Choque</td>\n",
              "      <td>F</td>\n",
              "      <td>38</td>\n",
              "      <td>Motociclista</td>\n",
              "      <td>2021</td>\n",
              "      <td>14 - El Poblado</td>\n",
              "      <td>1</td>\n",
              "    </tr>\n",
              "    <tr>\n",
              "      <th>232867</th>\n",
              "      <td>Otro</td>\n",
              "      <td>M</td>\n",
              "      <td>32</td>\n",
              "      <td>Motociclista</td>\n",
              "      <td>2021</td>\n",
              "      <td>08 - Villa Hermosa</td>\n",
              "      <td>1</td>\n",
              "    </tr>\n",
              "    <tr>\n",
              "      <th>232868</th>\n",
              "      <td>Otro</td>\n",
              "      <td>F</td>\n",
              "      <td>29</td>\n",
              "      <td>Acompañante de Motocicleta</td>\n",
              "      <td>2021</td>\n",
              "      <td>08 - Villa Hermosa</td>\n",
              "      <td>1</td>\n",
              "    </tr>\n",
              "    <tr>\n",
              "      <th>232869</th>\n",
              "      <td>Caida Ocupante</td>\n",
              "      <td>M</td>\n",
              "      <td>41</td>\n",
              "      <td>Acompañante de Motocicleta</td>\n",
              "      <td>2021</td>\n",
              "      <td>03 - Manrique</td>\n",
              "      <td>1</td>\n",
              "    </tr>\n",
              "  </tbody>\n",
              "</table>\n",
              "<p>211855 rows × 7 columns</p>\n",
              "</div>\n",
              "      <button class=\"colab-df-convert\" onclick=\"convertToInteractive('df-ed6dff04-6836-4965-83d4-6eefcfc6ebd4')\"\n",
              "              title=\"Convert this dataframe to an interactive table.\"\n",
              "              style=\"display:none;\">\n",
              "        \n",
              "  <svg xmlns=\"http://www.w3.org/2000/svg\" height=\"24px\"viewBox=\"0 0 24 24\"\n",
              "       width=\"24px\">\n",
              "    <path d=\"M0 0h24v24H0V0z\" fill=\"none\"/>\n",
              "    <path d=\"M18.56 5.44l.94 2.06.94-2.06 2.06-.94-2.06-.94-.94-2.06-.94 2.06-2.06.94zm-11 1L8.5 8.5l.94-2.06 2.06-.94-2.06-.94L8.5 2.5l-.94 2.06-2.06.94zm10 10l.94 2.06.94-2.06 2.06-.94-2.06-.94-.94-2.06-.94 2.06-2.06.94z\"/><path d=\"M17.41 7.96l-1.37-1.37c-.4-.4-.92-.59-1.43-.59-.52 0-1.04.2-1.43.59L10.3 9.45l-7.72 7.72c-.78.78-.78 2.05 0 2.83L4 21.41c.39.39.9.59 1.41.59.51 0 1.02-.2 1.41-.59l7.78-7.78 2.81-2.81c.8-.78.8-2.07 0-2.86zM5.41 20L4 18.59l7.72-7.72 1.47 1.35L5.41 20z\"/>\n",
              "  </svg>\n",
              "      </button>\n",
              "      \n",
              "  <style>\n",
              "    .colab-df-container {\n",
              "      display:flex;\n",
              "      flex-wrap:wrap;\n",
              "      gap: 12px;\n",
              "    }\n",
              "\n",
              "    .colab-df-convert {\n",
              "      background-color: #E8F0FE;\n",
              "      border: none;\n",
              "      border-radius: 50%;\n",
              "      cursor: pointer;\n",
              "      display: none;\n",
              "      fill: #1967D2;\n",
              "      height: 32px;\n",
              "      padding: 0 0 0 0;\n",
              "      width: 32px;\n",
              "    }\n",
              "\n",
              "    .colab-df-convert:hover {\n",
              "      background-color: #E2EBFA;\n",
              "      box-shadow: 0px 1px 2px rgba(60, 64, 67, 0.3), 0px 1px 3px 1px rgba(60, 64, 67, 0.15);\n",
              "      fill: #174EA6;\n",
              "    }\n",
              "\n",
              "    [theme=dark] .colab-df-convert {\n",
              "      background-color: #3B4455;\n",
              "      fill: #D2E3FC;\n",
              "    }\n",
              "\n",
              "    [theme=dark] .colab-df-convert:hover {\n",
              "      background-color: #434B5C;\n",
              "      box-shadow: 0px 1px 3px 1px rgba(0, 0, 0, 0.15);\n",
              "      filter: drop-shadow(0px 1px 2px rgba(0, 0, 0, 0.3));\n",
              "      fill: #FFFFFF;\n",
              "    }\n",
              "  </style>\n",
              "\n",
              "      <script>\n",
              "        const buttonEl =\n",
              "          document.querySelector('#df-ed6dff04-6836-4965-83d4-6eefcfc6ebd4 button.colab-df-convert');\n",
              "        buttonEl.style.display =\n",
              "          google.colab.kernel.accessAllowed ? 'block' : 'none';\n",
              "\n",
              "        async function convertToInteractive(key) {\n",
              "          const element = document.querySelector('#df-ed6dff04-6836-4965-83d4-6eefcfc6ebd4');\n",
              "          const dataTable =\n",
              "            await google.colab.kernel.invokeFunction('convertToInteractive',\n",
              "                                                     [key], {});\n",
              "          if (!dataTable) return;\n",
              "\n",
              "          const docLinkHtml = 'Like what you see? Visit the ' +\n",
              "            '<a target=\"_blank\" href=https://colab.research.google.com/notebooks/data_table.ipynb>data table notebook</a>'\n",
              "            + ' to learn more about interactive tables.';\n",
              "          element.innerHTML = '';\n",
              "          dataTable['output_type'] = 'display_data';\n",
              "          await google.colab.output.renderOutput(dataTable, element);\n",
              "          const docLink = document.createElement('div');\n",
              "          docLink.innerHTML = docLinkHtml;\n",
              "          element.appendChild(docLink);\n",
              "        }\n",
              "      </script>\n",
              "    </div>\n",
              "  </div>\n",
              "  "
            ]
          },
          "metadata": {},
          "execution_count": 85
        }
      ]
    },
    {
      "cell_type": "code",
      "source": [
        "encoder = LabelEncoder()\n",
        "\n",
        "df[\"Clase_incidente\"] = encoder.fit_transform(df[\"Clase_incidente\"])\n",
        "df['Sexo']=encoder.fit_transform(df[\"Sexo\"])\n",
        "df['Condicion']=encoder.fit_transform(df[\"Condicion\"])\n",
        "df['Comuna']=encoder.fit_transform(df[\"Comuna\"])\n",
        "\n"
      ],
      "metadata": {
        "id": "zjR1OWEBLChg"
      },
      "execution_count": 86,
      "outputs": []
    },
    {
      "cell_type": "code",
      "source": [
        "df"
      ],
      "metadata": {
        "colab": {
          "base_uri": "https://localhost:8080/",
          "height": 424
        },
        "id": "-j4b6mmOLCk9",
        "outputId": "ab861b8a-7e59-4130-a23f-aca7311012b7"
      },
      "execution_count": 87,
      "outputs": [
        {
          "output_type": "execute_result",
          "data": {
            "text/plain": [
              "        Clase_incidente  Sexo  Edad  Condicion   Año  Comuna  Gravedad_victima\n",
              "0                     4     1    17          3  2014       3                 1\n",
              "1                     0     1    20          3  2014       0                 1\n",
              "2                     0     0    18          5  2014       0                 1\n",
              "3                     0     1    19          3  2014      15                 1\n",
              "4                     0     1    39          5  2014      15                 1\n",
              "...                 ...   ...   ...        ...   ...     ...               ...\n",
              "232865                4     0    44          3  2021       5                 1\n",
              "232866                2     0    38          3  2021      13                 1\n",
              "232867                4     1    32          3  2021       7                 1\n",
              "232868                4     0    29          0  2021       7                 1\n",
              "232869                1     1    41          0  2021       2                 1\n",
              "\n",
              "[211855 rows x 7 columns]"
            ],
            "text/html": [
              "\n",
              "  <div id=\"df-1d55a26a-f283-4654-b00b-b7517f8a5130\">\n",
              "    <div class=\"colab-df-container\">\n",
              "      <div>\n",
              "<style scoped>\n",
              "    .dataframe tbody tr th:only-of-type {\n",
              "        vertical-align: middle;\n",
              "    }\n",
              "\n",
              "    .dataframe tbody tr th {\n",
              "        vertical-align: top;\n",
              "    }\n",
              "\n",
              "    .dataframe thead th {\n",
              "        text-align: right;\n",
              "    }\n",
              "</style>\n",
              "<table border=\"1\" class=\"dataframe\">\n",
              "  <thead>\n",
              "    <tr style=\"text-align: right;\">\n",
              "      <th></th>\n",
              "      <th>Clase_incidente</th>\n",
              "      <th>Sexo</th>\n",
              "      <th>Edad</th>\n",
              "      <th>Condicion</th>\n",
              "      <th>Año</th>\n",
              "      <th>Comuna</th>\n",
              "      <th>Gravedad_victima</th>\n",
              "    </tr>\n",
              "  </thead>\n",
              "  <tbody>\n",
              "    <tr>\n",
              "      <th>0</th>\n",
              "      <td>4</td>\n",
              "      <td>1</td>\n",
              "      <td>17</td>\n",
              "      <td>3</td>\n",
              "      <td>2014</td>\n",
              "      <td>3</td>\n",
              "      <td>1</td>\n",
              "    </tr>\n",
              "    <tr>\n",
              "      <th>1</th>\n",
              "      <td>0</td>\n",
              "      <td>1</td>\n",
              "      <td>20</td>\n",
              "      <td>3</td>\n",
              "      <td>2014</td>\n",
              "      <td>0</td>\n",
              "      <td>1</td>\n",
              "    </tr>\n",
              "    <tr>\n",
              "      <th>2</th>\n",
              "      <td>0</td>\n",
              "      <td>0</td>\n",
              "      <td>18</td>\n",
              "      <td>5</td>\n",
              "      <td>2014</td>\n",
              "      <td>0</td>\n",
              "      <td>1</td>\n",
              "    </tr>\n",
              "    <tr>\n",
              "      <th>3</th>\n",
              "      <td>0</td>\n",
              "      <td>1</td>\n",
              "      <td>19</td>\n",
              "      <td>3</td>\n",
              "      <td>2014</td>\n",
              "      <td>15</td>\n",
              "      <td>1</td>\n",
              "    </tr>\n",
              "    <tr>\n",
              "      <th>4</th>\n",
              "      <td>0</td>\n",
              "      <td>1</td>\n",
              "      <td>39</td>\n",
              "      <td>5</td>\n",
              "      <td>2014</td>\n",
              "      <td>15</td>\n",
              "      <td>1</td>\n",
              "    </tr>\n",
              "    <tr>\n",
              "      <th>...</th>\n",
              "      <td>...</td>\n",
              "      <td>...</td>\n",
              "      <td>...</td>\n",
              "      <td>...</td>\n",
              "      <td>...</td>\n",
              "      <td>...</td>\n",
              "      <td>...</td>\n",
              "    </tr>\n",
              "    <tr>\n",
              "      <th>232865</th>\n",
              "      <td>4</td>\n",
              "      <td>0</td>\n",
              "      <td>44</td>\n",
              "      <td>3</td>\n",
              "      <td>2021</td>\n",
              "      <td>5</td>\n",
              "      <td>1</td>\n",
              "    </tr>\n",
              "    <tr>\n",
              "      <th>232866</th>\n",
              "      <td>2</td>\n",
              "      <td>0</td>\n",
              "      <td>38</td>\n",
              "      <td>3</td>\n",
              "      <td>2021</td>\n",
              "      <td>13</td>\n",
              "      <td>1</td>\n",
              "    </tr>\n",
              "    <tr>\n",
              "      <th>232867</th>\n",
              "      <td>4</td>\n",
              "      <td>1</td>\n",
              "      <td>32</td>\n",
              "      <td>3</td>\n",
              "      <td>2021</td>\n",
              "      <td>7</td>\n",
              "      <td>1</td>\n",
              "    </tr>\n",
              "    <tr>\n",
              "      <th>232868</th>\n",
              "      <td>4</td>\n",
              "      <td>0</td>\n",
              "      <td>29</td>\n",
              "      <td>0</td>\n",
              "      <td>2021</td>\n",
              "      <td>7</td>\n",
              "      <td>1</td>\n",
              "    </tr>\n",
              "    <tr>\n",
              "      <th>232869</th>\n",
              "      <td>1</td>\n",
              "      <td>1</td>\n",
              "      <td>41</td>\n",
              "      <td>0</td>\n",
              "      <td>2021</td>\n",
              "      <td>2</td>\n",
              "      <td>1</td>\n",
              "    </tr>\n",
              "  </tbody>\n",
              "</table>\n",
              "<p>211855 rows × 7 columns</p>\n",
              "</div>\n",
              "      <button class=\"colab-df-convert\" onclick=\"convertToInteractive('df-1d55a26a-f283-4654-b00b-b7517f8a5130')\"\n",
              "              title=\"Convert this dataframe to an interactive table.\"\n",
              "              style=\"display:none;\">\n",
              "        \n",
              "  <svg xmlns=\"http://www.w3.org/2000/svg\" height=\"24px\"viewBox=\"0 0 24 24\"\n",
              "       width=\"24px\">\n",
              "    <path d=\"M0 0h24v24H0V0z\" fill=\"none\"/>\n",
              "    <path d=\"M18.56 5.44l.94 2.06.94-2.06 2.06-.94-2.06-.94-.94-2.06-.94 2.06-2.06.94zm-11 1L8.5 8.5l.94-2.06 2.06-.94-2.06-.94L8.5 2.5l-.94 2.06-2.06.94zm10 10l.94 2.06.94-2.06 2.06-.94-2.06-.94-.94-2.06-.94 2.06-2.06.94z\"/><path d=\"M17.41 7.96l-1.37-1.37c-.4-.4-.92-.59-1.43-.59-.52 0-1.04.2-1.43.59L10.3 9.45l-7.72 7.72c-.78.78-.78 2.05 0 2.83L4 21.41c.39.39.9.59 1.41.59.51 0 1.02-.2 1.41-.59l7.78-7.78 2.81-2.81c.8-.78.8-2.07 0-2.86zM5.41 20L4 18.59l7.72-7.72 1.47 1.35L5.41 20z\"/>\n",
              "  </svg>\n",
              "      </button>\n",
              "      \n",
              "  <style>\n",
              "    .colab-df-container {\n",
              "      display:flex;\n",
              "      flex-wrap:wrap;\n",
              "      gap: 12px;\n",
              "    }\n",
              "\n",
              "    .colab-df-convert {\n",
              "      background-color: #E8F0FE;\n",
              "      border: none;\n",
              "      border-radius: 50%;\n",
              "      cursor: pointer;\n",
              "      display: none;\n",
              "      fill: #1967D2;\n",
              "      height: 32px;\n",
              "      padding: 0 0 0 0;\n",
              "      width: 32px;\n",
              "    }\n",
              "\n",
              "    .colab-df-convert:hover {\n",
              "      background-color: #E2EBFA;\n",
              "      box-shadow: 0px 1px 2px rgba(60, 64, 67, 0.3), 0px 1px 3px 1px rgba(60, 64, 67, 0.15);\n",
              "      fill: #174EA6;\n",
              "    }\n",
              "\n",
              "    [theme=dark] .colab-df-convert {\n",
              "      background-color: #3B4455;\n",
              "      fill: #D2E3FC;\n",
              "    }\n",
              "\n",
              "    [theme=dark] .colab-df-convert:hover {\n",
              "      background-color: #434B5C;\n",
              "      box-shadow: 0px 1px 3px 1px rgba(0, 0, 0, 0.15);\n",
              "      filter: drop-shadow(0px 1px 2px rgba(0, 0, 0, 0.3));\n",
              "      fill: #FFFFFF;\n",
              "    }\n",
              "  </style>\n",
              "\n",
              "      <script>\n",
              "        const buttonEl =\n",
              "          document.querySelector('#df-1d55a26a-f283-4654-b00b-b7517f8a5130 button.colab-df-convert');\n",
              "        buttonEl.style.display =\n",
              "          google.colab.kernel.accessAllowed ? 'block' : 'none';\n",
              "\n",
              "        async function convertToInteractive(key) {\n",
              "          const element = document.querySelector('#df-1d55a26a-f283-4654-b00b-b7517f8a5130');\n",
              "          const dataTable =\n",
              "            await google.colab.kernel.invokeFunction('convertToInteractive',\n",
              "                                                     [key], {});\n",
              "          if (!dataTable) return;\n",
              "\n",
              "          const docLinkHtml = 'Like what you see? Visit the ' +\n",
              "            '<a target=\"_blank\" href=https://colab.research.google.com/notebooks/data_table.ipynb>data table notebook</a>'\n",
              "            + ' to learn more about interactive tables.';\n",
              "          element.innerHTML = '';\n",
              "          dataTable['output_type'] = 'display_data';\n",
              "          await google.colab.output.renderOutput(dataTable, element);\n",
              "          const docLink = document.createElement('div');\n",
              "          docLink.innerHTML = docLinkHtml;\n",
              "          element.appendChild(docLink);\n",
              "        }\n",
              "      </script>\n",
              "    </div>\n",
              "  </div>\n",
              "  "
            ]
          },
          "metadata": {},
          "execution_count": 87
        }
      ]
    },
    {
      "cell_type": "markdown",
      "source": [
        "Creamos una copia del set de datos así luego los separamos en train y test"
      ],
      "metadata": {
        "id": "f35ZPQzykxAI"
      }
    },
    {
      "cell_type": "code",
      "source": [
        "# Guardamos el dataframe/\n",
        "df.to_csv('/content/drive/MyDrive/new_df.csv', index=None)"
      ],
      "metadata": {
        "id": "HGsbvEmpk5UU"
      },
      "execution_count": 88,
      "outputs": []
    },
    {
      "cell_type": "code",
      "source": [
        "new_df=pd.read_csv(\"/content/drive/MyDrive/new_df.csv\", sep=\",\" )"
      ],
      "metadata": {
        "id": "rtaQbBe_lnah"
      },
      "execution_count": 89,
      "outputs": []
    },
    {
      "cell_type": "code",
      "source": [
        "y=new_df.Gravedad_victima\n",
        "X = new_df.drop('Gravedad_victima',axis=1)\n",
        "y, X"
      ],
      "metadata": {
        "colab": {
          "base_uri": "https://localhost:8080/"
        },
        "id": "7qKBjTyBlwte",
        "outputId": "af8c7a16-0405-4eb6-af17-c931fbc7676e"
      },
      "execution_count": 90,
      "outputs": [
        {
          "output_type": "execute_result",
          "data": {
            "text/plain": [
              "(0         1\n",
              " 1         1\n",
              " 2         1\n",
              " 3         1\n",
              " 4         1\n",
              "          ..\n",
              " 211850    1\n",
              " 211851    1\n",
              " 211852    1\n",
              " 211853    1\n",
              " 211854    1\n",
              " Name: Gravedad_victima, Length: 211855, dtype: int64,\n",
              "         Clase_incidente  Sexo  Edad  Condicion   Año  Comuna\n",
              " 0                     4     1    17          3  2014       3\n",
              " 1                     0     1    20          3  2014       0\n",
              " 2                     0     0    18          5  2014       0\n",
              " 3                     0     1    19          3  2014      15\n",
              " 4                     0     1    39          5  2014      15\n",
              " ...                 ...   ...   ...        ...   ...     ...\n",
              " 211850                4     0    44          3  2021       5\n",
              " 211851                2     0    38          3  2021      13\n",
              " 211852                4     1    32          3  2021       7\n",
              " 211853                4     0    29          0  2021       7\n",
              " 211854                1     1    41          0  2021       2\n",
              " \n",
              " [211855 rows x 6 columns])"
            ]
          },
          "metadata": {},
          "execution_count": 90
        }
      ]
    },
    {
      "cell_type": "markdown",
      "source": [
        "La variable objetivo muestra una clase mayoritaría que será tratada alñ momento de correr los modelos supervisados"
      ],
      "metadata": {
        "id": "QN5vM4qBHer3"
      }
    },
    {
      "cell_type": "markdown",
      "source": [
        "En este caso creo que no es necesario estandarizar los datos ya que la mayoría de ellos eran datos categóricos y se han pasado a numérico medias métodos de encoder."
      ],
      "metadata": {
        "id": "9e7xGnzxm0xm"
      }
    },
    {
      "cell_type": "markdown",
      "source": [
        "\n",
        "\n",
        "---\n",
        "\n",
        "\n",
        "\n",
        "Ahora analizamos nuestra variable objetivo que es 'Gravedad_victima' en donde la cantidad de 'Heridos' es la clase mayoritaría.:"
      ],
      "metadata": {
        "id": "IcXDl8xdmFoI"
      }
    },
    {
      "cell_type": "code",
      "source": [
        "sns.countplot(y)\n",
        "plt.xlabel('Gravedad de la Victima: herido=1 y muerto=0');\n",
        "plt.ylabel('Cantidad');\n",
        "plt.show()"
      ],
      "metadata": {
        "colab": {
          "base_uri": "https://localhost:8080/",
          "height": 279
        },
        "id": "uppXIjeXerOm",
        "outputId": "691b3ea4-54a8-4184-9f26-e8f0564d1c3f"
      },
      "execution_count": 91,
      "outputs": [
        {
          "output_type": "display_data",
          "data": {
            "text/plain": [
              "<Figure size 432x288 with 1 Axes>"
            ],
            "image/png": "[encoded data removed]"
          },
          "metadata": {
            "needs_background": "light"
          }
        }
      ]
    },
    {
      "cell_type": "code",
      "source": [
        "y = y.to_numpy()\n",
        "X = X.to_numpy()\n",
        "\n",
        "y.shape, X.shape"
      ],
      "metadata": {
        "colab": {
          "base_uri": "https://localhost:8080/"
        },
        "id": "pFblXYRso8D7",
        "outputId": "593343cb-5e38-4caf-c002-1ddc2171434e"
      },
      "execution_count": 92,
      "outputs": [
        {
          "output_type": "execute_result",
          "data": {
            "text/plain": [
              "((211855,), (211855, 6))"
            ]
          },
          "metadata": {},
          "execution_count": 92
        }
      ]
    },
    {
      "cell_type": "markdown",
      "source": [
        "Dividimos el set de datos en entrenamiento y test"
      ],
      "metadata": {
        "id": "gb4uhw0QnzGT"
      }
    },
    {
      "cell_type": "code",
      "source": [
        "X_train, X_test, y_train, y_test = train_test_split(X, y, train_size=0.8, random_state = 8)\n",
        "X_train.shape, X_test.shape, y_train.shape, y_test.shape"
      ],
      "metadata": {
        "colab": {
          "base_uri": "https://localhost:8080/"
        },
        "id": "MS1zXxGjHPhA",
        "outputId": "77d873f0-a3bd-4e8b-81d8-803eb28fcdc6"
      },
      "execution_count": 93,
      "outputs": [
        {
          "output_type": "execute_result",
          "data": {
            "text/plain": [
              "((169484, 6), (42371, 6), (169484,), (42371,))"
            ]
          },
          "metadata": {},
          "execution_count": 93
        }
      ]
    },
    {
      "cell_type": "markdown",
      "source": [
        "\n",
        "\n",
        "---\n",
        "\n",
        "\n",
        "Arboles de Desición"
      ],
      "metadata": {
        "id": "Jd5U3o-EtQAi"
      }
    },
    {
      "cell_type": "markdown",
      "source": [
        "Corro un modelo de Árbol de Decisión para ver como se comporta el modelo teniendo la variable objetivo desbalanceada"
      ],
      "metadata": {
        "id": "6BjPqFbCtRrE"
      }
    },
    {
      "cell_type": "code",
      "source": [
        "clfs = [DecisionTreeClassifier()]\n",
        "names = ['Árbol de decisión']\n",
        "\n",
        "trained_models = []\n",
        "accuracy_models = []\n",
        "for clf,name in zip(clfs,names):\n",
        "    print(name)\n",
        "    clf.fit(X_train, y_train)\n",
        "    train_predictions = clf.predict(X_train)\n",
        "    accuracy = accuracy_score(y_train, train_predictions)\n",
        "    print(f\"Accuracy train {name}: %.2f%%\" % (accuracy * 100.0))\n",
        "\n",
        "    train_predictions = clf.predict(X_test)\n",
        "    accuracy = accuracy_score(y_test, train_predictions)\n",
        "    print(f\"Accuracy test {name}: %.2f%%\" % (accuracy * 100.0))\n",
        "\n",
        "    trained_models.append(clf)\n",
        "    accuracy_models.append(accuracy*100)"
      ],
      "metadata": {
        "colab": {
          "base_uri": "https://localhost:8080/"
        },
        "id": "VrhlmoUwteWC",
        "outputId": "04c8097c-149b-4798-b6d9-7e52f9cf94eb"
      },
      "execution_count": 97,
      "outputs": [
        {
          "output_type": "stream",
          "name": "stdout",
          "text": [
            "Árbol de decisión\n",
            "Accuracy train Árbol de decisión: 99.41%\n",
            "Accuracy test Árbol de decisión: 98.51%\n"
          ]
        }
      ]
    },
    {
      "cell_type": "markdown",
      "source": [
        "\n",
        "\n",
        "---\n",
        "\n",
        "\n",
        "Ejecutamos con un modelo Random Forest"
      ],
      "metadata": {
        "id": "0Eu7cOXSvcAP"
      }
    },
    {
      "cell_type": "code",
      "source": [
        "# Análisis del modelo en TEST\n",
        "clf = ensemble.RandomForestClassifier(criterion= \"gini\", n_estimators=50, random_state=2)\n",
        "clf.fit(X_train, y_train);\n",
        "predictions = clf.predict(X_test)\n",
        "print(classification_report(y_test, predictions))"
      ],
      "metadata": {
        "colab": {
          "base_uri": "https://localhost:8080/"
        },
        "id": "FXCBC2u3tedU",
        "outputId": "cf70f6b1-76b1-46e1-c3df-0a96b61d5f6d"
      },
      "execution_count": 99,
      "outputs": [
        {
          "output_type": "stream",
          "name": "stdout",
          "text": [
            "              precision    recall  f1-score   support\n",
            "\n",
            "           0       0.00      0.00      0.00       342\n",
            "           1       0.99      1.00      1.00     42029\n",
            "\n",
            "    accuracy                           0.99     42371\n",
            "   macro avg       0.50      0.50      0.50     42371\n",
            "weighted avg       0.98      0.99      0.99     42371\n",
            "\n"
          ]
        }
      ]
    },
    {
      "cell_type": "code",
      "source": [
        "plot_confusion_matrix(clf,X_test,y_test)\n",
        "plt.show()"
      ],
      "metadata": {
        "colab": {
          "base_uri": "https://localhost:8080/",
          "height": 279
        },
        "id": "so3pKFiqtef3",
        "outputId": "91a9ea8c-80e8-4436-f279-60b8ed6dc9ac"
      },
      "execution_count": 100,
      "outputs": [
        {
          "output_type": "display_data",
          "data": {
            "text/plain": [
              "<Figure size 432x288 with 2 Axes>"
            ],
            "image/png": "[encoded data removed]"
          },
          "metadata": {
            "needs_background": "light"
          }
        }
      ]
    },
    {
      "cell_type": "markdown",
      "source": [
        "\n",
        "\n",
        "---\n",
        "\n",
        "\n",
        "Balancear nuestra Varibale Objetivo\n",
        "\n",
        "Una de las estrategias para tratar de mejorar la situación es crear muestras sintéticas (no idénticas) utilizando diversos algoritmos que intentan seguir la tendencia del grupo minoritario. Esto lo logramos con la función RandomOverSampler() que duplicar aleatoriamente los ejemplos en la clase minoritaria."
      ],
      "metadata": {
        "id": "T675PNjKnM-z"
      }
    },
    {
      "cell_type": "code",
      "source": [
        "print(\"Before OverSampling, counts of label '1': {}\".format(sum(y_train == 1))) \n",
        "print(\"Before OverSampling, counts of label '0': {} \\n\".format(sum(y_train == 0))) \n",
        "  \n",
        "from imblearn.over_sampling import SMOTE \n",
        "sm = SMOTE(random_state = 2) \n",
        "X_train_res, y_train_res = sm.fit_resample(X_train, y_train.ravel()) \n",
        "  \n",
        "print('After OverSampling, the shape of train_X: {}'.format(X_train_res.shape)) \n",
        "print('After OverSampling, the shape of train_y: {} \\n'.format(y_train_res.shape)) \n",
        "  \n",
        "print(\"After OverSampling, counts of label '1': {}\".format(sum(y_train_res == 1))) \n",
        "print(\"After OverSampling, counts of label '0': {}\".format(sum(y_train_res == 0))) "
      ],
      "metadata": {
        "colab": {
          "base_uri": "https://localhost:8080/"
        },
        "id": "SkrwaSJ95qad",
        "outputId": "da3c8bc7-8ebf-434b-f2ee-975bf83f0da9"
      },
      "execution_count": 104,
      "outputs": [
        {
          "output_type": "stream",
          "name": "stdout",
          "text": [
            "Before OverSampling, counts of label '1': 168102\n",
            "Before OverSampling, counts of label '0': 1382 \n",
            "\n",
            "After OverSampling, the shape of train_X: (336204, 6)\n",
            "After OverSampling, the shape of train_y: (336204,) \n",
            "\n",
            "After OverSampling, counts of label '1': 168102\n",
            "After OverSampling, counts of label '0': 168102\n"
          ]
        }
      ]
    },
    {
      "cell_type": "markdown",
      "source": [
        "Volvemos a correr algoritmos luego de balancear y generar data sintética."
      ],
      "metadata": {
        "id": "FXG8mgW77i9r"
      }
    },
    {
      "cell_type": "code",
      "source": [
        "clfs = [DecisionTreeClassifier()]\n",
        "names = ['Árbol de decisión']\n",
        "\n",
        "trained_models = []\n",
        "accuracy_models = []\n",
        "for clf,name in zip(clfs,names):\n",
        "    print(name)\n",
        "    clf.fit(X_train_res, y_train_res)\n",
        "    train_predictions = clf.predict(X_train_res)\n",
        "    accuracy = accuracy_score(y_train_res, train_predictions)\n",
        "    print(f\"Accuracy train {name}: %.2f%%\" % (accuracy * 100.0))\n",
        "\n",
        "    train_predictions = clf.predict(X_test)\n",
        "    accuracy = accuracy_score(y_test, train_predictions)\n",
        "    print(f\"Accuracy test {name}: %.2f%%\" % (accuracy * 100.0))\n",
        "\n",
        "    trained_models.append(clf)\n",
        "    accuracy_models.append(accuracy*100)\n"
      ],
      "metadata": {
        "colab": {
          "base_uri": "https://localhost:8080/"
        },
        "id": "czRKSFBLrONc",
        "outputId": "7d578682-4eb3-47f5-be53-6bf4a7776a00"
      },
      "execution_count": 113,
      "outputs": [
        {
          "output_type": "stream",
          "name": "stdout",
          "text": [
            "Árbol de decisión\n",
            "Accuracy train Árbol de decisión: 95.27%\n",
            "Accuracy test Árbol de decisión: 89.83%\n"
          ]
        }
      ]
    },
    {
      "cell_type": "code",
      "source": [
        "# Random Forest con la data balanceada\n",
        "clf = ensemble.RandomForestClassifier(criterion= \"gini\", n_estimators=50, random_state=2)\n",
        "clf.fit(X_train_res, y_train_res);\n",
        "predictions = clf.predict(X_test)\n",
        "print(classification_report(y_test, predictions))"
      ],
      "metadata": {
        "colab": {
          "base_uri": "https://localhost:8080/"
        },
        "id": "4Uo8rIQrrOTF",
        "outputId": "86ad3fe8-679d-4ca0-e68c-9ac7642adf4f"
      },
      "execution_count": 114,
      "outputs": [
        {
          "output_type": "stream",
          "name": "stdout",
          "text": [
            "              precision    recall  f1-score   support\n",
            "\n",
            "           0       0.02      0.21      0.03       342\n",
            "           1       0.99      0.91      0.95     42029\n",
            "\n",
            "    accuracy                           0.90     42371\n",
            "   macro avg       0.51      0.56      0.49     42371\n",
            "weighted avg       0.99      0.90      0.94     42371\n",
            "\n"
          ]
        }
      ]
    },
    {
      "cell_type": "code",
      "source": [
        ""
      ],
      "metadata": {
        "id": "0kX0xnPXerY4"
      },
      "execution_count": null,
      "outputs": []
    },
    {
      "cell_type": "code",
      "source": [
        ""
      ],
      "metadata": {
        "id": "Gjse4OZuHPmm"
      },
      "execution_count": null,
      "outputs": []
    },
    {
      "cell_type": "code",
      "source": [
        ""
      ],
      "metadata": {
        "id": "fwVm0Q1kHPo2"
      },
      "execution_count": null,
      "outputs": []
    },
    {
      "cell_type": "code",
      "source": [
        ""
      ],
      "metadata": {
        "id": "c9Zzj3nAHPrY"
      },
      "execution_count": null,
      "outputs": []
    }
  ]
}