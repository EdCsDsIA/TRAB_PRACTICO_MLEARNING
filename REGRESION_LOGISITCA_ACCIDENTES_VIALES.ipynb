{
  "cells": [
    {
      "cell_type": "markdown",
      "metadata": {
        "id": "view-in-github",
        "colab_type": "text"
      },
      "source": [
        "<a href=\"https://colab.research.google.com/github/EdCsDsIA/TRAB_PRACTICO_MLEARNING/blob/main/REGRESION_LOGISITCA_ACCIDENTES_VIALES.ipynb\" target=\"_parent\"><img src=\"https://colab.research.google.com/assets/colab-badge.svg\" alt=\"Open In Colab\"/></a>"
      ]
    },
    {
      "cell_type": "markdown",
      "source": [
        "TRABAJO PRÁCTICO SOBRE CLUSTERIZACION:\n",
        "\n",
        "GRUPO FORMADO POR:\n",
        "\n",
        "    GIOVINE, CARINA;\n",
        "    HERRERO RIVERO, EDUARDO;\n",
        "    ARÉVALO, IVÁN;\n",
        "    GÓMEZ, OCTAVIO.\n",
        "    \n",
        "\n"
      ],
      "metadata": {
        "id": "5N41lTyct-vq"
      }
    },
    {
      "cell_type": "markdown",
      "metadata": {
        "id": "MaT1ePVeDcc_"
      },
      "source": [
        "## El algoritmo k-means\n",
        "\n",
        "K-means es un algoritmo de clasificación no supervisada (clusterización) que agrupa objetos en k grupos basándose en sus características. El agrupamiento se realiza minimizando la suma de distancias entre cada objeto y el centroide de su grupo o cluster. Se suele usar la distancia cuadrática.\n",
        "\n",
        "El algoritmo consta de tres pasos:\n",
        "\n",
        "Inicialización: una vez escogido el número de grupos, k, se establecen k centroides en el espacio de los datos, por ejemplo, escogiéndolos aleatoriamente.\n",
        "\n",
        "Asignación objetos a los centroides: cada objeto de los datos es asignado a su centroide más cercano.\n",
        "\n",
        "Actualización centroides: se actualiza la posición del centroide de cada grupo tomando como nuevo centroide la posición del promedio de los objetos pertenecientes a dicho grupo.\n",
        "\n",
        "Se repiten los pasos 2 y 3 hasta que los centroides no se mueven, o se mueven por debajo de una distancia umbral en cada paso.\n",
        "\n",
        "El algoritmo k-means resuelve un problema de optimización, siendo la función a optimizar (minimizar) la suma de las distancias cuadráticas de cada objeto al centroide de su cluster.\n",
        "\n",
        "Los objetos se representan con vectores reales de d\n",
        "dimensiones (x1,x2,…,xn) y el algoritmo k-means construye k grupos donde se minimiza la suma de distancias de los objetos, dentro de cada grupo S={S1,S2,…,Sk}, a su centroide. El problema se puede formular de la siguiente forma:\n",
        "\n",
        "minSE(μi)=minS∑i=1k∑xj∈Si∥xj−μi∥2(1)\n",
        "\n",
        "donde S es el conjunto de datos cuyos elementos son los objetos xj representados por vectores, donde cada uno de sus elementos representa una característica o atributo. Tendremos k grupos o clusters con su correspondiente centroide μi.\n",
        "\n",
        "En cada actualización de los centroides, desde el punto de vista matemático, imponemos la condición necesaria de extremo a la función E(μi) que, para la función cuadrática (1) es\n",
        "\n",
        "∂E∂μi=0⟹μ(t+1)i=1∣∣S(t)i∣∣∑xj∈S(t)ixj\n",
        "\n",
        "y se toma el promedio de los elementos de cada grupo como nuevo centroide.\n",
        "\n",
        "Las principales ventajas del método k-means son que es un método sencillo y rápido. Pero es necesario decidir el valor de k y el resultado final depende de la inicialización de los centroides. En principio no converge al mínimo global sino a un mínimo local."
      ]
    },
    {
      "cell_type": "markdown",
      "metadata": {
        "id": "2l76-7AzDcdF"
      },
      "source": [
        "## Ejemplo en python de segmentación de clientes de un banco, tomando el saldo de su cuenta y cuantas veces utilizó la tarjeta de débito asociada a dicha cuenta:"
      ]
    },
    {
      "cell_type": "code",
      "source": [
        ""
      ],
      "metadata": {
        "id": "kPhUQ2e1DcsY"
      },
      "execution_count": null,
      "outputs": []
    },
    {
      "cell_type": "code",
      "source": [
        "from google.colab import drive\n",
        "drive.mount('/content/drive')"
      ],
      "metadata": {
        "colab": {
          "base_uri": "https://localhost:8080/"
        },
        "id": "zihrLKY-Dd0h",
        "outputId": "c29f9fa3-37e1-48d7-9280-2daac39e6098"
      },
      "execution_count": 1,
      "outputs": [
        {
          "output_type": "stream",
          "name": "stdout",
          "text": [
            "Mounted at /content/drive\n"
          ]
        }
      ]
    },
    {
      "cell_type": "code",
      "execution_count": 3,
      "metadata": {
        "id": "biSU74UUDcdJ"
      },
      "outputs": [],
      "source": [
        "# Importamos las librerias necesarias\n",
        "import pandas as pd\n",
        "import matplotlib.pyplot as plt\n",
        "from matplotlib import style\n",
        "style.use('ggplot') or plt.style.use('ggplot')\n",
        "from sklearn.preprocessing import MinMaxScaler\n",
        "from sklearn.cluster import KMeans\n",
        "from sklearn.preprocessing import scale\n",
        "from sklearn.metrics import silhouette_score\n",
        "import warnings\n",
        "warnings.filterwarnings('ignore')\n",
        "import numpy as np"
      ]
    },
    {
      "cell_type": "code",
      "execution_count": null,
      "metadata": {
        "id": "IS3NjP6-DcdN"
      },
      "outputs": [],
      "source": [
        "# Creamnos un dataframe con el saldo de algunas cuentas bancarias y el nro de \n",
        "# operaciones con la tarjeta de débito asociada a cada una de esas cuentas:\n",
        "# clientes = pd.DataFrame({\"saldo\" : [50000, 45000, 48000, 43500, 47000, 52000, \n",
        "#                                     20000, 26000, 25000, 23000, 21400, 18000,\n",
        "#                                     8000, 12000, 6000, 14500, 12600, 7000,\n",
        "#                                     36000, 34500, 31800, 55000, 33200, 56700,\n",
        "#                                     9000, 19600, 10100,5950, 24000,16500],\n",
        "                         \n",
        "#                          \"transacciones\": [25, 20, 16, 23, 25, 18,\n",
        "#                                            23, 22, 24, 21, 27, 18,\n",
        "#                                            8, 3, 6, 4, 9, 23,\n",
        "#                                            20, 11, 7, 18, 20, 17,\n",
        "#                                            19,16,15,21,14,13]})\n",
        "\n",
        "\n",
        "# # KMeans se ve afectado cuando los datos están en escalas diferentes, por lo que\n",
        "# # normalizaremos todos los valores del dataframe a una escala de 0 a 1 y asi evitamos\n",
        "# # introducir un sesgo. De esta forma, conservamos la información, teniendo todos \n",
        "# # los datos en una misma escala:\n",
        "# escalador = MinMaxScaler().fit(clientes.values)\n",
        "\n",
        "# clientes = pd.DataFrame(escalador.transform(clientes.values),\n",
        "#                        columns=[\"saldo\", \"transacciones\"])\n",
        "\n",
        "# # Vemos como quedó el dataframe luego del escalado:\n",
        "# print(\"Así queda el dataframe despues de pasar por el escalador:\\n \")\n",
        "# print(clientes)"
      ]
    },
    {
      "cell_type": "code",
      "source": [
        "# #CODIFICACIÓN DE DATOS CATEGORICOS CATEGORICAS A NUM\n",
        "# from sklearn.preprocessing import LabelEncoder, OneHotEncoder\n",
        "# labelencoder_X_1 = LabelEncoder()\n",
        "# X[:,1] = labelencoder_X_1.fit_transform(X[:,1])\n",
        "\n",
        "# array([[619, 0, 'Female', ..., 1, 1, 101348.88],\n",
        "# [608, 2, 'Female', ..., 0, 1, 112542.58],\n",
        "# [502, 0, 'Female', ..., 1, 0, 113931.57],\n",
        "# ...,\n",
        "# [709, 0, 'Female', ..., 0, 1, 42085.58],\n",
        "# [772, 1, 'Male', ..., 1, 0, 92888.52],\n",
        "# [792, 0, 'Female', ..., 1, 0, 38190.78]], dtype=object)"
      ],
      "metadata": {
        "id": "A3T92MoMtPCc"
      },
      "execution_count": null,
      "outputs": []
    },
    {
      "cell_type": "code",
      "source": [
        "# LEER CSV\n",
        "accidentes = pd.read_csv('/content/drive/MyDrive/IA_TP/TP_ACCIDENTES_VIALES_MEDELLIN/dfinal3_full_clear.csv')"
      ],
      "metadata": {
        "id": "A6jhFq1IDyAe"
      },
      "execution_count": 4,
      "outputs": []
    },
    {
      "cell_type": "code",
      "source": [
        "grav = accidentes['Gravedad_victima']\n",
        "\n",
        "# Sexo = accidentes['Sexo']"
      ],
      "metadata": {
        "id": "x22WkRs-ENF4"
      },
      "execution_count": 5,
      "outputs": []
    },
    {
      "cell_type": "code",
      "source": [
        "accidentes.info()"
      ],
      "metadata": {
        "colab": {
          "base_uri": "https://localhost:8080/"
        },
        "id": "YmPT0sbnG2yz",
        "outputId": "73bf7b12-be8f-45ee-f065-3396e4cbefb1"
      },
      "execution_count": 6,
      "outputs": [
        {
          "output_type": "stream",
          "name": "stdout",
          "text": [
            "<class 'pandas.core.frame.DataFrame'>\n",
            "RangeIndex: 235843 entries, 0 to 235842\n",
            "Data columns (total 22 columns):\n",
            " #   Column               Non-Null Count   Dtype  \n",
            "---  ------               --------------   -----  \n",
            " 0   Gravedad_victima     235843 non-null  int64  \n",
            " 1   Fecha_incidente      235843 non-null  object \n",
            " 2   Hora_incidente       235843 non-null  object \n",
            " 3   Clase_incidente      235843 non-null  int64  \n",
            " 4   Direccion_incidente  235831 non-null  object \n",
            " 5   Sexo                 235843 non-null  object \n",
            " 6   Edad                 235843 non-null  int64  \n",
            " 7   Condicion            235843 non-null  object \n",
            " 8   Mes                  235843 non-null  object \n",
            " 9   Dia                  235843 non-null  object \n",
            " 10  Num_dia              235842 non-null  float64\n",
            " 11  Hora                 235843 non-null  int64  \n",
            " 12  Grupo_edad           235843 non-null  object \n",
            " 13  Anio                 235843 non-null  int64  \n",
            " 14  Radicado             235794 non-null  float64\n",
            " 15  Latitud              214998 non-null  float64\n",
            " 16  Longitud             214998 non-null  float64\n",
            " 17  Comuna               235843 non-null  object \n",
            " 18  Barrio               235225 non-null  object \n",
            " 19  Condicion2           235843 non-null  int64  \n",
            " 20  Dia2                 235843 non-null  int64  \n",
            " 21  Sexo2                235843 non-null  int64  \n",
            "dtypes: float64(4), int64(8), object(10)\n",
            "memory usage: 39.6+ MB\n"
          ]
        }
      ]
    },
    {
      "cell_type": "code",
      "source": [
        "# df3 = accidentes[['Gravedad_victima','Sexo','Edad']]\n",
        "# df[['Latitud', 'Longitud']]\n",
        "import numpy as np\n",
        "# CREA UN DF CON SOLO LOS DATOS np.number (numeros)\n",
        "df_number = accidentes.select_dtypes(include=[np.number])\n",
        "# CREA UN DF CON SOLO LOS DATOS objet (strings)\n",
        "df_object = accidentes.select_dtypes(include=[object])"
      ],
      "metadata": {
        "id": "WIXboJAVE2-e"
      },
      "execution_count": 7,
      "outputs": []
    },
    {
      "cell_type": "code",
      "source": [
        "# GUARDO LOS DF para trabajarlos a posteriori\n",
        "df_number.to_csv('/content/drive/MyDrive/IA_TP/TP_ACCIDENTES_VIALES_MEDELLIN/df_number.csv', index=False)\n",
        "df_object.to_csv('/content/drive/MyDrive/IA_TP/TP_ACCIDENTES_VIALES_MEDELLIN/df_object.csv', index=False)"
      ],
      "metadata": {
        "id": "-k-A4x_zHf4A"
      },
      "execution_count": null,
      "outputs": []
    },
    {
      "cell_type": "code",
      "source": [
        "df_number"
      ],
      "metadata": {
        "id": "msOPenhmmQn6",
        "outputId": "ba1c2ad3-67d0-4342-87ef-9a27234433f5",
        "colab": {
          "base_uri": "https://localhost:8080/",
          "height": 424
        }
      },
      "execution_count": 9,
      "outputs": [
        {
          "output_type": "execute_result",
          "data": {
            "text/plain": [
              "        Gravedad_victima  Clase_incidente  Edad  Num_dia  Hora  Anio  \\\n",
              "0                      0                4    17      1.0     0  2014   \n",
              "1                      0                0    20      1.0     0  2014   \n",
              "2                      0                0    18      1.0     0  2014   \n",
              "3                      0                0    19      1.0     0  2014   \n",
              "4                      0                0    39      1.0     0  2014   \n",
              "...                  ...              ...   ...      ...   ...   ...   \n",
              "235838                 0                4    32     30.0    22  2021   \n",
              "235839                 0                4    29     30.0    22  2021   \n",
              "235840                 0                1    41     30.0    22  2021   \n",
              "235841                 0                0    51     30.0    23  2021   \n",
              "235842                 0                4    23     30.0    23  2021   \n",
              "\n",
              "         Radicado   Latitud   Longitud  Condicion2  Dia2  Sexo2  \n",
              "0       1423940.0  6.266915 -75.559099           3     4      1  \n",
              "1       1423921.0  6.289353 -75.553292           3     4      1  \n",
              "2       1423921.0  6.289353 -75.553292           5     4      0  \n",
              "3       1423849.0  6.234327 -75.607611           3     4      1  \n",
              "4       1423849.0  6.234327 -75.607611           5     4      1  \n",
              "...           ...       ...        ...         ...   ...    ...  \n",
              "235838  1764135.0  6.234267 -75.536311           3     1      1  \n",
              "235839  1764135.0  6.234267 -75.536311           0     1      0  \n",
              "235840  1763968.0  6.272697 -75.548675           0     1      1  \n",
              "235841  1764133.0       NaN        NaN           5     1      0  \n",
              "235842  1763946.0       NaN        NaN           3     1      1  \n",
              "\n",
              "[235843 rows x 12 columns]"
            ],
            "text/html": [
              "\n",
              "  <div id=\"df-022c9675-e6d7-4835-8c38-84e5202c0af9\">\n",
              "    <div class=\"colab-df-container\">\n",
              "      <div>\n",
              "<style scoped>\n",
              "    .dataframe tbody tr th:only-of-type {\n",
              "        vertical-align: middle;\n",
              "    }\n",
              "\n",
              "    .dataframe tbody tr th {\n",
              "        vertical-align: top;\n",
              "    }\n",
              "\n",
              "    .dataframe thead th {\n",
              "        text-align: right;\n",
              "    }\n",
              "</style>\n",
              "<table border=\"1\" class=\"dataframe\">\n",
              "  <thead>\n",
              "    <tr style=\"text-align: right;\">\n",
              "      <th></th>\n",
              "      <th>Gravedad_victima</th>\n",
              "      <th>Clase_incidente</th>\n",
              "      <th>Edad</th>\n",
              "      <th>Num_dia</th>\n",
              "      <th>Hora</th>\n",
              "      <th>Anio</th>\n",
              "      <th>Radicado</th>\n",
              "      <th>Latitud</th>\n",
              "      <th>Longitud</th>\n",
              "      <th>Condicion2</th>\n",
              "      <th>Dia2</th>\n",
              "      <th>Sexo2</th>\n",
              "    </tr>\n",
              "  </thead>\n",
              "  <tbody>\n",
              "    <tr>\n",
              "      <th>0</th>\n",
              "      <td>0</td>\n",
              "      <td>4</td>\n",
              "      <td>17</td>\n",
              "      <td>1.0</td>\n",
              "      <td>0</td>\n",
              "      <td>2014</td>\n",
              "      <td>1423940.0</td>\n",
              "      <td>6.266915</td>\n",
              "      <td>-75.559099</td>\n",
              "      <td>3</td>\n",
              "      <td>4</td>\n",
              "      <td>1</td>\n",
              "    </tr>\n",
              "    <tr>\n",
              "      <th>1</th>\n",
              "      <td>0</td>\n",
              "      <td>0</td>\n",
              "      <td>20</td>\n",
              "      <td>1.0</td>\n",
              "      <td>0</td>\n",
              "      <td>2014</td>\n",
              "      <td>1423921.0</td>\n",
              "      <td>6.289353</td>\n",
              "      <td>-75.553292</td>\n",
              "      <td>3</td>\n",
              "      <td>4</td>\n",
              "      <td>1</td>\n",
              "    </tr>\n",
              "    <tr>\n",
              "      <th>2</th>\n",
              "      <td>0</td>\n",
              "      <td>0</td>\n",
              "      <td>18</td>\n",
              "      <td>1.0</td>\n",
              "      <td>0</td>\n",
              "      <td>2014</td>\n",
              "      <td>1423921.0</td>\n",
              "      <td>6.289353</td>\n",
              "      <td>-75.553292</td>\n",
              "      <td>5</td>\n",
              "      <td>4</td>\n",
              "      <td>0</td>\n",
              "    </tr>\n",
              "    <tr>\n",
              "      <th>3</th>\n",
              "      <td>0</td>\n",
              "      <td>0</td>\n",
              "      <td>19</td>\n",
              "      <td>1.0</td>\n",
              "      <td>0</td>\n",
              "      <td>2014</td>\n",
              "      <td>1423849.0</td>\n",
              "      <td>6.234327</td>\n",
              "      <td>-75.607611</td>\n",
              "      <td>3</td>\n",
              "      <td>4</td>\n",
              "      <td>1</td>\n",
              "    </tr>\n",
              "    <tr>\n",
              "      <th>4</th>\n",
              "      <td>0</td>\n",
              "      <td>0</td>\n",
              "      <td>39</td>\n",
              "      <td>1.0</td>\n",
              "      <td>0</td>\n",
              "      <td>2014</td>\n",
              "      <td>1423849.0</td>\n",
              "      <td>6.234327</td>\n",
              "      <td>-75.607611</td>\n",
              "      <td>5</td>\n",
              "      <td>4</td>\n",
              "      <td>1</td>\n",
              "    </tr>\n",
              "    <tr>\n",
              "      <th>...</th>\n",
              "      <td>...</td>\n",
              "      <td>...</td>\n",
              "      <td>...</td>\n",
              "      <td>...</td>\n",
              "      <td>...</td>\n",
              "      <td>...</td>\n",
              "      <td>...</td>\n",
              "      <td>...</td>\n",
              "      <td>...</td>\n",
              "      <td>...</td>\n",
              "      <td>...</td>\n",
              "      <td>...</td>\n",
              "    </tr>\n",
              "    <tr>\n",
              "      <th>235838</th>\n",
              "      <td>0</td>\n",
              "      <td>4</td>\n",
              "      <td>32</td>\n",
              "      <td>30.0</td>\n",
              "      <td>22</td>\n",
              "      <td>2021</td>\n",
              "      <td>1764135.0</td>\n",
              "      <td>6.234267</td>\n",
              "      <td>-75.536311</td>\n",
              "      <td>3</td>\n",
              "      <td>1</td>\n",
              "      <td>1</td>\n",
              "    </tr>\n",
              "    <tr>\n",
              "      <th>235839</th>\n",
              "      <td>0</td>\n",
              "      <td>4</td>\n",
              "      <td>29</td>\n",
              "      <td>30.0</td>\n",
              "      <td>22</td>\n",
              "      <td>2021</td>\n",
              "      <td>1764135.0</td>\n",
              "      <td>6.234267</td>\n",
              "      <td>-75.536311</td>\n",
              "      <td>0</td>\n",
              "      <td>1</td>\n",
              "      <td>0</td>\n",
              "    </tr>\n",
              "    <tr>\n",
              "      <th>235840</th>\n",
              "      <td>0</td>\n",
              "      <td>1</td>\n",
              "      <td>41</td>\n",
              "      <td>30.0</td>\n",
              "      <td>22</td>\n",
              "      <td>2021</td>\n",
              "      <td>1763968.0</td>\n",
              "      <td>6.272697</td>\n",
              "      <td>-75.548675</td>\n",
              "      <td>0</td>\n",
              "      <td>1</td>\n",
              "      <td>1</td>\n",
              "    </tr>\n",
              "    <tr>\n",
              "      <th>235841</th>\n",
              "      <td>0</td>\n",
              "      <td>0</td>\n",
              "      <td>51</td>\n",
              "      <td>30.0</td>\n",
              "      <td>23</td>\n",
              "      <td>2021</td>\n",
              "      <td>1764133.0</td>\n",
              "      <td>NaN</td>\n",
              "      <td>NaN</td>\n",
              "      <td>5</td>\n",
              "      <td>1</td>\n",
              "      <td>0</td>\n",
              "    </tr>\n",
              "    <tr>\n",
              "      <th>235842</th>\n",
              "      <td>0</td>\n",
              "      <td>4</td>\n",
              "      <td>23</td>\n",
              "      <td>30.0</td>\n",
              "      <td>23</td>\n",
              "      <td>2021</td>\n",
              "      <td>1763946.0</td>\n",
              "      <td>NaN</td>\n",
              "      <td>NaN</td>\n",
              "      <td>3</td>\n",
              "      <td>1</td>\n",
              "      <td>1</td>\n",
              "    </tr>\n",
              "  </tbody>\n",
              "</table>\n",
              "<p>235843 rows × 12 columns</p>\n",
              "</div>\n",
              "      <button class=\"colab-df-convert\" onclick=\"convertToInteractive('df-022c9675-e6d7-4835-8c38-84e5202c0af9')\"\n",
              "              title=\"Convert this dataframe to an interactive table.\"\n",
              "              style=\"display:none;\">\n",
              "        \n",
              "  <svg xmlns=\"http://www.w3.org/2000/svg\" height=\"24px\"viewBox=\"0 0 24 24\"\n",
              "       width=\"24px\">\n",
              "    <path d=\"M0 0h24v24H0V0z\" fill=\"none\"/>\n",
              "    <path d=\"M18.56 5.44l.94 2.06.94-2.06 2.06-.94-2.06-.94-.94-2.06-.94 2.06-2.06.94zm-11 1L8.5 8.5l.94-2.06 2.06-.94-2.06-.94L8.5 2.5l-.94 2.06-2.06.94zm10 10l.94 2.06.94-2.06 2.06-.94-2.06-.94-.94-2.06-.94 2.06-2.06.94z\"/><path d=\"M17.41 7.96l-1.37-1.37c-.4-.4-.92-.59-1.43-.59-.52 0-1.04.2-1.43.59L10.3 9.45l-7.72 7.72c-.78.78-.78 2.05 0 2.83L4 21.41c.39.39.9.59 1.41.59.51 0 1.02-.2 1.41-.59l7.78-7.78 2.81-2.81c.8-.78.8-2.07 0-2.86zM5.41 20L4 18.59l7.72-7.72 1.47 1.35L5.41 20z\"/>\n",
              "  </svg>\n",
              "      </button>\n",
              "      \n",
              "  <style>\n",
              "    .colab-df-container {\n",
              "      display:flex;\n",
              "      flex-wrap:wrap;\n",
              "      gap: 12px;\n",
              "    }\n",
              "\n",
              "    .colab-df-convert {\n",
              "      background-color: #E8F0FE;\n",
              "      border: none;\n",
              "      border-radius: 50%;\n",
              "      cursor: pointer;\n",
              "      display: none;\n",
              "      fill: #1967D2;\n",
              "      height: 32px;\n",
              "      padding: 0 0 0 0;\n",
              "      width: 32px;\n",
              "    }\n",
              "\n",
              "    .colab-df-convert:hover {\n",
              "      background-color: #E2EBFA;\n",
              "      box-shadow: 0px 1px 2px rgba(60, 64, 67, 0.3), 0px 1px 3px 1px rgba(60, 64, 67, 0.15);\n",
              "      fill: #174EA6;\n",
              "    }\n",
              "\n",
              "    [theme=dark] .colab-df-convert {\n",
              "      background-color: #3B4455;\n",
              "      fill: #D2E3FC;\n",
              "    }\n",
              "\n",
              "    [theme=dark] .colab-df-convert:hover {\n",
              "      background-color: #434B5C;\n",
              "      box-shadow: 0px 1px 3px 1px rgba(0, 0, 0, 0.15);\n",
              "      filter: drop-shadow(0px 1px 2px rgba(0, 0, 0, 0.3));\n",
              "      fill: #FFFFFF;\n",
              "    }\n",
              "  </style>\n",
              "\n",
              "      <script>\n",
              "        const buttonEl =\n",
              "          document.querySelector('#df-022c9675-e6d7-4835-8c38-84e5202c0af9 button.colab-df-convert');\n",
              "        buttonEl.style.display =\n",
              "          google.colab.kernel.accessAllowed ? 'block' : 'none';\n",
              "\n",
              "        async function convertToInteractive(key) {\n",
              "          const element = document.querySelector('#df-022c9675-e6d7-4835-8c38-84e5202c0af9');\n",
              "          const dataTable =\n",
              "            await google.colab.kernel.invokeFunction('convertToInteractive',\n",
              "                                                     [key], {});\n",
              "          if (!dataTable) return;\n",
              "\n",
              "          const docLinkHtml = 'Like what you see? Visit the ' +\n",
              "            '<a target=\"_blank\" href=https://colab.research.google.com/notebooks/data_table.ipynb>data table notebook</a>'\n",
              "            + ' to learn more about interactive tables.';\n",
              "          element.innerHTML = '';\n",
              "          dataTable['output_type'] = 'display_data';\n",
              "          await google.colab.output.renderOutput(dataTable, element);\n",
              "          const docLink = document.createElement('div');\n",
              "          docLink.innerHTML = docLinkHtml;\n",
              "          element.appendChild(docLink);\n",
              "        }\n",
              "      </script>\n",
              "    </div>\n",
              "  </div>\n",
              "  "
            ]
          },
          "metadata": {},
          "execution_count": 9
        }
      ]
    },
    {
      "cell_type": "code",
      "source": [
        "# BUSCO LAS COLUMNAS CON NAN\n",
        "df_number.isnull().sum()"
      ],
      "metadata": {
        "id": "cgEuDecpnv35",
        "outputId": "34e96cf1-2eea-4422-98b5-d4b9440ff9d5",
        "colab": {
          "base_uri": "https://localhost:8080/"
        }
      },
      "execution_count": 12,
      "outputs": [
        {
          "output_type": "execute_result",
          "data": {
            "text/plain": [
              "Gravedad_victima        0\n",
              "Clase_incidente         0\n",
              "Edad                    0\n",
              "Num_dia                 1\n",
              "Hora                    0\n",
              "Anio                    0\n",
              "Radicado               49\n",
              "Latitud             20845\n",
              "Longitud            20845\n",
              "Condicion2              0\n",
              "Dia2                    0\n",
              "Sexo2                   0\n",
              "dtype: int64"
            ]
          },
          "metadata": {},
          "execution_count": 12
        }
      ]
    },
    {
      "cell_type": "code",
      "source": [
        "# df_number = pd.read_csv('/content/drive/MyDrive/IA_TP/TP_ACCIDENTES_VIALES_MEDELLIN/df_number.csv')\n",
        "# ELIMINO TODAS LAS FILAS NAN\n",
        "df_number_no_nan = df_number.dropna()"
      ],
      "metadata": {
        "id": "oywiVcUmou1v"
      },
      "execution_count": 10,
      "outputs": []
    },
    {
      "cell_type": "code",
      "source": [
        "# df_number_no_nan = np.all(np.isfinite(df_number_no_nan))"
      ],
      "metadata": {
        "id": "bWbbC_2Iq0qt"
      },
      "execution_count": null,
      "outputs": []
    },
    {
      "cell_type": "code",
      "source": [
        "# df_number_no_nan.isnull().sum()\n",
        "df_number_no_nan"
      ],
      "metadata": {
        "id": "clMwFCNUo623",
        "outputId": "818c392f-2933-4525-a4b3-7e027070608e",
        "colab": {
          "base_uri": "https://localhost:8080/",
          "height": 424
        }
      },
      "execution_count": 11,
      "outputs": [
        {
          "output_type": "execute_result",
          "data": {
            "text/plain": [
              "        Gravedad_victima  Clase_incidente  Edad  Num_dia  Hora  Anio  \\\n",
              "0                      0                4    17      1.0     0  2014   \n",
              "1                      0                0    20      1.0     0  2014   \n",
              "2                      0                0    18      1.0     0  2014   \n",
              "3                      0                0    19      1.0     0  2014   \n",
              "4                      0                0    39      1.0     0  2014   \n",
              "...                  ...              ...   ...      ...   ...   ...   \n",
              "235836                 0                4    44     30.0    20  2021   \n",
              "235837                 0                2    38     30.0    20  2021   \n",
              "235838                 0                4    32     30.0    22  2021   \n",
              "235839                 0                4    29     30.0    22  2021   \n",
              "235840                 0                1    41     30.0    22  2021   \n",
              "\n",
              "         Radicado   Latitud   Longitud  Condicion2  Dia2  Sexo2  \n",
              "0       1423940.0  6.266915 -75.559099           3     4      1  \n",
              "1       1423921.0  6.289353 -75.553292           3     4      1  \n",
              "2       1423921.0  6.289353 -75.553292           5     4      0  \n",
              "3       1423849.0  6.234327 -75.607611           3     4      1  \n",
              "4       1423849.0  6.234327 -75.607611           5     4      1  \n",
              "...           ...       ...        ...         ...   ...    ...  \n",
              "235836  1763939.0  6.298268 -75.585992           3     1      0  \n",
              "235837  1763788.0  6.217895 -75.575824           3     1      0  \n",
              "235838  1764135.0  6.234267 -75.536311           3     1      1  \n",
              "235839  1764135.0  6.234267 -75.536311           0     1      0  \n",
              "235840  1763968.0  6.272697 -75.548675           0     1      1  \n",
              "\n",
              "[214952 rows x 12 columns]"
            ],
            "text/html": [
              "\n",
              "  <div id=\"df-02c38017-b5ae-4d19-b2ce-1e3a3e683ad7\">\n",
              "    <div class=\"colab-df-container\">\n",
              "      <div>\n",
              "<style scoped>\n",
              "    .dataframe tbody tr th:only-of-type {\n",
              "        vertical-align: middle;\n",
              "    }\n",
              "\n",
              "    .dataframe tbody tr th {\n",
              "        vertical-align: top;\n",
              "    }\n",
              "\n",
              "    .dataframe thead th {\n",
              "        text-align: right;\n",
              "    }\n",
              "</style>\n",
              "<table border=\"1\" class=\"dataframe\">\n",
              "  <thead>\n",
              "    <tr style=\"text-align: right;\">\n",
              "      <th></th>\n",
              "      <th>Gravedad_victima</th>\n",
              "      <th>Clase_incidente</th>\n",
              "      <th>Edad</th>\n",
              "      <th>Num_dia</th>\n",
              "      <th>Hora</th>\n",
              "      <th>Anio</th>\n",
              "      <th>Radicado</th>\n",
              "      <th>Latitud</th>\n",
              "      <th>Longitud</th>\n",
              "      <th>Condicion2</th>\n",
              "      <th>Dia2</th>\n",
              "      <th>Sexo2</th>\n",
              "    </tr>\n",
              "  </thead>\n",
              "  <tbody>\n",
              "    <tr>\n",
              "      <th>0</th>\n",
              "      <td>0</td>\n",
              "      <td>4</td>\n",
              "      <td>17</td>\n",
              "      <td>1.0</td>\n",
              "      <td>0</td>\n",
              "      <td>2014</td>\n",
              "      <td>1423940.0</td>\n",
              "      <td>6.266915</td>\n",
              "      <td>-75.559099</td>\n",
              "      <td>3</td>\n",
              "      <td>4</td>\n",
              "      <td>1</td>\n",
              "    </tr>\n",
              "    <tr>\n",
              "      <th>1</th>\n",
              "      <td>0</td>\n",
              "      <td>0</td>\n",
              "      <td>20</td>\n",
              "      <td>1.0</td>\n",
              "      <td>0</td>\n",
              "      <td>2014</td>\n",
              "      <td>1423921.0</td>\n",
              "      <td>6.289353</td>\n",
              "      <td>-75.553292</td>\n",
              "      <td>3</td>\n",
              "      <td>4</td>\n",
              "      <td>1</td>\n",
              "    </tr>\n",
              "    <tr>\n",
              "      <th>2</th>\n",
              "      <td>0</td>\n",
              "      <td>0</td>\n",
              "      <td>18</td>\n",
              "      <td>1.0</td>\n",
              "      <td>0</td>\n",
              "      <td>2014</td>\n",
              "      <td>1423921.0</td>\n",
              "      <td>6.289353</td>\n",
              "      <td>-75.553292</td>\n",
              "      <td>5</td>\n",
              "      <td>4</td>\n",
              "      <td>0</td>\n",
              "    </tr>\n",
              "    <tr>\n",
              "      <th>3</th>\n",
              "      <td>0</td>\n",
              "      <td>0</td>\n",
              "      <td>19</td>\n",
              "      <td>1.0</td>\n",
              "      <td>0</td>\n",
              "      <td>2014</td>\n",
              "      <td>1423849.0</td>\n",
              "      <td>6.234327</td>\n",
              "      <td>-75.607611</td>\n",
              "      <td>3</td>\n",
              "      <td>4</td>\n",
              "      <td>1</td>\n",
              "    </tr>\n",
              "    <tr>\n",
              "      <th>4</th>\n",
              "      <td>0</td>\n",
              "      <td>0</td>\n",
              "      <td>39</td>\n",
              "      <td>1.0</td>\n",
              "      <td>0</td>\n",
              "      <td>2014</td>\n",
              "      <td>1423849.0</td>\n",
              "      <td>6.234327</td>\n",
              "      <td>-75.607611</td>\n",
              "      <td>5</td>\n",
              "      <td>4</td>\n",
              "      <td>1</td>\n",
              "    </tr>\n",
              "    <tr>\n",
              "      <th>...</th>\n",
              "      <td>...</td>\n",
              "      <td>...</td>\n",
              "      <td>...</td>\n",
              "      <td>...</td>\n",
              "      <td>...</td>\n",
              "      <td>...</td>\n",
              "      <td>...</td>\n",
              "      <td>...</td>\n",
              "      <td>...</td>\n",
              "      <td>...</td>\n",
              "      <td>...</td>\n",
              "      <td>...</td>\n",
              "    </tr>\n",
              "    <tr>\n",
              "      <th>235836</th>\n",
              "      <td>0</td>\n",
              "      <td>4</td>\n",
              "      <td>44</td>\n",
              "      <td>30.0</td>\n",
              "      <td>20</td>\n",
              "      <td>2021</td>\n",
              "      <td>1763939.0</td>\n",
              "      <td>6.298268</td>\n",
              "      <td>-75.585992</td>\n",
              "      <td>3</td>\n",
              "      <td>1</td>\n",
              "      <td>0</td>\n",
              "    </tr>\n",
              "    <tr>\n",
              "      <th>235837</th>\n",
              "      <td>0</td>\n",
              "      <td>2</td>\n",
              "      <td>38</td>\n",
              "      <td>30.0</td>\n",
              "      <td>20</td>\n",
              "      <td>2021</td>\n",
              "      <td>1763788.0</td>\n",
              "      <td>6.217895</td>\n",
              "      <td>-75.575824</td>\n",
              "      <td>3</td>\n",
              "      <td>1</td>\n",
              "      <td>0</td>\n",
              "    </tr>\n",
              "    <tr>\n",
              "      <th>235838</th>\n",
              "      <td>0</td>\n",
              "      <td>4</td>\n",
              "      <td>32</td>\n",
              "      <td>30.0</td>\n",
              "      <td>22</td>\n",
              "      <td>2021</td>\n",
              "      <td>1764135.0</td>\n",
              "      <td>6.234267</td>\n",
              "      <td>-75.536311</td>\n",
              "      <td>3</td>\n",
              "      <td>1</td>\n",
              "      <td>1</td>\n",
              "    </tr>\n",
              "    <tr>\n",
              "      <th>235839</th>\n",
              "      <td>0</td>\n",
              "      <td>4</td>\n",
              "      <td>29</td>\n",
              "      <td>30.0</td>\n",
              "      <td>22</td>\n",
              "      <td>2021</td>\n",
              "      <td>1764135.0</td>\n",
              "      <td>6.234267</td>\n",
              "      <td>-75.536311</td>\n",
              "      <td>0</td>\n",
              "      <td>1</td>\n",
              "      <td>0</td>\n",
              "    </tr>\n",
              "    <tr>\n",
              "      <th>235840</th>\n",
              "      <td>0</td>\n",
              "      <td>1</td>\n",
              "      <td>41</td>\n",
              "      <td>30.0</td>\n",
              "      <td>22</td>\n",
              "      <td>2021</td>\n",
              "      <td>1763968.0</td>\n",
              "      <td>6.272697</td>\n",
              "      <td>-75.548675</td>\n",
              "      <td>0</td>\n",
              "      <td>1</td>\n",
              "      <td>1</td>\n",
              "    </tr>\n",
              "  </tbody>\n",
              "</table>\n",
              "<p>214952 rows × 12 columns</p>\n",
              "</div>\n",
              "      <button class=\"colab-df-convert\" onclick=\"convertToInteractive('df-02c38017-b5ae-4d19-b2ce-1e3a3e683ad7')\"\n",
              "              title=\"Convert this dataframe to an interactive table.\"\n",
              "              style=\"display:none;\">\n",
              "        \n",
              "  <svg xmlns=\"http://www.w3.org/2000/svg\" height=\"24px\"viewBox=\"0 0 24 24\"\n",
              "       width=\"24px\">\n",
              "    <path d=\"M0 0h24v24H0V0z\" fill=\"none\"/>\n",
              "    <path d=\"M18.56 5.44l.94 2.06.94-2.06 2.06-.94-2.06-.94-.94-2.06-.94 2.06-2.06.94zm-11 1L8.5 8.5l.94-2.06 2.06-.94-2.06-.94L8.5 2.5l-.94 2.06-2.06.94zm10 10l.94 2.06.94-2.06 2.06-.94-2.06-.94-.94-2.06-.94 2.06-2.06.94z\"/><path d=\"M17.41 7.96l-1.37-1.37c-.4-.4-.92-.59-1.43-.59-.52 0-1.04.2-1.43.59L10.3 9.45l-7.72 7.72c-.78.78-.78 2.05 0 2.83L4 21.41c.39.39.9.59 1.41.59.51 0 1.02-.2 1.41-.59l7.78-7.78 2.81-2.81c.8-.78.8-2.07 0-2.86zM5.41 20L4 18.59l7.72-7.72 1.47 1.35L5.41 20z\"/>\n",
              "  </svg>\n",
              "      </button>\n",
              "      \n",
              "  <style>\n",
              "    .colab-df-container {\n",
              "      display:flex;\n",
              "      flex-wrap:wrap;\n",
              "      gap: 12px;\n",
              "    }\n",
              "\n",
              "    .colab-df-convert {\n",
              "      background-color: #E8F0FE;\n",
              "      border: none;\n",
              "      border-radius: 50%;\n",
              "      cursor: pointer;\n",
              "      display: none;\n",
              "      fill: #1967D2;\n",
              "      height: 32px;\n",
              "      padding: 0 0 0 0;\n",
              "      width: 32px;\n",
              "    }\n",
              "\n",
              "    .colab-df-convert:hover {\n",
              "      background-color: #E2EBFA;\n",
              "      box-shadow: 0px 1px 2px rgba(60, 64, 67, 0.3), 0px 1px 3px 1px rgba(60, 64, 67, 0.15);\n",
              "      fill: #174EA6;\n",
              "    }\n",
              "\n",
              "    [theme=dark] .colab-df-convert {\n",
              "      background-color: #3B4455;\n",
              "      fill: #D2E3FC;\n",
              "    }\n",
              "\n",
              "    [theme=dark] .colab-df-convert:hover {\n",
              "      background-color: #434B5C;\n",
              "      box-shadow: 0px 1px 3px 1px rgba(0, 0, 0, 0.15);\n",
              "      filter: drop-shadow(0px 1px 2px rgba(0, 0, 0, 0.3));\n",
              "      fill: #FFFFFF;\n",
              "    }\n",
              "  </style>\n",
              "\n",
              "      <script>\n",
              "        const buttonEl =\n",
              "          document.querySelector('#df-02c38017-b5ae-4d19-b2ce-1e3a3e683ad7 button.colab-df-convert');\n",
              "        buttonEl.style.display =\n",
              "          google.colab.kernel.accessAllowed ? 'block' : 'none';\n",
              "\n",
              "        async function convertToInteractive(key) {\n",
              "          const element = document.querySelector('#df-02c38017-b5ae-4d19-b2ce-1e3a3e683ad7');\n",
              "          const dataTable =\n",
              "            await google.colab.kernel.invokeFunction('convertToInteractive',\n",
              "                                                     [key], {});\n",
              "          if (!dataTable) return;\n",
              "\n",
              "          const docLinkHtml = 'Like what you see? Visit the ' +\n",
              "            '<a target=\"_blank\" href=https://colab.research.google.com/notebooks/data_table.ipynb>data table notebook</a>'\n",
              "            + ' to learn more about interactive tables.';\n",
              "          element.innerHTML = '';\n",
              "          dataTable['output_type'] = 'display_data';\n",
              "          await google.colab.output.renderOutput(dataTable, element);\n",
              "          const docLink = document.createElement('div');\n",
              "          docLink.innerHTML = docLinkHtml;\n",
              "          element.appendChild(docLink);\n",
              "        }\n",
              "      </script>\n",
              "    </div>\n",
              "  </div>\n",
              "  "
            ]
          },
          "metadata": {},
          "execution_count": 11
        }
      ]
    },
    {
      "cell_type": "code",
      "source": [
        "# ESCALAR PUNTOS\n",
        "\n",
        "# escalador = MinMaxScaler().fit(df_number_no_nan.values)\n",
        "\n",
        "# df_number_no_nan_escalado = pd.DataFrame(escalador.transform(df_number_no_nan.values))"
      ],
      "metadata": {
        "id": "0vVShsyXLGS1"
      },
      "execution_count": null,
      "outputs": []
    },
    {
      "cell_type": "code",
      "source": [
        "# df_number_escalado"
      ],
      "metadata": {
        "id": "K_czZtKjLf51"
      },
      "execution_count": null,
      "outputs": []
    },
    {
      "cell_type": "markdown",
      "source": [
        "## REGRESION LOGISTICA SOBRE EL DF_NUMBER_NO_NAN"
      ],
      "metadata": {
        "id": "3hFeBN5EGdmV"
      }
    },
    {
      "cell_type": "code",
      "source": [
        "# PASOS\n",
        "# 1- AL SET DE DATOS HAY QUE SACARLE LA COLUMNA Y (GAVEDAD DE VICTIMA) y CREAR UN DATAFREAM CON EL VECTOR Y\n",
        "# DF_X = TODOS LOS CAMPOS MENOS Y\n",
        "# DF_Y = SOLO LA COLUMNA GRAVEDAD VICTIMA\n",
        "# 1.a  - GRAFICAR COLUMNAS\n",
        "# 2- REALIZAR EL SPLIT\n",
        "# 3- ENTRENAR\n",
        "# 4- PREDECIR\n",
        "# 5- METRICAS"
      ],
      "metadata": {
        "id": "SDpzyWZxGcZs"
      },
      "execution_count": null,
      "outputs": []
    },
    {
      "cell_type": "markdown",
      "source": [
        "## ARMO LA MATRIZ X & EL VECTOR Y"
      ],
      "metadata": {
        "id": "JkMN7nEpMyKh"
      }
    },
    {
      "cell_type": "code",
      "source": [
        "# 1 ARMAR MATRIZ X y VECTOR Y\n",
        "y = df_number_no_nan['Gravedad_victima']\n",
        "X = df_number_no_nan.drop(['Gravedad_victima'], axis=1)\n",
        "print(y)\n",
        "print(X)\n"
      ],
      "metadata": {
        "colab": {
          "base_uri": "https://localhost:8080/"
        },
        "id": "WFR258XsJFgp",
        "outputId": "b6885693-c73a-4d62-bd26-c1fd78f1cf5a"
      },
      "execution_count": 13,
      "outputs": [
        {
          "output_type": "stream",
          "name": "stdout",
          "text": [
            "0         0\n",
            "1         0\n",
            "2         0\n",
            "3         0\n",
            "4         0\n",
            "         ..\n",
            "235836    0\n",
            "235837    0\n",
            "235838    0\n",
            "235839    0\n",
            "235840    0\n",
            "Name: Gravedad_victima, Length: 214952, dtype: int64\n",
            "        Clase_incidente  Edad  Num_dia  Hora  Anio   Radicado   Latitud  \\\n",
            "0                     4    17      1.0     0  2014  1423940.0  6.266915   \n",
            "1                     0    20      1.0     0  2014  1423921.0  6.289353   \n",
            "2                     0    18      1.0     0  2014  1423921.0  6.289353   \n",
            "3                     0    19      1.0     0  2014  1423849.0  6.234327   \n",
            "4                     0    39      1.0     0  2014  1423849.0  6.234327   \n",
            "...                 ...   ...      ...   ...   ...        ...       ...   \n",
            "235836                4    44     30.0    20  2021  1763939.0  6.298268   \n",
            "235837                2    38     30.0    20  2021  1763788.0  6.217895   \n",
            "235838                4    32     30.0    22  2021  1764135.0  6.234267   \n",
            "235839                4    29     30.0    22  2021  1764135.0  6.234267   \n",
            "235840                1    41     30.0    22  2021  1763968.0  6.272697   \n",
            "\n",
            "         Longitud  Condicion2  Dia2  Sexo2  \n",
            "0      -75.559099           3     4      1  \n",
            "1      -75.553292           3     4      1  \n",
            "2      -75.553292           5     4      0  \n",
            "3      -75.607611           3     4      1  \n",
            "4      -75.607611           5     4      1  \n",
            "...           ...         ...   ...    ...  \n",
            "235836 -75.585992           3     1      0  \n",
            "235837 -75.575824           3     1      0  \n",
            "235838 -75.536311           3     1      1  \n",
            "235839 -75.536311           0     1      0  \n",
            "235840 -75.548675           0     1      1  \n",
            "\n",
            "[214952 rows x 11 columns]\n"
          ]
        }
      ]
    },
    {
      "cell_type": "markdown",
      "source": [
        "## SPLIT DEL DATASET"
      ],
      "metadata": {
        "id": "pdocYe1wMucD"
      }
    },
    {
      "cell_type": "code",
      "source": [
        "# 2- REALIZAR EL SPLIT\n",
        "# train a logistic regression model on the training set\n",
        "\n",
        "from sklearn.linear_model import LogisticRegression\n",
        "from sklearn.model_selection import train_test_split \n",
        "X_train, X_test, y_train, y_test = train_test_split(X,y,test_size=0.30)\n"
      ],
      "metadata": {
        "id": "YqBdf3CpKrWo"
      },
      "execution_count": 15,
      "outputs": []
    },
    {
      "cell_type": "markdown",
      "source": [
        "## CREO EL MODELO Y ENTRENO"
      ],
      "metadata": {
        "id": "7pZTKI1qMq67"
      }
    },
    {
      "cell_type": "code",
      "source": [
        "# 3- ENTRENAR\n",
        "# CREO EL MODELO\n",
        "logreg = LogisticRegression(solver='liblinear', random_state=0)\n",
        "# ENTRENO EL MODELO CON LOS DF SPLITEADOS\n",
        "logreg.fit(X_train, y_train)"
      ],
      "metadata": {
        "colab": {
          "base_uri": "https://localhost:8080/"
        },
        "id": "_FRU7qNDK_rW",
        "outputId": "d11e95fa-d327-4055-80b6-b67f9f59ddeb"
      },
      "execution_count": 20,
      "outputs": [
        {
          "output_type": "execute_result",
          "data": {
            "text/plain": [
              "LogisticRegression(random_state=0, solver='liblinear')"
            ]
          },
          "metadata": {},
          "execution_count": 20
        }
      ]
    },
    {
      "cell_type": "code",
      "source": [
        "# Reviso la influencia de cada columna:\n",
        "print(logreg.coef_)"
      ],
      "metadata": {
        "colab": {
          "base_uri": "https://localhost:8080/"
        },
        "id": "C9RMpvqXL2gn",
        "outputId": "fd4a5525-f887-4a5e-e8e1-834c1d25fa33"
      },
      "execution_count": 21,
      "outputs": [
        {
          "output_type": "stream",
          "name": "stdout",
          "text": [
            "[[-3.33003165e-06  9.83780717e-05  1.15971875e-05  5.41689348e-06\n",
            "   1.50376056e-03 -5.59402070e-06  4.59950875e-06 -5.58132457e-05\n",
            "   6.05249262e-06  2.54070703e-06  1.28326672e-06]]\n"
          ]
        }
      ]
    },
    {
      "cell_type": "markdown",
      "source": [
        "# 4 - PREDECIR"
      ],
      "metadata": {
        "id": "82d2-HW6Mmzk"
      }
    },
    {
      "cell_type": "code",
      "source": [
        "# 4- PREDECIR\n",
        "# ESTA ES LA PREDICCION\n",
        "y_pred_test = logreg.predict(X_test)\n",
        "#SALIDA DE LA PREDICCION\n",
        "y_pred_test"
      ],
      "metadata": {
        "colab": {
          "base_uri": "https://localhost:8080/"
        },
        "id": "cFVVuaNiL9fo",
        "outputId": "7551ceff-d7e0-428c-a957-6e0611e0566b"
      },
      "execution_count": 22,
      "outputs": [
        {
          "output_type": "execute_result",
          "data": {
            "text/plain": [
              "array([0, 0, 0, ..., 0, 0, 0])"
            ]
          },
          "metadata": {},
          "execution_count": 22
        }
      ]
    },
    {
      "cell_type": "markdown",
      "source": [
        "## 5 - METRICAS"
      ],
      "metadata": {
        "id": "h_d38unvMh80"
      }
    },
    {
      "cell_type": "code",
      "source": [
        "# 5- METRICAS\n",
        "\n",
        "# CALCULO LA PRESICION DEL ALGORITMO DE PREDICCION COMPARANDO EL Y DE SALIDA REAL VS LA PREDICCION\n",
        "# La métrica accuracy representa el porcentaje total de valores correctamente\n",
        "from sklearn.metrics import accuracy_score\n",
        "\n",
        "# FUNCION DE CALCULO DE SCORE\n",
        "# accuracy_score(y_test, y_pred_test)\n",
        "\n",
        "print('Model accuracy score: {0:0.4f}'. format(accuracy_score(y_test, y_pred_test)))\n",
        "# Vemos las puntuaciones en el conjunto de entrenamiento y prueba: desde el modelo\n",
        "print('Training set score: {:.4f}'.format(logreg.score(X_train, y_train)))\n",
        "print('Test set score:     {:.4f}'.format(logreg.score(X_test, y_test)))"
      ],
      "metadata": {
        "colab": {
          "base_uri": "https://localhost:8080/"
        },
        "id": "Jki6Tu5bMPBx",
        "outputId": "db3e1063-e74f-4c21-bfd5-6c59a583ffb3"
      },
      "execution_count": 24,
      "outputs": [
        {
          "output_type": "stream",
          "name": "stdout",
          "text": [
            "Model accuracy score: 0.9970\n",
            "Training set score: 0.9971\n",
            "Test set score:     0.9970\n"
          ]
        }
      ]
    },
    {
      "cell_type": "code",
      "source": [
        "# Creamos nuestra Matriz de Confusión:\n",
        "# COMPARANDO EL Y DE SALIDA REAL VS LA PREDICCION\n",
        "import seaborn as sns # statistical data visualization\n",
        "%matplotlib inline\n",
        "# import category_encoders as ce\n",
        "\n",
        "from sklearn.metrics import confusion_matrix\n",
        "\n",
        "cm = confusion_matrix(y_test, y_pred_test)\n",
        "print('Confusion matrix\\n\\n', cm)\n",
        "print('\\nTrue Positives(TP) = ', cm[0,0])\n",
        "print('\\nTrue Negatives(TN) = ', cm[1,1])\n",
        "print('\\nFalse Positives(FP) = ', cm[0,1])\n",
        "print('\\nFalse Negatives(FN) = ', cm[1,0])\n",
        "\n",
        "# Visualizamos la Matriz de Confusión:\n",
        "cm_matrix = pd.DataFrame(data=cm, columns=['Actual Positive:1', 'Actual Negative:0'], \n",
        "                                 index=['Predict Positive:1', 'Predict Negative:0'])\n",
        "sns.heatmap(cm_matrix, annot=True, fmt='d', cmap='YlGnBu')"
      ],
      "metadata": {
        "colab": {
          "base_uri": "https://localhost:8080/",
          "height": 491
        },
        "id": "DfywQRMtNH_p",
        "outputId": "2b7e2462-e25f-4399-e789-e2afcf7bdd45"
      },
      "execution_count": 25,
      "outputs": [
        {
          "output_type": "stream",
          "name": "stdout",
          "text": [
            "Confusion matrix\n",
            "\n",
            " [[63912     0]\n",
            " [  194   380]]\n",
            "\n",
            "True Positives(TP) =  63912\n",
            "\n",
            "True Negatives(TN) =  380\n",
            "\n",
            "False Positives(FP) =  0\n",
            "\n",
            "False Negatives(FN) =  194\n"
          ]
        },
        {
          "output_type": "execute_result",
          "data": {
            "text/plain": [
              "<matplotlib.axes._subplots.AxesSubplot at 0x7f7f4d7f3ad0>"
            ]
          },
          "metadata": {},
          "execution_count": 25
        },
        {
          "output_type": "display_data",
          "data": {
            "text/plain": [
              "<Figure size 432x288 with 2 Axes>"
            ],
            "image/png": "[encoded data removed]"
          },
          "metadata": {
            "needs_background": "light"
          }
        }
      ]
    },
    {
      "cell_type": "code",
      "source": [
        "# El Informe de Clasificación es otra forma de evaluar el rendimiento del modelo de clasificación.\n",
        "# Muestra las puntuaciones de precisión, recuperación, f1 y soporte para el modelo:\n",
        "from sklearn.metrics import classification_report\n",
        "\n",
        "print(classification_report(y_test, y_pred_test))\n",
        "# aqui se observa que variable tiene mayor influencia\n",
        "print(\"coef\",logreg.coef_)"
      ],
      "metadata": {
        "colab": {
          "base_uri": "https://localhost:8080/"
        },
        "id": "oDZgTnLFNKhW",
        "outputId": "0d349a8a-434e-46f2-8932-6c1521bf6783"
      },
      "execution_count": 28,
      "outputs": [
        {
          "output_type": "stream",
          "name": "stdout",
          "text": [
            "              precision    recall  f1-score   support\n",
            "\n",
            "           0       1.00      1.00      1.00     63912\n",
            "           1       1.00      0.66      0.80       574\n",
            "\n",
            "    accuracy                           1.00     64486\n",
            "   macro avg       1.00      0.83      0.90     64486\n",
            "weighted avg       1.00      1.00      1.00     64486\n",
            "\n",
            "coef [[-3.33003165e-06  9.83780717e-05  1.15971875e-05  5.41689348e-06\n",
            "   1.50376056e-03 -5.59402070e-06  4.59950875e-06 -5.58132457e-05\n",
            "   6.05249262e-06  2.54070703e-06  1.28326672e-06]]\n"
          ]
        }
      ]
    },
    {
      "cell_type": "markdown",
      "source": [
        "## SUPUESTOS DE LA REGRESION LOGISTICA\n",
        "REGRESION LOGISTICA: la variable de respuesta es binaria [0,1]"
      ],
      "metadata": {
        "id": "K8vZFGD1QRkP"
      }
    },
    {
      "cell_type": "code",
      "source": [
        "# EVALUO LA SALIDA (OUTPUT) DEBE TENER  2 VALORES\n",
        "# la funcion unique de la libreria numpy nos permite leer un array de numpy y su salida son valores unicos\n",
        "# https://numpy.org/doc/stable/reference/generated/numpy.unique.html\n",
        "print(np.unique(y))\n",
        "# EVALUO LA CANTIDAD DE VALORES QUE HAY PARA CADA UNO\n",
        "df_y = pd.DataFrame(y)\n",
        "df_y.groupby(['Gravedad_victima']).size()"
      ],
      "metadata": {
        "colab": {
          "base_uri": "https://localhost:8080/"
        },
        "id": "ORZEt6WWQPnY",
        "outputId": "a711b23e-8575-4954-e5a1-0145198ccd8d"
      },
      "execution_count": 36,
      "outputs": [
        {
          "output_type": "stream",
          "name": "stdout",
          "text": [
            "[0 1]\n"
          ]
        },
        {
          "output_type": "execute_result",
          "data": {
            "text/plain": [
              "Gravedad_victima\n",
              "0    213131\n",
              "1      1821\n",
              "dtype: int64"
            ]
          },
          "metadata": {},
          "execution_count": 36
        }
      ]
    },
    {
      "cell_type": "markdown",
      "source": [
        "## SUPUESTO 2 - Linealidad de variables independientes y probabilidades logarítmicas\n",
        "\n",
        "REGRESION LOGISTICA: Existe una relación lineal entre las variables explicativas y el logit de la variable de respuesta\n",
        "## **FUNCION LOGIT**\n",
        "\n",
        "* La función logit es una parte importante de la regresión logística\n",
        "**En matemáticas, especialmente aquellas aplicadas en estadística, el logit de un número p entre 0 y 1 es**\n",
        "\n",
        "La base de la función logaritmo usada aquí es de poca importancia, siempre y cuando **sea mayor que 1**, aunque se usa a menudo el logaritmo natural con base e.\n",
        "\n",
        "**La función logit es la inversa del \"sigmoide\", o función \"logística\".**\n",
        "\n",
        "* Si p es una probabilidad entonces p/(1 − p) es la razón de momios, y el logit de la probabilidad es el logaritmo de la razón de momios; \n",
        "* **La diferencia entre los logits de dos probabilidades es el logaritmo del odds ratio (OR), obteniéndose así un mecanismo aditivo para combinar odds-ratios.**\n",
        "\n",
        "### LOGARITMO DE ODD"
      ],
      "metadata": {
        "id": "tZ7pYUY5RTVn"
      }
    },
    {
      "cell_type": "code",
      "source": [
        "# VAMOS A CONVERTIR LA MATRIZ DE NP a UN DF \n",
        "df = pd.DataFrame(X)\n",
        "\n",
        "# CREAMOS UNA COPIA DEL DF ORIGINAL PARA NO ALTERAR EL ORIGINAL\n",
        "df_lt = df.copy()  # lt = logit transform\n",
        "\n",
        "# Add logit transform interaction terms (natural log) for continuous variables e.g. Age * Log(Age)\n",
        "for var in df_lt.columns:\n",
        "    df_lt[f'{var}:Log_{var}'] = df_lt[var].apply(lambda x: x * np.log(x)) #np.log = natural log\n",
        "\n",
        "df_lt.head()\n",
        "# ESTA FUNCION GENERA COLUMNAS NUEVAS POR CADA UNA DE LAS VARIABLES SU LOGARITMO DE OD PARA PODER VER SU LINEALIDAD\n",
        "# DEBE SER LINEAL LA VARIABLE DE INTERES (INDEPENDIENTE) CON RESPECTO A SU LOGARITMO DE ODD ( se calcula la variable * logaritmo de si mismo)"
      ],
      "metadata": {
        "colab": {
          "base_uri": "https://localhost:8080/",
          "height": 300
        },
        "id": "E2XuEwTTQyLP",
        "outputId": "cf7bf4e4-132f-49b7-b867-fc76841db4af"
      },
      "execution_count": 37,
      "outputs": [
        {
          "output_type": "execute_result",
          "data": {
            "text/plain": [
              "   Clase_incidente  Edad  Num_dia  Hora  Anio   Radicado   Latitud   Longitud  \\\n",
              "0                4    17      1.0     0  2014  1423940.0  6.266915 -75.559099   \n",
              "1                0    20      1.0     0  2014  1423921.0  6.289353 -75.553292   \n",
              "2                0    18      1.0     0  2014  1423921.0  6.289353 -75.553292   \n",
              "3                0    19      1.0     0  2014  1423849.0  6.234327 -75.607611   \n",
              "4                0    39      1.0     0  2014  1423849.0  6.234327 -75.607611   \n",
              "\n",
              "   Condicion2  Dia2  ...  Edad:Log_Edad  Num_dia:Log_Num_dia  Hora:Log_Hora  \\\n",
              "0           3     4  ...      48.164627                  0.0            NaN   \n",
              "1           3     4  ...      59.914645                  0.0            NaN   \n",
              "2           5     4  ...      52.026692                  0.0            NaN   \n",
              "3           3     4  ...      55.944341                  0.0            NaN   \n",
              "4           5     4  ...     142.878904                  0.0            NaN   \n",
              "\n",
              "   Anio:Log_Anio  Radicado:Log_Radicado  Latitud:Log_Latitud  \\\n",
              "0    15322.26644           2.017572e+07            11.501569   \n",
              "1    15322.26644           2.017543e+07            11.565230   \n",
              "2    15322.26644           2.017543e+07            11.565230   \n",
              "3    15322.26644           2.017434e+07            11.409260   \n",
              "4    15322.26644           2.017434e+07            11.409260   \n",
              "\n",
              "   Longitud:Log_Longitud  Condicion2:Log_Condicion2  Dia2:Log_Dia2  \\\n",
              "0                    NaN                   3.295837       5.545177   \n",
              "1                    NaN                   3.295837       5.545177   \n",
              "2                    NaN                   8.047190       5.545177   \n",
              "3                    NaN                   3.295837       5.545177   \n",
              "4                    NaN                   8.047190       5.545177   \n",
              "\n",
              "   Sexo2:Log_Sexo2  \n",
              "0              0.0  \n",
              "1              0.0  \n",
              "2              NaN  \n",
              "3              0.0  \n",
              "4              0.0  \n",
              "\n",
              "[5 rows x 22 columns]"
            ],
            "text/html": [
              "\n",
              "  <div id=\"df-6a84a1df-17fa-468d-bf97-19e3b7f0149f\">\n",
              "    <div class=\"colab-df-container\">\n",
              "      <div>\n",
              "<style scoped>\n",
              "    .dataframe tbody tr th:only-of-type {\n",
              "        vertical-align: middle;\n",
              "    }\n",
              "\n",
              "    .dataframe tbody tr th {\n",
              "        vertical-align: top;\n",
              "    }\n",
              "\n",
              "    .dataframe thead th {\n",
              "        text-align: right;\n",
              "    }\n",
              "</style>\n",
              "<table border=\"1\" class=\"dataframe\">\n",
              "  <thead>\n",
              "    <tr style=\"text-align: right;\">\n",
              "      <th></th>\n",
              "      <th>Clase_incidente</th>\n",
              "      <th>Edad</th>\n",
              "      <th>Num_dia</th>\n",
              "      <th>Hora</th>\n",
              "      <th>Anio</th>\n",
              "      <th>Radicado</th>\n",
              "      <th>Latitud</th>\n",
              "      <th>Longitud</th>\n",
              "      <th>Condicion2</th>\n",
              "      <th>Dia2</th>\n",
              "      <th>...</th>\n",
              "      <th>Edad:Log_Edad</th>\n",
              "      <th>Num_dia:Log_Num_dia</th>\n",
              "      <th>Hora:Log_Hora</th>\n",
              "      <th>Anio:Log_Anio</th>\n",
              "      <th>Radicado:Log_Radicado</th>\n",
              "      <th>Latitud:Log_Latitud</th>\n",
              "      <th>Longitud:Log_Longitud</th>\n",
              "      <th>Condicion2:Log_Condicion2</th>\n",
              "      <th>Dia2:Log_Dia2</th>\n",
              "      <th>Sexo2:Log_Sexo2</th>\n",
              "    </tr>\n",
              "  </thead>\n",
              "  <tbody>\n",
              "    <tr>\n",
              "      <th>0</th>\n",
              "      <td>4</td>\n",
              "      <td>17</td>\n",
              "      <td>1.0</td>\n",
              "      <td>0</td>\n",
              "      <td>2014</td>\n",
              "      <td>1423940.0</td>\n",
              "      <td>6.266915</td>\n",
              "      <td>-75.559099</td>\n",
              "      <td>3</td>\n",
              "      <td>4</td>\n",
              "      <td>...</td>\n",
              "      <td>48.164627</td>\n",
              "      <td>0.0</td>\n",
              "      <td>NaN</td>\n",
              "      <td>15322.26644</td>\n",
              "      <td>2.017572e+07</td>\n",
              "      <td>11.501569</td>\n",
              "      <td>NaN</td>\n",
              "      <td>3.295837</td>\n",
              "      <td>5.545177</td>\n",
              "      <td>0.0</td>\n",
              "    </tr>\n",
              "    <tr>\n",
              "      <th>1</th>\n",
              "      <td>0</td>\n",
              "      <td>20</td>\n",
              "      <td>1.0</td>\n",
              "      <td>0</td>\n",
              "      <td>2014</td>\n",
              "      <td>1423921.0</td>\n",
              "      <td>6.289353</td>\n",
              "      <td>-75.553292</td>\n",
              "      <td>3</td>\n",
              "      <td>4</td>\n",
              "      <td>...</td>\n",
              "      <td>59.914645</td>\n",
              "      <td>0.0</td>\n",
              "      <td>NaN</td>\n",
              "      <td>15322.26644</td>\n",
              "      <td>2.017543e+07</td>\n",
              "      <td>11.565230</td>\n",
              "      <td>NaN</td>\n",
              "      <td>3.295837</td>\n",
              "      <td>5.545177</td>\n",
              "      <td>0.0</td>\n",
              "    </tr>\n",
              "    <tr>\n",
              "      <th>2</th>\n",
              "      <td>0</td>\n",
              "      <td>18</td>\n",
              "      <td>1.0</td>\n",
              "      <td>0</td>\n",
              "      <td>2014</td>\n",
              "      <td>1423921.0</td>\n",
              "      <td>6.289353</td>\n",
              "      <td>-75.553292</td>\n",
              "      <td>5</td>\n",
              "      <td>4</td>\n",
              "      <td>...</td>\n",
              "      <td>52.026692</td>\n",
              "      <td>0.0</td>\n",
              "      <td>NaN</td>\n",
              "      <td>15322.26644</td>\n",
              "      <td>2.017543e+07</td>\n",
              "      <td>11.565230</td>\n",
              "      <td>NaN</td>\n",
              "      <td>8.047190</td>\n",
              "      <td>5.545177</td>\n",
              "      <td>NaN</td>\n",
              "    </tr>\n",
              "    <tr>\n",
              "      <th>3</th>\n",
              "      <td>0</td>\n",
              "      <td>19</td>\n",
              "      <td>1.0</td>\n",
              "      <td>0</td>\n",
              "      <td>2014</td>\n",
              "      <td>1423849.0</td>\n",
              "      <td>6.234327</td>\n",
              "      <td>-75.607611</td>\n",
              "      <td>3</td>\n",
              "      <td>4</td>\n",
              "      <td>...</td>\n",
              "      <td>55.944341</td>\n",
              "      <td>0.0</td>\n",
              "      <td>NaN</td>\n",
              "      <td>15322.26644</td>\n",
              "      <td>2.017434e+07</td>\n",
              "      <td>11.409260</td>\n",
              "      <td>NaN</td>\n",
              "      <td>3.295837</td>\n",
              "      <td>5.545177</td>\n",
              "      <td>0.0</td>\n",
              "    </tr>\n",
              "    <tr>\n",
              "      <th>4</th>\n",
              "      <td>0</td>\n",
              "      <td>39</td>\n",
              "      <td>1.0</td>\n",
              "      <td>0</td>\n",
              "      <td>2014</td>\n",
              "      <td>1423849.0</td>\n",
              "      <td>6.234327</td>\n",
              "      <td>-75.607611</td>\n",
              "      <td>5</td>\n",
              "      <td>4</td>\n",
              "      <td>...</td>\n",
              "      <td>142.878904</td>\n",
              "      <td>0.0</td>\n",
              "      <td>NaN</td>\n",
              "      <td>15322.26644</td>\n",
              "      <td>2.017434e+07</td>\n",
              "      <td>11.409260</td>\n",
              "      <td>NaN</td>\n",
              "      <td>8.047190</td>\n",
              "      <td>5.545177</td>\n",
              "      <td>0.0</td>\n",
              "    </tr>\n",
              "  </tbody>\n",
              "</table>\n",
              "<p>5 rows × 22 columns</p>\n",
              "</div>\n",
              "      <button class=\"colab-df-convert\" onclick=\"convertToInteractive('df-6a84a1df-17fa-468d-bf97-19e3b7f0149f')\"\n",
              "              title=\"Convert this dataframe to an interactive table.\"\n",
              "              style=\"display:none;\">\n",
              "        \n",
              "  <svg xmlns=\"http://www.w3.org/2000/svg\" height=\"24px\"viewBox=\"0 0 24 24\"\n",
              "       width=\"24px\">\n",
              "    <path d=\"M0 0h24v24H0V0z\" fill=\"none\"/>\n",
              "    <path d=\"M18.56 5.44l.94 2.06.94-2.06 2.06-.94-2.06-.94-.94-2.06-.94 2.06-2.06.94zm-11 1L8.5 8.5l.94-2.06 2.06-.94-2.06-.94L8.5 2.5l-.94 2.06-2.06.94zm10 10l.94 2.06.94-2.06 2.06-.94-2.06-.94-.94-2.06-.94 2.06-2.06.94z\"/><path d=\"M17.41 7.96l-1.37-1.37c-.4-.4-.92-.59-1.43-.59-.52 0-1.04.2-1.43.59L10.3 9.45l-7.72 7.72c-.78.78-.78 2.05 0 2.83L4 21.41c.39.39.9.59 1.41.59.51 0 1.02-.2 1.41-.59l7.78-7.78 2.81-2.81c.8-.78.8-2.07 0-2.86zM5.41 20L4 18.59l7.72-7.72 1.47 1.35L5.41 20z\"/>\n",
              "  </svg>\n",
              "      </button>\n",
              "      \n",
              "  <style>\n",
              "    .colab-df-container {\n",
              "      display:flex;\n",
              "      flex-wrap:wrap;\n",
              "      gap: 12px;\n",
              "    }\n",
              "\n",
              "    .colab-df-convert {\n",
              "      background-color: #E8F0FE;\n",
              "      border: none;\n",
              "      border-radius: 50%;\n",
              "      cursor: pointer;\n",
              "      display: none;\n",
              "      fill: #1967D2;\n",
              "      height: 32px;\n",
              "      padding: 0 0 0 0;\n",
              "      width: 32px;\n",
              "    }\n",
              "\n",
              "    .colab-df-convert:hover {\n",
              "      background-color: #E2EBFA;\n",
              "      box-shadow: 0px 1px 2px rgba(60, 64, 67, 0.3), 0px 1px 3px 1px rgba(60, 64, 67, 0.15);\n",
              "      fill: #174EA6;\n",
              "    }\n",
              "\n",
              "    [theme=dark] .colab-df-convert {\n",
              "      background-color: #3B4455;\n",
              "      fill: #D2E3FC;\n",
              "    }\n",
              "\n",
              "    [theme=dark] .colab-df-convert:hover {\n",
              "      background-color: #434B5C;\n",
              "      box-shadow: 0px 1px 3px 1px rgba(0, 0, 0, 0.15);\n",
              "      filter: drop-shadow(0px 1px 2px rgba(0, 0, 0, 0.3));\n",
              "      fill: #FFFFFF;\n",
              "    }\n",
              "  </style>\n",
              "\n",
              "      <script>\n",
              "        const buttonEl =\n",
              "          document.querySelector('#df-6a84a1df-17fa-468d-bf97-19e3b7f0149f button.colab-df-convert');\n",
              "        buttonEl.style.display =\n",
              "          google.colab.kernel.accessAllowed ? 'block' : 'none';\n",
              "\n",
              "        async function convertToInteractive(key) {\n",
              "          const element = document.querySelector('#df-6a84a1df-17fa-468d-bf97-19e3b7f0149f');\n",
              "          const dataTable =\n",
              "            await google.colab.kernel.invokeFunction('convertToInteractive',\n",
              "                                                     [key], {});\n",
              "          if (!dataTable) return;\n",
              "\n",
              "          const docLinkHtml = 'Like what you see? Visit the ' +\n",
              "            '<a target=\"_blank\" href=https://colab.research.google.com/notebooks/data_table.ipynb>data table notebook</a>'\n",
              "            + ' to learn more about interactive tables.';\n",
              "          element.innerHTML = '';\n",
              "          dataTable['output_type'] = 'display_data';\n",
              "          await google.colab.output.renderOutput(dataTable, element);\n",
              "          const docLink = document.createElement('div');\n",
              "          docLink.innerHTML = docLinkHtml;\n",
              "          element.appendChild(docLink);\n",
              "        }\n",
              "      </script>\n",
              "    </div>\n",
              "  </div>\n",
              "  "
            ]
          },
          "metadata": {},
          "execution_count": 37
        }
      ]
    },
    {
      "cell_type": "code",
      "source": [
        "list(df_lt.columns)"
      ],
      "metadata": {
        "colab": {
          "base_uri": "https://localhost:8080/"
        },
        "id": "BAV-4gCNSzGt",
        "outputId": "c5389fa4-4056-480d-d5ea-f40fec317014"
      },
      "execution_count": 40,
      "outputs": [
        {
          "output_type": "execute_result",
          "data": {
            "text/plain": [
              "['Clase_incidente',\n",
              " 'Edad',\n",
              " 'Num_dia',\n",
              " 'Hora',\n",
              " 'Anio',\n",
              " 'Radicado',\n",
              " 'Latitud',\n",
              " 'Longitud',\n",
              " 'Condicion2',\n",
              " 'Dia2',\n",
              " 'Sexo2',\n",
              " 'Clase_incidente:Log_Clase_incidente',\n",
              " 'Edad:Log_Edad',\n",
              " 'Num_dia:Log_Num_dia',\n",
              " 'Hora:Log_Hora',\n",
              " 'Anio:Log_Anio',\n",
              " 'Radicado:Log_Radicado',\n",
              " 'Latitud:Log_Latitud',\n",
              " 'Longitud:Log_Longitud',\n",
              " 'Condicion2:Log_Condicion2',\n",
              " 'Dia2:Log_Dia2',\n",
              " 'Sexo2:Log_Sexo2']"
            ]
          },
          "metadata": {},
          "execution_count": 40
        }
      ]
    },
    {
      "cell_type": "code",
      "source": [
        "df_lt.isnull().sum()"
      ],
      "metadata": {
        "colab": {
          "base_uri": "https://localhost:8080/"
        },
        "id": "N15sAGbGUgo9",
        "outputId": "0ff2400a-581f-4c1d-b492-aa76650bf6cb"
      },
      "execution_count": 51,
      "outputs": [
        {
          "output_type": "execute_result",
          "data": {
            "text/plain": [
              "Clase_incidente                             0\n",
              "Edad                                        0\n",
              "Num_dia                                     0\n",
              "Hora                                        0\n",
              "Anio                                        0\n",
              "Radicado                                    0\n",
              "Latitud                                     0\n",
              "Longitud                                    0\n",
              "Condicion2                                  0\n",
              "Dia2                                        0\n",
              "Sexo2                                       0\n",
              "Clase_incidente:Log_Clase_incidente     36963\n",
              "Edad:Log_Edad                            2814\n",
              "Num_dia:Log_Num_dia                         0\n",
              "Hora:Log_Hora                            3333\n",
              "Anio:Log_Anio                               0\n",
              "Radicado:Log_Radicado                       0\n",
              "Latitud:Log_Latitud                         3\n",
              "Longitud:Log_Longitud                  214952\n",
              "Condicion2:Log_Condicion2               32522\n",
              "Dia2:Log_Dia2                           25344\n",
              "Sexo2:Log_Sexo2                         65924\n",
              "dtype: int64"
            ]
          },
          "metadata": {},
          "execution_count": 51
        }
      ]
    },
    {
      "cell_type": "code",
      "source": [
        "# GRAFICO LAS COLUMNAS PARA OBSERVAR SU LINEALIDAD\n",
        "plt.figure(figsize = (10,15))\n",
        "\n",
        "plt.subplot(2,2,1)\n",
        "\n",
        "# plt.title ('Clase_incidente')\n",
        "# plt.scatter(df_lt[0],df_lt[11])\n",
        "# plt.figure(figsize=(10,15))\n",
        "plt.subplot(2,2,2)\n",
        "plt.title ('Edad')\n",
        "plt.scatter(df_lt[1],df_lt[13])\n",
        "# plt.figure(figsize=(10,15))\n",
        "plt.subplot(2,2,3)\n",
        "plt.title ('Num_dia')\n",
        "plt.scatter(df_lt[2],df_lt['Num_dia:Log_Num_dia'])\n",
        "\n",
        "plt.subplot(2,2,4)\n",
        "plt.title ('Hora')\n",
        "plt.scatter(df_lt[2],df_lt['Hora:Log_Hora'])\n",
        "\n",
        "plt.subplot(2,3,1)\n",
        "plt.title ('Anio')\n",
        "plt.scatter(df_lt[2],df_lt['Anio:Log_Anio'])"
      ],
      "metadata": {
        "colab": {
          "base_uri": "https://localhost:8080/",
          "height": 921
        },
        "id": "CnNLhzjrSJO0",
        "outputId": "6cac2878-8c9c-44a3-b879-04b0a3725c6a"
      },
      "execution_count": 50,
      "outputs": [
        {
          "output_type": "error",
          "ename": "KeyError",
          "evalue": "ignored",
          "traceback": [
            "\u001b[0;31m---------------------------------------------------------------------------\u001b[0m",
            "\u001b[0;31mKeyError\u001b[0m                                  Traceback (most recent call last)",
            "\u001b[0;32m/usr/local/lib/python3.7/dist-packages/pandas/core/indexes/base.py\u001b[0m in \u001b[0;36mget_loc\u001b[0;34m(self, key, method, tolerance)\u001b[0m\n\u001b[1;32m   3360\u001b[0m             \u001b[0;32mtry\u001b[0m\u001b[0;34m:\u001b[0m\u001b[0;34m\u001b[0m\u001b[0;34m\u001b[0m\u001b[0m\n\u001b[0;32m-> 3361\u001b[0;31m                 \u001b[0;32mreturn\u001b[0m \u001b[0mself\u001b[0m\u001b[0;34m.\u001b[0m\u001b[0m_engine\u001b[0m\u001b[0;34m.\u001b[0m\u001b[0mget_loc\u001b[0m\u001b[0;34m(\u001b[0m\u001b[0mcasted_key\u001b[0m\u001b[0;34m)\u001b[0m\u001b[0;34m\u001b[0m\u001b[0;34m\u001b[0m\u001b[0m\n\u001b[0m\u001b[1;32m   3362\u001b[0m             \u001b[0;32mexcept\u001b[0m \u001b[0mKeyError\u001b[0m \u001b[0;32mas\u001b[0m \u001b[0merr\u001b[0m\u001b[0;34m:\u001b[0m\u001b[0;34m\u001b[0m\u001b[0;34m\u001b[0m\u001b[0m\n",
            "\u001b[0;32m/usr/local/lib/python3.7/dist-packages/pandas/_libs/index.pyx\u001b[0m in \u001b[0;36mpandas._libs.index.IndexEngine.get_loc\u001b[0;34m()\u001b[0m\n",
            "\u001b[0;32m/usr/local/lib/python3.7/dist-packages/pandas/_libs/index.pyx\u001b[0m in \u001b[0;36mpandas._libs.index.IndexEngine.get_loc\u001b[0;34m()\u001b[0m\n",
            "\u001b[0;32mpandas/_libs/hashtable_class_helper.pxi\u001b[0m in \u001b[0;36mpandas._libs.hashtable.PyObjectHashTable.get_item\u001b[0;34m()\u001b[0m\n",
            "\u001b[0;32mpandas/_libs/hashtable_class_helper.pxi\u001b[0m in \u001b[0;36mpandas._libs.hashtable.PyObjectHashTable.get_item\u001b[0;34m()\u001b[0m\n",
            "\u001b[0;31mKeyError\u001b[0m: 1",
            "\nThe above exception was the direct cause of the following exception:\n",
            "\u001b[0;31mKeyError\u001b[0m                                  Traceback (most recent call last)",
            "\u001b[0;32m<ipython-input-50-316226d7cc12>\u001b[0m in \u001b[0;36m<module>\u001b[0;34m()\u001b[0m\n\u001b[1;32m      9\u001b[0m \u001b[0mplt\u001b[0m\u001b[0;34m.\u001b[0m\u001b[0msubplot\u001b[0m\u001b[0;34m(\u001b[0m\u001b[0;36m2\u001b[0m\u001b[0;34m,\u001b[0m\u001b[0;36m2\u001b[0m\u001b[0;34m,\u001b[0m\u001b[0;36m2\u001b[0m\u001b[0;34m)\u001b[0m\u001b[0;34m\u001b[0m\u001b[0;34m\u001b[0m\u001b[0m\n\u001b[1;32m     10\u001b[0m \u001b[0mplt\u001b[0m\u001b[0;34m.\u001b[0m\u001b[0mtitle\u001b[0m \u001b[0;34m(\u001b[0m\u001b[0;34m'Edad'\u001b[0m\u001b[0;34m)\u001b[0m\u001b[0;34m\u001b[0m\u001b[0;34m\u001b[0m\u001b[0m\n\u001b[0;32m---> 11\u001b[0;31m \u001b[0mplt\u001b[0m\u001b[0;34m.\u001b[0m\u001b[0mscatter\u001b[0m\u001b[0;34m(\u001b[0m\u001b[0mdf_lt\u001b[0m\u001b[0;34m[\u001b[0m\u001b[0;36m1\u001b[0m\u001b[0;34m]\u001b[0m\u001b[0;34m,\u001b[0m\u001b[0mdf_lt\u001b[0m\u001b[0;34m[\u001b[0m\u001b[0;36m13\u001b[0m\u001b[0;34m]\u001b[0m\u001b[0;34m)\u001b[0m\u001b[0;34m\u001b[0m\u001b[0;34m\u001b[0m\u001b[0m\n\u001b[0m\u001b[1;32m     12\u001b[0m \u001b[0;31m# plt.figure(figsize=(10,15))\u001b[0m\u001b[0;34m\u001b[0m\u001b[0;34m\u001b[0m\u001b[0;34m\u001b[0m\u001b[0m\n\u001b[1;32m     13\u001b[0m \u001b[0mplt\u001b[0m\u001b[0;34m.\u001b[0m\u001b[0msubplot\u001b[0m\u001b[0;34m(\u001b[0m\u001b[0;36m2\u001b[0m\u001b[0;34m,\u001b[0m\u001b[0;36m2\u001b[0m\u001b[0;34m,\u001b[0m\u001b[0;36m3\u001b[0m\u001b[0;34m)\u001b[0m\u001b[0;34m\u001b[0m\u001b[0;34m\u001b[0m\u001b[0m\n",
            "\u001b[0;32m/usr/local/lib/python3.7/dist-packages/pandas/core/frame.py\u001b[0m in \u001b[0;36m__getitem__\u001b[0;34m(self, key)\u001b[0m\n\u001b[1;32m   3456\u001b[0m             \u001b[0;32mif\u001b[0m \u001b[0mself\u001b[0m\u001b[0;34m.\u001b[0m\u001b[0mcolumns\u001b[0m\u001b[0;34m.\u001b[0m\u001b[0mnlevels\u001b[0m \u001b[0;34m>\u001b[0m \u001b[0;36m1\u001b[0m\u001b[0;34m:\u001b[0m\u001b[0;34m\u001b[0m\u001b[0;34m\u001b[0m\u001b[0m\n\u001b[1;32m   3457\u001b[0m                 \u001b[0;32mreturn\u001b[0m \u001b[0mself\u001b[0m\u001b[0;34m.\u001b[0m\u001b[0m_getitem_multilevel\u001b[0m\u001b[0;34m(\u001b[0m\u001b[0mkey\u001b[0m\u001b[0;34m)\u001b[0m\u001b[0;34m\u001b[0m\u001b[0;34m\u001b[0m\u001b[0m\n\u001b[0;32m-> 3458\u001b[0;31m             \u001b[0mindexer\u001b[0m \u001b[0;34m=\u001b[0m \u001b[0mself\u001b[0m\u001b[0;34m.\u001b[0m\u001b[0mcolumns\u001b[0m\u001b[0;34m.\u001b[0m\u001b[0mget_loc\u001b[0m\u001b[0;34m(\u001b[0m\u001b[0mkey\u001b[0m\u001b[0;34m)\u001b[0m\u001b[0;34m\u001b[0m\u001b[0;34m\u001b[0m\u001b[0m\n\u001b[0m\u001b[1;32m   3459\u001b[0m             \u001b[0;32mif\u001b[0m \u001b[0mis_integer\u001b[0m\u001b[0;34m(\u001b[0m\u001b[0mindexer\u001b[0m\u001b[0;34m)\u001b[0m\u001b[0;34m:\u001b[0m\u001b[0;34m\u001b[0m\u001b[0;34m\u001b[0m\u001b[0m\n\u001b[1;32m   3460\u001b[0m                 \u001b[0mindexer\u001b[0m \u001b[0;34m=\u001b[0m \u001b[0;34m[\u001b[0m\u001b[0mindexer\u001b[0m\u001b[0;34m]\u001b[0m\u001b[0;34m\u001b[0m\u001b[0;34m\u001b[0m\u001b[0m\n",
            "\u001b[0;32m/usr/local/lib/python3.7/dist-packages/pandas/core/indexes/base.py\u001b[0m in \u001b[0;36mget_loc\u001b[0;34m(self, key, method, tolerance)\u001b[0m\n\u001b[1;32m   3361\u001b[0m                 \u001b[0;32mreturn\u001b[0m \u001b[0mself\u001b[0m\u001b[0;34m.\u001b[0m\u001b[0m_engine\u001b[0m\u001b[0;34m.\u001b[0m\u001b[0mget_loc\u001b[0m\u001b[0;34m(\u001b[0m\u001b[0mcasted_key\u001b[0m\u001b[0;34m)\u001b[0m\u001b[0;34m\u001b[0m\u001b[0;34m\u001b[0m\u001b[0m\n\u001b[1;32m   3362\u001b[0m             \u001b[0;32mexcept\u001b[0m \u001b[0mKeyError\u001b[0m \u001b[0;32mas\u001b[0m \u001b[0merr\u001b[0m\u001b[0;34m:\u001b[0m\u001b[0;34m\u001b[0m\u001b[0;34m\u001b[0m\u001b[0m\n\u001b[0;32m-> 3363\u001b[0;31m                 \u001b[0;32mraise\u001b[0m \u001b[0mKeyError\u001b[0m\u001b[0;34m(\u001b[0m\u001b[0mkey\u001b[0m\u001b[0;34m)\u001b[0m \u001b[0;32mfrom\u001b[0m \u001b[0merr\u001b[0m\u001b[0;34m\u001b[0m\u001b[0;34m\u001b[0m\u001b[0m\n\u001b[0m\u001b[1;32m   3364\u001b[0m \u001b[0;34m\u001b[0m\u001b[0m\n\u001b[1;32m   3365\u001b[0m         \u001b[0;32mif\u001b[0m \u001b[0mis_scalar\u001b[0m\u001b[0;34m(\u001b[0m\u001b[0mkey\u001b[0m\u001b[0;34m)\u001b[0m \u001b[0;32mand\u001b[0m \u001b[0misna\u001b[0m\u001b[0;34m(\u001b[0m\u001b[0mkey\u001b[0m\u001b[0;34m)\u001b[0m \u001b[0;32mand\u001b[0m \u001b[0;32mnot\u001b[0m \u001b[0mself\u001b[0m\u001b[0;34m.\u001b[0m\u001b[0mhasnans\u001b[0m\u001b[0;34m:\u001b[0m\u001b[0;34m\u001b[0m\u001b[0;34m\u001b[0m\u001b[0m\n",
            "\u001b[0;31mKeyError\u001b[0m: 1"
          ]
        },
        {
          "output_type": "display_data",
          "data": {
            "text/plain": [
              "<Figure size 720x1080 with 2 Axes>"
            ],
            "image/png": "[encoded data removed]"
          },
          "metadata": {
            "needs_background": "light"
          }
        }
      ]
    },
    {
      "cell_type": "code",
      "source": [
        "df_lt.head"
      ],
      "metadata": {
        "colab": {
          "base_uri": "https://localhost:8080/"
        },
        "id": "dVRmpIxASYOX",
        "outputId": "947ea3a2-5dc1-488a-b37d-3b7d3f33eed8"
      },
      "execution_count": 39,
      "outputs": [
        {
          "output_type": "execute_result",
          "data": {
            "text/plain": [
              "<bound method NDFrame.head of         Clase_incidente  Edad  Num_dia  Hora  Anio   Radicado   Latitud  \\\n",
              "0                     4    17      1.0     0  2014  1423940.0  6.266915   \n",
              "1                     0    20      1.0     0  2014  1423921.0  6.289353   \n",
              "2                     0    18      1.0     0  2014  1423921.0  6.289353   \n",
              "3                     0    19      1.0     0  2014  1423849.0  6.234327   \n",
              "4                     0    39      1.0     0  2014  1423849.0  6.234327   \n",
              "...                 ...   ...      ...   ...   ...        ...       ...   \n",
              "235836                4    44     30.0    20  2021  1763939.0  6.298268   \n",
              "235837                2    38     30.0    20  2021  1763788.0  6.217895   \n",
              "235838                4    32     30.0    22  2021  1764135.0  6.234267   \n",
              "235839                4    29     30.0    22  2021  1764135.0  6.234267   \n",
              "235840                1    41     30.0    22  2021  1763968.0  6.272697   \n",
              "\n",
              "         Longitud  Condicion2  Dia2  ...  Edad:Log_Edad  Num_dia:Log_Num_dia  \\\n",
              "0      -75.559099           3     4  ...      48.164627             0.000000   \n",
              "1      -75.553292           3     4  ...      59.914645             0.000000   \n",
              "2      -75.553292           5     4  ...      52.026692             0.000000   \n",
              "3      -75.607611           3     4  ...      55.944341             0.000000   \n",
              "4      -75.607611           5     4  ...     142.878904             0.000000   \n",
              "...           ...         ...   ...  ...            ...                  ...   \n",
              "235836 -75.585992           3     1  ...     166.504344           102.035921   \n",
              "235837 -75.575824           3     1  ...     138.228274           102.035921   \n",
              "235838 -75.536311           3     1  ...     110.903549           102.035921   \n",
              "235839 -75.536311           0     1  ...      97.651579           102.035921   \n",
              "235840 -75.548675           0     1  ...     152.256455           102.035921   \n",
              "\n",
              "        Hora:Log_Hora  Anio:Log_Anio  Radicado:Log_Radicado  \\\n",
              "0                 NaN   15322.266440           2.017572e+07   \n",
              "1                 NaN   15322.266440           2.017543e+07   \n",
              "2                 NaN   15322.266440           2.017543e+07   \n",
              "3                 NaN   15322.266440           2.017434e+07   \n",
              "4                 NaN   15322.266440           2.017434e+07   \n",
              "...               ...            ...                    ...   \n",
              "235836      59.914645   15382.533737           2.537084e+07   \n",
              "235837      59.914645   15382.533737           2.536852e+07   \n",
              "235838      68.002934   15382.533737           2.537386e+07   \n",
              "235839      68.002934   15382.533737           2.537386e+07   \n",
              "235840      68.002934   15382.533737           2.537129e+07   \n",
              "\n",
              "        Latitud:Log_Latitud  Longitud:Log_Longitud  Condicion2:Log_Condicion2  \\\n",
              "0                 11.501569                    NaN                   3.295837   \n",
              "1                 11.565230                    NaN                   3.295837   \n",
              "2                 11.565230                    NaN                   8.047190   \n",
              "3                 11.409260                    NaN                   3.295837   \n",
              "4                 11.409260                    NaN                   8.047190   \n",
              "...                     ...                    ...                        ...   \n",
              "235836            11.590544                    NaN                   3.295837   \n",
              "235837            11.362777                    NaN                   3.295837   \n",
              "235838            11.409089                    NaN                   3.295837   \n",
              "235839            11.409089                    NaN                        NaN   \n",
              "235840            11.517966                    NaN                        NaN   \n",
              "\n",
              "        Dia2:Log_Dia2  Sexo2:Log_Sexo2  \n",
              "0            5.545177              0.0  \n",
              "1            5.545177              0.0  \n",
              "2            5.545177              NaN  \n",
              "3            5.545177              0.0  \n",
              "4            5.545177              0.0  \n",
              "...               ...              ...  \n",
              "235836       0.000000              NaN  \n",
              "235837       0.000000              NaN  \n",
              "235838       0.000000              0.0  \n",
              "235839       0.000000              NaN  \n",
              "235840       0.000000              0.0  \n",
              "\n",
              "[214952 rows x 22 columns]>"
            ]
          },
          "metadata": {},
          "execution_count": 39
        }
      ]
    }
  ],
  "metadata": {
    "kernelspec": {
      "display_name": "Python 3 (ipykernel)",
      "language": "python",
      "name": "python3"
    },
    "language_info": {
      "codemirror_mode": {
        "name": "ipython",
        "version": 3
      },
      "file_extension": ".py",
      "mimetype": "text/x-python",
      "name": "python",
      "nbconvert_exporter": "python",
      "pygments_lexer": "ipython3",
      "version": "3.9.12"
    },
    "colab": {
      "name": "REGRESION_LOGISITCA_ACCIDENTES_VIALES.ipynb",
      "provenance": [],
      "collapsed_sections": [],
      "include_colab_link": true
    }
  },
  "nbformat": 4,
  "nbformat_minor": 0
}