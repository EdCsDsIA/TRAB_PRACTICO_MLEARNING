{
  "cells": [
    {
      "cell_type": "markdown",
      "metadata": {
        "id": "view-in-github",
        "colab_type": "text"
      },
      "source": [
        "<a href=\"https://colab.research.google.com/github/EdCsDsIA/TRAB_PRACTICO_MLEARNING/blob/main/REGRESION_LOGISITCA_ACCIDENTES_VIALES_02.ipynb\" target=\"_parent\"><img src=\"https://colab.research.google.com/assets/colab-badge.svg\" alt=\"Open In Colab\"/></a>"
      ]
    },
    {
      "cell_type": "markdown",
      "source": [
        "TRABAJO PRÁCTICO SOBRE CLUSTERIZACION:\n",
        "\n",
        "GRUPO FORMADO POR:\n",
        "\n",
        "    GIOVINE, CARINA;\n",
        "    HERRERO RIVERO, EDUARDO;\n",
        "    ARÉVALO, IVÁN;\n",
        "    GÓMEZ, OCTAVIO.\n",
        "    \n",
        "\n"
      ],
      "metadata": {
        "id": "5N41lTyct-vq"
      }
    },
    {
      "cell_type": "markdown",
      "metadata": {
        "id": "2l76-7AzDcdF"
      },
      "source": [
        "## Ejemplo en python de segmentación de clientes de un banco, tomando el saldo de su cuenta y cuantas veces utilizó la tarjeta de débito asociada a dicha cuenta:"
      ]
    },
    {
      "cell_type": "code",
      "source": [
        ""
      ],
      "metadata": {
        "id": "kPhUQ2e1DcsY"
      },
      "execution_count": null,
      "outputs": []
    },
    {
      "cell_type": "code",
      "source": [
        "from google.colab import drive\n",
        "drive.mount('/content/drive')"
      ],
      "metadata": {
        "colab": {
          "base_uri": "https://localhost:8080/"
        },
        "id": "zihrLKY-Dd0h",
        "outputId": "9ba795e2-aadb-436a-bc09-dd75a29f99a4"
      },
      "execution_count": 1,
      "outputs": [
        {
          "output_type": "stream",
          "name": "stdout",
          "text": [
            "Mounted at /content/drive\n"
          ]
        }
      ]
    },
    {
      "cell_type": "code",
      "execution_count": 2,
      "metadata": {
        "id": "biSU74UUDcdJ"
      },
      "outputs": [],
      "source": [
        "# Importamos las librerias necesarias\n",
        "import pandas as pd\n",
        "import matplotlib.pyplot as plt\n",
        "from matplotlib import style\n",
        "style.use('ggplot') or plt.style.use('ggplot')\n",
        "from sklearn.preprocessing import MinMaxScaler\n",
        "from sklearn.cluster import KMeans\n",
        "from sklearn.preprocessing import scale\n",
        "from sklearn.metrics import silhouette_score\n",
        "import warnings\n",
        "warnings.filterwarnings('ignore')\n",
        "import numpy as np"
      ]
    },
    {
      "cell_type": "code",
      "execution_count": 3,
      "metadata": {
        "id": "IS3NjP6-DcdN"
      },
      "outputs": [],
      "source": [
        "# Creamnos un dataframe con el saldo de algunas cuentas bancarias y el nro de \n",
        "# operaciones con la tarjeta de débito asociada a cada una de esas cuentas:\n",
        "# clientes = pd.DataFrame({\"saldo\" : [50000, 45000, 48000, 43500, 47000, 52000, \n",
        "#                                     20000, 26000, 25000, 23000, 21400, 18000,\n",
        "#                                     8000, 12000, 6000, 14500, 12600, 7000,\n",
        "#                                     36000, 34500, 31800, 55000, 33200, 56700,\n",
        "#                                     9000, 19600, 10100,5950, 24000,16500],\n",
        "                         \n",
        "#                          \"transacciones\": [25, 20, 16, 23, 25, 18,\n",
        "#                                            23, 22, 24, 21, 27, 18,\n",
        "#                                            8, 3, 6, 4, 9, 23,\n",
        "#                                            20, 11, 7, 18, 20, 17,\n",
        "#                                            19,16,15,21,14,13]})\n",
        "\n",
        "\n",
        "# # KMeans se ve afectado cuando los datos están en escalas diferentes, por lo que\n",
        "# # normalizaremos todos los valores del dataframe a una escala de 0 a 1 y asi evitamos\n",
        "# # introducir un sesgo. De esta forma, conservamos la información, teniendo todos \n",
        "# # los datos en una misma escala:\n",
        "# escalador = MinMaxScaler().fit(clientes.values)\n",
        "\n",
        "# clientes = pd.DataFrame(escalador.transform(clientes.values),\n",
        "#                        columns=[\"saldo\", \"transacciones\"])\n",
        "\n",
        "# # Vemos como quedó el dataframe luego del escalado:\n",
        "# print(\"Así queda el dataframe despues de pasar por el escalador:\\n \")\n",
        "# print(clientes)"
      ]
    },
    {
      "cell_type": "code",
      "source": [
        "# #CODIFICACIÓN DE DATOS CATEGORICOS CATEGORICAS A NUM\n",
        "# from sklearn.preprocessing import LabelEncoder, OneHotEncoder\n",
        "# labelencoder_X_1 = LabelEncoder()\n",
        "# X[:,1] = labelencoder_X_1.fit_transform(X[:,1])\n",
        "\n",
        "# array([[619, 0, 'Female', ..., 1, 1, 101348.88],\n",
        "# [608, 2, 'Female', ..., 0, 1, 112542.58],\n",
        "# [502, 0, 'Female', ..., 1, 0, 113931.57],\n",
        "# ...,\n",
        "# [709, 0, 'Female', ..., 0, 1, 42085.58],\n",
        "# [772, 1, 'Male', ..., 1, 0, 92888.52],\n",
        "# [792, 0, 'Female', ..., 1, 0, 38190.78]], dtype=object)"
      ],
      "metadata": {
        "id": "A3T92MoMtPCc"
      },
      "execution_count": 4,
      "outputs": []
    },
    {
      "cell_type": "code",
      "source": [
        "# LEER CSV\n",
        "accidentes = pd.read_csv('/content/drive/MyDrive/IA_TP/TP_ACCIDENTES_VIALES_MEDELLIN/dfinal3_full_clear.csv')"
      ],
      "metadata": {
        "id": "A6jhFq1IDyAe"
      },
      "execution_count": 3,
      "outputs": []
    },
    {
      "cell_type": "code",
      "source": [
        "grav = accidentes['Gravedad_victima']\n",
        "\n",
        "# Sexo = accidentes['Sexo']"
      ],
      "metadata": {
        "id": "x22WkRs-ENF4"
      },
      "execution_count": 6,
      "outputs": []
    },
    {
      "cell_type": "code",
      "source": [
        "accidentes"
      ],
      "metadata": {
        "colab": {
          "base_uri": "https://localhost:8080/"
        },
        "id": "YmPT0sbnG2yz",
        "outputId": "5d177993-1e53-4f8c-da37-495822e93a61"
      },
      "execution_count": 7,
      "outputs": [
        {
          "output_type": "stream",
          "name": "stdout",
          "text": [
            "<class 'pandas.core.frame.DataFrame'>\n",
            "RangeIndex: 235843 entries, 0 to 235842\n",
            "Data columns (total 22 columns):\n",
            " #   Column               Non-Null Count   Dtype  \n",
            "---  ------               --------------   -----  \n",
            " 0   Gravedad_victima     235843 non-null  int64  \n",
            " 1   Fecha_incidente      235843 non-null  object \n",
            " 2   Hora_incidente       235843 non-null  object \n",
            " 3   Clase_incidente      235843 non-null  int64  \n",
            " 4   Direccion_incidente  235831 non-null  object \n",
            " 5   Sexo                 235843 non-null  object \n",
            " 6   Edad                 235843 non-null  int64  \n",
            " 7   Condicion            235843 non-null  object \n",
            " 8   Mes                  235843 non-null  object \n",
            " 9   Dia                  235843 non-null  object \n",
            " 10  Num_dia              235842 non-null  float64\n",
            " 11  Hora                 235843 non-null  int64  \n",
            " 12  Grupo_edad           235843 non-null  object \n",
            " 13  Anio                 235843 non-null  int64  \n",
            " 14  Radicado             235794 non-null  float64\n",
            " 15  Latitud              214998 non-null  float64\n",
            " 16  Longitud             214998 non-null  float64\n",
            " 17  Comuna               235843 non-null  object \n",
            " 18  Barrio               235225 non-null  object \n",
            " 19  Condicion2           235843 non-null  int64  \n",
            " 20  Dia2                 235843 non-null  int64  \n",
            " 21  Sexo2                235843 non-null  int64  \n",
            "dtypes: float64(4), int64(8), object(10)\n",
            "memory usage: 39.6+ MB\n"
          ]
        }
      ]
    },
    {
      "cell_type": "markdown",
      "source": [
        "Al set de datos lo vamos a preparar distinto.\n",
        "* Vamos a **ELIMINAR** la columna Anio, Radicando, Latitud y Longitud\n",
        "  * **ANIO** = Es una variable incremental y puede confundir al algoritmo. no deberia ser motivo para evaluar\n",
        "  * **Randicando** = Es el aid del accidente no aporta informacion sobre las condiciones de la prediccion.\n",
        "  * **Latitud** y **Longitud**, los valores se diferencian en decimales. Se debe tomar una desicion, Eliminar las columnas, o probar con los decimales. aporta a la gravedad ya que identifican naturalmente una ubicacion geografica. pero rompe los odd\n",
        "* Columna HORA, vamos a **crear una columna categorica nueva MOMENTO_DI**A, donde vamos a determinar, MADRUGADA (00-06), MAÑANA(07-11), MEDIODIA(12-13), SIESTA(14-16), TARDE(17-20), NOCHE(21-23), determinado por las hs.\n",
        "* Columna NUM_DIAS, vamos a **crear una columna categorica nueva SEMANA**, donde vamos a determinar, SEMANA1 (1-7), SEMANA2 (7-14), SEMANA3 (15-21), SEMANA4 (22-31).\n",
        "\n"
      ],
      "metadata": {
        "id": "UlHiFAZ6aDXN"
      }
    },
    {
      "cell_type": "code",
      "source": [
        "# AGREGO LA COLUMNA MOMENTO_DIA\n",
        "conditionlist = [\n",
        "    (accidentes['Hora'] >= 00) & (accidentes['Hora'] < 7),\n",
        "    (accidentes['Hora'] >= 7) & (accidentes['Hora'] < 12),\n",
        "    (accidentes['Hora'] >= 12) & (accidentes['Hora'] < 14),\n",
        "    (accidentes['Hora'] >= 14) & (accidentes['Hora'] < 17),\n",
        "    (accidentes['Hora'] >= 17) & (accidentes['Hora'] < 21),\n",
        "    (accidentes['Hora'] >= 21)]\n",
        "choicelist = ['MADRUGADA', 'MANANA', 'MEDIODIA','SIESTA','TARDE','NOCHE']\n",
        "accidentes['MOMENTO_DIA'] = np.select(conditionlist, choicelist, default='Not Specified')"
      ],
      "metadata": {
        "id": "2onX2jkQbJJ_"
      },
      "execution_count": 4,
      "outputs": []
    },
    {
      "cell_type": "code",
      "source": [
        "# AGREGO LA COLUMNA MOMENTO_DIA\n",
        "conditionlist = [\n",
        "    (accidentes['Num_dia'] >= 1) & (accidentes['Num_dia'] < 8),\n",
        "    (accidentes['Num_dia'] >= 8) & (accidentes['Num_dia'] < 15),\n",
        "    (accidentes['Num_dia'] >= 15) & (accidentes['Num_dia'] < 22),\n",
        "    (accidentes['Num_dia'] >= 22)]\n",
        "choicelist = ['SEMANA1', 'SEMANA2', 'SEMANA3','SEMANA4']\n",
        "accidentes['SEMANA'] = np.select(conditionlist, choicelist, default='Not Specified')"
      ],
      "metadata": {
        "id": "vT9weCOMci0_"
      },
      "execution_count": 6,
      "outputs": []
    },
    {
      "cell_type": "code",
      "source": [
        "# CONVIERTO LA CATEGORICA Condicion\n",
        "\n",
        "from sklearn import preprocessing\n",
        "# instancio la funcion \n",
        "le = preprocessing.LabelEncoder()\n",
        "# unique string\n",
        "le.fit(accidentes['SEMANA'])\n",
        "new_col = le.transform(accidentes['SEMANA'])\n",
        "accidentes=accidentes.assign(Semana_int=new_col)"
      ],
      "metadata": {
        "id": "2RmhglX-d6iF"
      },
      "execution_count": 8,
      "outputs": []
    },
    {
      "cell_type": "code",
      "source": [
        "le = preprocessing.LabelEncoder()\n",
        "# unique string\n",
        "le.fit(accidentes['MOMENTO_DIA'])\n",
        "new_col = le.transform(accidentes['MOMENTO_DIA'])\n",
        "accidentes=accidentes.assign(MOMENTO_DIA_int=new_col)"
      ],
      "metadata": {
        "id": "ITPCVxEFfWsL"
      },
      "execution_count": 10,
      "outputs": []
    },
    {
      "cell_type": "code",
      "source": [
        "accidentes"
      ],
      "metadata": {
        "id": "oYyMFRYufkyW",
        "outputId": "fc106954-5a04-4933-e733-8fa210e8f897",
        "colab": {
          "base_uri": "https://localhost:8080/",
          "height": 678
        }
      },
      "execution_count": 11,
      "outputs": [
        {
          "output_type": "execute_result",
          "data": {
            "text/plain": [
              "        Gravedad_victima Fecha_incidente Hora_incidente  Clase_incidente  \\\n",
              "0                      0      2014-01-01       00:15:00                4   \n",
              "1                      0      2014-01-01       00:30:00                0   \n",
              "2                      0      2014-01-01       00:30:00                0   \n",
              "3                      0      2014-01-01       00:37:00                0   \n",
              "4                      0      2014-01-01       00:37:00                0   \n",
              "...                  ...             ...            ...              ...   \n",
              "235838                 0      2021-09-30       22:00:00                4   \n",
              "235839                 0      2021-09-30       22:00:00                4   \n",
              "235840                 0      2021-09-30       22:00:00                1   \n",
              "235841                 0      2021-09-30       23:00:00                0   \n",
              "235842                 0      2021-09-30       23:00:00                4   \n",
              "\n",
              "       Direccion_incidente Sexo  Edad                    Condicion   Mes  Dia  \\\n",
              "0              CR 49 CL 72    M    17                 Motociclista   Ene  Mie   \n",
              "1              CR 46 CL 98    M    20                 Motociclista   Ene  Mie   \n",
              "2              CR 46 CL 98    F    18                       Peaton   Ene  Mie   \n",
              "3              CL 32 CR 84    M    19                 Motociclista   Ene  Mie   \n",
              "4              CL 32 CR 84    M    39                       Peaton   Ene  Mie   \n",
              "...                    ...  ...   ...                          ...   ...  ...   \n",
              "235838        CL 54 CR 9 A    M    32                 Motociclista  Sept  Jue   \n",
              "235839        CL 54 CR 9 A    F    29  Acompaniante de Motocicleta  Sept  Jue   \n",
              "235840         CL 81 CR 39    M    41  Acompaniante de Motocicleta  Sept  Jue   \n",
              "235841         CR 63 CL 32    F    51                       Peaton  Sept  Jue   \n",
              "235842        CR 107 CL 65    M    23                 Motociclista  Sept  Jue   \n",
              "\n",
              "        ...   Longitud              Comuna                  Barrio  \\\n",
              "0       ... -75.559099       04 - Aranjuez  Manrique Central No. 1   \n",
              "1       ... -75.553292        01 - Popular            MoscÃº No. 2   \n",
              "2       ... -75.553292        01 - Popular            MoscÃº No. 2   \n",
              "3       ... -75.607611         16 - BelÃ©n            Las Mercedes   \n",
              "4       ... -75.607611         16 - BelÃ©n            Las Mercedes   \n",
              "...     ...        ...                 ...                     ...   \n",
              "235838  ... -75.536311  08 - Villa Hermosa           Las Estancias   \n",
              "235839  ... -75.536311  08 - Villa Hermosa           Las Estancias   \n",
              "235840  ... -75.548675       03 - Manrique             Santa InÃ©s   \n",
              "235841  ...        NaN             Sin Inf                     NaN   \n",
              "235842  ...        NaN             Sin Inf                     NaN   \n",
              "\n",
              "        Condicion2  Dia2  Sexo2  MOMENTO_DIA   SEMANA Semana_int  \\\n",
              "0                3     4      1    MADRUGADA  SEMANA1          1   \n",
              "1                3     4      1    MADRUGADA  SEMANA1          1   \n",
              "2                5     4      0    MADRUGADA  SEMANA1          1   \n",
              "3                3     4      1    MADRUGADA  SEMANA1          1   \n",
              "4                5     4      1    MADRUGADA  SEMANA1          1   \n",
              "...            ...   ...    ...          ...      ...        ...   \n",
              "235838           3     1      1        NOCHE  SEMANA4          4   \n",
              "235839           0     1      0        NOCHE  SEMANA4          4   \n",
              "235840           0     1      1        NOCHE  SEMANA4          4   \n",
              "235841           5     1      0        NOCHE  SEMANA4          4   \n",
              "235842           3     1      1        NOCHE  SEMANA4          4   \n",
              "\n",
              "        MOMENTO_DIA_int  \n",
              "0                     0  \n",
              "1                     0  \n",
              "2                     0  \n",
              "3                     0  \n",
              "4                     0  \n",
              "...                 ...  \n",
              "235838                3  \n",
              "235839                3  \n",
              "235840                3  \n",
              "235841                3  \n",
              "235842                3  \n",
              "\n",
              "[235843 rows x 26 columns]"
            ],
            "text/html": [
              "\n",
              "  <div id=\"df-bac7fbf8-d365-476c-b0ee-251ece4da70d\">\n",
              "    <div class=\"colab-df-container\">\n",
              "      <div>\n",
              "<style scoped>\n",
              "    .dataframe tbody tr th:only-of-type {\n",
              "        vertical-align: middle;\n",
              "    }\n",
              "\n",
              "    .dataframe tbody tr th {\n",
              "        vertical-align: top;\n",
              "    }\n",
              "\n",
              "    .dataframe thead th {\n",
              "        text-align: right;\n",
              "    }\n",
              "</style>\n",
              "<table border=\"1\" class=\"dataframe\">\n",
              "  <thead>\n",
              "    <tr style=\"text-align: right;\">\n",
              "      <th></th>\n",
              "      <th>Gravedad_victima</th>\n",
              "      <th>Fecha_incidente</th>\n",
              "      <th>Hora_incidente</th>\n",
              "      <th>Clase_incidente</th>\n",
              "      <th>Direccion_incidente</th>\n",
              "      <th>Sexo</th>\n",
              "      <th>Edad</th>\n",
              "      <th>Condicion</th>\n",
              "      <th>Mes</th>\n",
              "      <th>Dia</th>\n",
              "      <th>...</th>\n",
              "      <th>Longitud</th>\n",
              "      <th>Comuna</th>\n",
              "      <th>Barrio</th>\n",
              "      <th>Condicion2</th>\n",
              "      <th>Dia2</th>\n",
              "      <th>Sexo2</th>\n",
              "      <th>MOMENTO_DIA</th>\n",
              "      <th>SEMANA</th>\n",
              "      <th>Semana_int</th>\n",
              "      <th>MOMENTO_DIA_int</th>\n",
              "    </tr>\n",
              "  </thead>\n",
              "  <tbody>\n",
              "    <tr>\n",
              "      <th>0</th>\n",
              "      <td>0</td>\n",
              "      <td>2014-01-01</td>\n",
              "      <td>00:15:00</td>\n",
              "      <td>4</td>\n",
              "      <td>CR 49 CL 72</td>\n",
              "      <td>M</td>\n",
              "      <td>17</td>\n",
              "      <td>Motociclista</td>\n",
              "      <td>Ene</td>\n",
              "      <td>Mie</td>\n",
              "      <td>...</td>\n",
              "      <td>-75.559099</td>\n",
              "      <td>04 - Aranjuez</td>\n",
              "      <td>Manrique Central No. 1</td>\n",
              "      <td>3</td>\n",
              "      <td>4</td>\n",
              "      <td>1</td>\n",
              "      <td>MADRUGADA</td>\n",
              "      <td>SEMANA1</td>\n",
              "      <td>1</td>\n",
              "      <td>0</td>\n",
              "    </tr>\n",
              "    <tr>\n",
              "      <th>1</th>\n",
              "      <td>0</td>\n",
              "      <td>2014-01-01</td>\n",
              "      <td>00:30:00</td>\n",
              "      <td>0</td>\n",
              "      <td>CR 46 CL 98</td>\n",
              "      <td>M</td>\n",
              "      <td>20</td>\n",
              "      <td>Motociclista</td>\n",
              "      <td>Ene</td>\n",
              "      <td>Mie</td>\n",
              "      <td>...</td>\n",
              "      <td>-75.553292</td>\n",
              "      <td>01 - Popular</td>\n",
              "      <td>MoscÃº No. 2</td>\n",
              "      <td>3</td>\n",
              "      <td>4</td>\n",
              "      <td>1</td>\n",
              "      <td>MADRUGADA</td>\n",
              "      <td>SEMANA1</td>\n",
              "      <td>1</td>\n",
              "      <td>0</td>\n",
              "    </tr>\n",
              "    <tr>\n",
              "      <th>2</th>\n",
              "      <td>0</td>\n",
              "      <td>2014-01-01</td>\n",
              "      <td>00:30:00</td>\n",
              "      <td>0</td>\n",
              "      <td>CR 46 CL 98</td>\n",
              "      <td>F</td>\n",
              "      <td>18</td>\n",
              "      <td>Peaton</td>\n",
              "      <td>Ene</td>\n",
              "      <td>Mie</td>\n",
              "      <td>...</td>\n",
              "      <td>-75.553292</td>\n",
              "      <td>01 - Popular</td>\n",
              "      <td>MoscÃº No. 2</td>\n",
              "      <td>5</td>\n",
              "      <td>4</td>\n",
              "      <td>0</td>\n",
              "      <td>MADRUGADA</td>\n",
              "      <td>SEMANA1</td>\n",
              "      <td>1</td>\n",
              "      <td>0</td>\n",
              "    </tr>\n",
              "    <tr>\n",
              "      <th>3</th>\n",
              "      <td>0</td>\n",
              "      <td>2014-01-01</td>\n",
              "      <td>00:37:00</td>\n",
              "      <td>0</td>\n",
              "      <td>CL 32 CR 84</td>\n",
              "      <td>M</td>\n",
              "      <td>19</td>\n",
              "      <td>Motociclista</td>\n",
              "      <td>Ene</td>\n",
              "      <td>Mie</td>\n",
              "      <td>...</td>\n",
              "      <td>-75.607611</td>\n",
              "      <td>16 - BelÃ©n</td>\n",
              "      <td>Las Mercedes</td>\n",
              "      <td>3</td>\n",
              "      <td>4</td>\n",
              "      <td>1</td>\n",
              "      <td>MADRUGADA</td>\n",
              "      <td>SEMANA1</td>\n",
              "      <td>1</td>\n",
              "      <td>0</td>\n",
              "    </tr>\n",
              "    <tr>\n",
              "      <th>4</th>\n",
              "      <td>0</td>\n",
              "      <td>2014-01-01</td>\n",
              "      <td>00:37:00</td>\n",
              "      <td>0</td>\n",
              "      <td>CL 32 CR 84</td>\n",
              "      <td>M</td>\n",
              "      <td>39</td>\n",
              "      <td>Peaton</td>\n",
              "      <td>Ene</td>\n",
              "      <td>Mie</td>\n",
              "      <td>...</td>\n",
              "      <td>-75.607611</td>\n",
              "      <td>16 - BelÃ©n</td>\n",
              "      <td>Las Mercedes</td>\n",
              "      <td>5</td>\n",
              "      <td>4</td>\n",
              "      <td>1</td>\n",
              "      <td>MADRUGADA</td>\n",
              "      <td>SEMANA1</td>\n",
              "      <td>1</td>\n",
              "      <td>0</td>\n",
              "    </tr>\n",
              "    <tr>\n",
              "      <th>...</th>\n",
              "      <td>...</td>\n",
              "      <td>...</td>\n",
              "      <td>...</td>\n",
              "      <td>...</td>\n",
              "      <td>...</td>\n",
              "      <td>...</td>\n",
              "      <td>...</td>\n",
              "      <td>...</td>\n",
              "      <td>...</td>\n",
              "      <td>...</td>\n",
              "      <td>...</td>\n",
              "      <td>...</td>\n",
              "      <td>...</td>\n",
              "      <td>...</td>\n",
              "      <td>...</td>\n",
              "      <td>...</td>\n",
              "      <td>...</td>\n",
              "      <td>...</td>\n",
              "      <td>...</td>\n",
              "      <td>...</td>\n",
              "      <td>...</td>\n",
              "    </tr>\n",
              "    <tr>\n",
              "      <th>235838</th>\n",
              "      <td>0</td>\n",
              "      <td>2021-09-30</td>\n",
              "      <td>22:00:00</td>\n",
              "      <td>4</td>\n",
              "      <td>CL 54 CR 9 A</td>\n",
              "      <td>M</td>\n",
              "      <td>32</td>\n",
              "      <td>Motociclista</td>\n",
              "      <td>Sept</td>\n",
              "      <td>Jue</td>\n",
              "      <td>...</td>\n",
              "      <td>-75.536311</td>\n",
              "      <td>08 - Villa Hermosa</td>\n",
              "      <td>Las Estancias</td>\n",
              "      <td>3</td>\n",
              "      <td>1</td>\n",
              "      <td>1</td>\n",
              "      <td>NOCHE</td>\n",
              "      <td>SEMANA4</td>\n",
              "      <td>4</td>\n",
              "      <td>3</td>\n",
              "    </tr>\n",
              "    <tr>\n",
              "      <th>235839</th>\n",
              "      <td>0</td>\n",
              "      <td>2021-09-30</td>\n",
              "      <td>22:00:00</td>\n",
              "      <td>4</td>\n",
              "      <td>CL 54 CR 9 A</td>\n",
              "      <td>F</td>\n",
              "      <td>29</td>\n",
              "      <td>Acompaniante de Motocicleta</td>\n",
              "      <td>Sept</td>\n",
              "      <td>Jue</td>\n",
              "      <td>...</td>\n",
              "      <td>-75.536311</td>\n",
              "      <td>08 - Villa Hermosa</td>\n",
              "      <td>Las Estancias</td>\n",
              "      <td>0</td>\n",
              "      <td>1</td>\n",
              "      <td>0</td>\n",
              "      <td>NOCHE</td>\n",
              "      <td>SEMANA4</td>\n",
              "      <td>4</td>\n",
              "      <td>3</td>\n",
              "    </tr>\n",
              "    <tr>\n",
              "      <th>235840</th>\n",
              "      <td>0</td>\n",
              "      <td>2021-09-30</td>\n",
              "      <td>22:00:00</td>\n",
              "      <td>1</td>\n",
              "      <td>CL 81 CR 39</td>\n",
              "      <td>M</td>\n",
              "      <td>41</td>\n",
              "      <td>Acompaniante de Motocicleta</td>\n",
              "      <td>Sept</td>\n",
              "      <td>Jue</td>\n",
              "      <td>...</td>\n",
              "      <td>-75.548675</td>\n",
              "      <td>03 - Manrique</td>\n",
              "      <td>Santa InÃ©s</td>\n",
              "      <td>0</td>\n",
              "      <td>1</td>\n",
              "      <td>1</td>\n",
              "      <td>NOCHE</td>\n",
              "      <td>SEMANA4</td>\n",
              "      <td>4</td>\n",
              "      <td>3</td>\n",
              "    </tr>\n",
              "    <tr>\n",
              "      <th>235841</th>\n",
              "      <td>0</td>\n",
              "      <td>2021-09-30</td>\n",
              "      <td>23:00:00</td>\n",
              "      <td>0</td>\n",
              "      <td>CR 63 CL 32</td>\n",
              "      <td>F</td>\n",
              "      <td>51</td>\n",
              "      <td>Peaton</td>\n",
              "      <td>Sept</td>\n",
              "      <td>Jue</td>\n",
              "      <td>...</td>\n",
              "      <td>NaN</td>\n",
              "      <td>Sin Inf</td>\n",
              "      <td>NaN</td>\n",
              "      <td>5</td>\n",
              "      <td>1</td>\n",
              "      <td>0</td>\n",
              "      <td>NOCHE</td>\n",
              "      <td>SEMANA4</td>\n",
              "      <td>4</td>\n",
              "      <td>3</td>\n",
              "    </tr>\n",
              "    <tr>\n",
              "      <th>235842</th>\n",
              "      <td>0</td>\n",
              "      <td>2021-09-30</td>\n",
              "      <td>23:00:00</td>\n",
              "      <td>4</td>\n",
              "      <td>CR 107 CL 65</td>\n",
              "      <td>M</td>\n",
              "      <td>23</td>\n",
              "      <td>Motociclista</td>\n",
              "      <td>Sept</td>\n",
              "      <td>Jue</td>\n",
              "      <td>...</td>\n",
              "      <td>NaN</td>\n",
              "      <td>Sin Inf</td>\n",
              "      <td>NaN</td>\n",
              "      <td>3</td>\n",
              "      <td>1</td>\n",
              "      <td>1</td>\n",
              "      <td>NOCHE</td>\n",
              "      <td>SEMANA4</td>\n",
              "      <td>4</td>\n",
              "      <td>3</td>\n",
              "    </tr>\n",
              "  </tbody>\n",
              "</table>\n",
              "<p>235843 rows × 26 columns</p>\n",
              "</div>\n",
              "      <button class=\"colab-df-convert\" onclick=\"convertToInteractive('df-bac7fbf8-d365-476c-b0ee-251ece4da70d')\"\n",
              "              title=\"Convert this dataframe to an interactive table.\"\n",
              "              style=\"display:none;\">\n",
              "        \n",
              "  <svg xmlns=\"http://www.w3.org/2000/svg\" height=\"24px\"viewBox=\"0 0 24 24\"\n",
              "       width=\"24px\">\n",
              "    <path d=\"M0 0h24v24H0V0z\" fill=\"none\"/>\n",
              "    <path d=\"M18.56 5.44l.94 2.06.94-2.06 2.06-.94-2.06-.94-.94-2.06-.94 2.06-2.06.94zm-11 1L8.5 8.5l.94-2.06 2.06-.94-2.06-.94L8.5 2.5l-.94 2.06-2.06.94zm10 10l.94 2.06.94-2.06 2.06-.94-2.06-.94-.94-2.06-.94 2.06-2.06.94z\"/><path d=\"M17.41 7.96l-1.37-1.37c-.4-.4-.92-.59-1.43-.59-.52 0-1.04.2-1.43.59L10.3 9.45l-7.72 7.72c-.78.78-.78 2.05 0 2.83L4 21.41c.39.39.9.59 1.41.59.51 0 1.02-.2 1.41-.59l7.78-7.78 2.81-2.81c.8-.78.8-2.07 0-2.86zM5.41 20L4 18.59l7.72-7.72 1.47 1.35L5.41 20z\"/>\n",
              "  </svg>\n",
              "      </button>\n",
              "      \n",
              "  <style>\n",
              "    .colab-df-container {\n",
              "      display:flex;\n",
              "      flex-wrap:wrap;\n",
              "      gap: 12px;\n",
              "    }\n",
              "\n",
              "    .colab-df-convert {\n",
              "      background-color: #E8F0FE;\n",
              "      border: none;\n",
              "      border-radius: 50%;\n",
              "      cursor: pointer;\n",
              "      display: none;\n",
              "      fill: #1967D2;\n",
              "      height: 32px;\n",
              "      padding: 0 0 0 0;\n",
              "      width: 32px;\n",
              "    }\n",
              "\n",
              "    .colab-df-convert:hover {\n",
              "      background-color: #E2EBFA;\n",
              "      box-shadow: 0px 1px 2px rgba(60, 64, 67, 0.3), 0px 1px 3px 1px rgba(60, 64, 67, 0.15);\n",
              "      fill: #174EA6;\n",
              "    }\n",
              "\n",
              "    [theme=dark] .colab-df-convert {\n",
              "      background-color: #3B4455;\n",
              "      fill: #D2E3FC;\n",
              "    }\n",
              "\n",
              "    [theme=dark] .colab-df-convert:hover {\n",
              "      background-color: #434B5C;\n",
              "      box-shadow: 0px 1px 3px 1px rgba(0, 0, 0, 0.15);\n",
              "      filter: drop-shadow(0px 1px 2px rgba(0, 0, 0, 0.3));\n",
              "      fill: #FFFFFF;\n",
              "    }\n",
              "  </style>\n",
              "\n",
              "      <script>\n",
              "        const buttonEl =\n",
              "          document.querySelector('#df-bac7fbf8-d365-476c-b0ee-251ece4da70d button.colab-df-convert');\n",
              "        buttonEl.style.display =\n",
              "          google.colab.kernel.accessAllowed ? 'block' : 'none';\n",
              "\n",
              "        async function convertToInteractive(key) {\n",
              "          const element = document.querySelector('#df-bac7fbf8-d365-476c-b0ee-251ece4da70d');\n",
              "          const dataTable =\n",
              "            await google.colab.kernel.invokeFunction('convertToInteractive',\n",
              "                                                     [key], {});\n",
              "          if (!dataTable) return;\n",
              "\n",
              "          const docLinkHtml = 'Like what you see? Visit the ' +\n",
              "            '<a target=\"_blank\" href=https://colab.research.google.com/notebooks/data_table.ipynb>data table notebook</a>'\n",
              "            + ' to learn more about interactive tables.';\n",
              "          element.innerHTML = '';\n",
              "          dataTable['output_type'] = 'display_data';\n",
              "          await google.colab.output.renderOutput(dataTable, element);\n",
              "          const docLink = document.createElement('div');\n",
              "          docLink.innerHTML = docLinkHtml;\n",
              "          element.appendChild(docLink);\n",
              "        }\n",
              "      </script>\n",
              "    </div>\n",
              "  </div>\n",
              "  "
            ]
          },
          "metadata": {},
          "execution_count": 11
        }
      ]
    },
    {
      "cell_type": "code",
      "source": [
        "# df3 = accidentes[['Gravedad_victima','Sexo','Edad']]\n",
        "# df[['Latitud', 'Longitud']]\n",
        "import numpy as np\n",
        "# CREA UN DF CON SOLO LOS DATOS np.number (numeros)\n",
        "df_number = accidentes.select_dtypes(include=[np.number])\n",
        "# CREA UN DF CON SOLO LOS DATOS objet (strings)\n",
        "df_object = accidentes.select_dtypes(include=[object])"
      ],
      "metadata": {
        "id": "WIXboJAVE2-e"
      },
      "execution_count": 12,
      "outputs": []
    },
    {
      "cell_type": "code",
      "source": [
        "# GUARDO LOS DF para trabajarlos a posteriori\n",
        "df_number.to_csv('/content/drive/MyDrive/IA_TP/TP_ACCIDENTES_VIALES_MEDELLIN/df_number.csv')\n",
        "df_object.to_csv('/content/drive/MyDrive/IA_TP/TP_ACCIDENTES_VIALES_MEDELLIN/df_object.csv')"
      ],
      "metadata": {
        "id": "-k-A4x_zHf4A"
      },
      "execution_count": 17,
      "outputs": []
    },
    {
      "cell_type": "code",
      "source": [
        "df_number"
      ],
      "metadata": {
        "id": "msOPenhmmQn6",
        "outputId": "e80eee4c-480b-4468-bc05-acc8724c8603",
        "colab": {
          "base_uri": "https://localhost:8080/",
          "height": 423
        }
      },
      "execution_count": 18,
      "outputs": [
        {
          "output_type": "execute_result",
          "data": {
            "text/plain": [
              "        Gravedad_victima  Clase_incidente  Edad  Num_dia  Hora  Anio  \\\n",
              "0                      0                4    17      1.0     0  2014   \n",
              "1                      0                0    20      1.0     0  2014   \n",
              "2                      0                0    18      1.0     0  2014   \n",
              "3                      0                0    19      1.0     0  2014   \n",
              "4                      0                0    39      1.0     0  2014   \n",
              "...                  ...              ...   ...      ...   ...   ...   \n",
              "235838                 0                4    32     30.0    22  2021   \n",
              "235839                 0                4    29     30.0    22  2021   \n",
              "235840                 0                1    41     30.0    22  2021   \n",
              "235841                 0                0    51     30.0    23  2021   \n",
              "235842                 0                4    23     30.0    23  2021   \n",
              "\n",
              "         Radicado   Latitud   Longitud  Condicion2  Dia2  Sexo2  Semana_int  \\\n",
              "0       1423940.0  6.266915 -75.559099           3     4      1           1   \n",
              "1       1423921.0  6.289353 -75.553292           3     4      1           1   \n",
              "2       1423921.0  6.289353 -75.553292           5     4      0           1   \n",
              "3       1423849.0  6.234327 -75.607611           3     4      1           1   \n",
              "4       1423849.0  6.234327 -75.607611           5     4      1           1   \n",
              "...           ...       ...        ...         ...   ...    ...         ...   \n",
              "235838  1764135.0  6.234267 -75.536311           3     1      1           4   \n",
              "235839  1764135.0  6.234267 -75.536311           0     1      0           4   \n",
              "235840  1763968.0  6.272697 -75.548675           0     1      1           4   \n",
              "235841  1764133.0       NaN        NaN           5     1      0           4   \n",
              "235842  1763946.0       NaN        NaN           3     1      1           4   \n",
              "\n",
              "        MOMENTO_DIA_int  \n",
              "0                     0  \n",
              "1                     0  \n",
              "2                     0  \n",
              "3                     0  \n",
              "4                     0  \n",
              "...                 ...  \n",
              "235838                3  \n",
              "235839                3  \n",
              "235840                3  \n",
              "235841                3  \n",
              "235842                3  \n",
              "\n",
              "[235843 rows x 14 columns]"
            ],
            "text/html": [
              "\n",
              "  <div id=\"df-8732eb82-b57d-4346-937e-0fce496a3b25\">\n",
              "    <div class=\"colab-df-container\">\n",
              "      <div>\n",
              "<style scoped>\n",
              "    .dataframe tbody tr th:only-of-type {\n",
              "        vertical-align: middle;\n",
              "    }\n",
              "\n",
              "    .dataframe tbody tr th {\n",
              "        vertical-align: top;\n",
              "    }\n",
              "\n",
              "    .dataframe thead th {\n",
              "        text-align: right;\n",
              "    }\n",
              "</style>\n",
              "<table border=\"1\" class=\"dataframe\">\n",
              "  <thead>\n",
              "    <tr style=\"text-align: right;\">\n",
              "      <th></th>\n",
              "      <th>Gravedad_victima</th>\n",
              "      <th>Clase_incidente</th>\n",
              "      <th>Edad</th>\n",
              "      <th>Num_dia</th>\n",
              "      <th>Hora</th>\n",
              "      <th>Anio</th>\n",
              "      <th>Radicado</th>\n",
              "      <th>Latitud</th>\n",
              "      <th>Longitud</th>\n",
              "      <th>Condicion2</th>\n",
              "      <th>Dia2</th>\n",
              "      <th>Sexo2</th>\n",
              "      <th>Semana_int</th>\n",
              "      <th>MOMENTO_DIA_int</th>\n",
              "    </tr>\n",
              "  </thead>\n",
              "  <tbody>\n",
              "    <tr>\n",
              "      <th>0</th>\n",
              "      <td>0</td>\n",
              "      <td>4</td>\n",
              "      <td>17</td>\n",
              "      <td>1.0</td>\n",
              "      <td>0</td>\n",
              "      <td>2014</td>\n",
              "      <td>1423940.0</td>\n",
              "      <td>6.266915</td>\n",
              "      <td>-75.559099</td>\n",
              "      <td>3</td>\n",
              "      <td>4</td>\n",
              "      <td>1</td>\n",
              "      <td>1</td>\n",
              "      <td>0</td>\n",
              "    </tr>\n",
              "    <tr>\n",
              "      <th>1</th>\n",
              "      <td>0</td>\n",
              "      <td>0</td>\n",
              "      <td>20</td>\n",
              "      <td>1.0</td>\n",
              "      <td>0</td>\n",
              "      <td>2014</td>\n",
              "      <td>1423921.0</td>\n",
              "      <td>6.289353</td>\n",
              "      <td>-75.553292</td>\n",
              "      <td>3</td>\n",
              "      <td>4</td>\n",
              "      <td>1</td>\n",
              "      <td>1</td>\n",
              "      <td>0</td>\n",
              "    </tr>\n",
              "    <tr>\n",
              "      <th>2</th>\n",
              "      <td>0</td>\n",
              "      <td>0</td>\n",
              "      <td>18</td>\n",
              "      <td>1.0</td>\n",
              "      <td>0</td>\n",
              "      <td>2014</td>\n",
              "      <td>1423921.0</td>\n",
              "      <td>6.289353</td>\n",
              "      <td>-75.553292</td>\n",
              "      <td>5</td>\n",
              "      <td>4</td>\n",
              "      <td>0</td>\n",
              "      <td>1</td>\n",
              "      <td>0</td>\n",
              "    </tr>\n",
              "    <tr>\n",
              "      <th>3</th>\n",
              "      <td>0</td>\n",
              "      <td>0</td>\n",
              "      <td>19</td>\n",
              "      <td>1.0</td>\n",
              "      <td>0</td>\n",
              "      <td>2014</td>\n",
              "      <td>1423849.0</td>\n",
              "      <td>6.234327</td>\n",
              "      <td>-75.607611</td>\n",
              "      <td>3</td>\n",
              "      <td>4</td>\n",
              "      <td>1</td>\n",
              "      <td>1</td>\n",
              "      <td>0</td>\n",
              "    </tr>\n",
              "    <tr>\n",
              "      <th>4</th>\n",
              "      <td>0</td>\n",
              "      <td>0</td>\n",
              "      <td>39</td>\n",
              "      <td>1.0</td>\n",
              "      <td>0</td>\n",
              "      <td>2014</td>\n",
              "      <td>1423849.0</td>\n",
              "      <td>6.234327</td>\n",
              "      <td>-75.607611</td>\n",
              "      <td>5</td>\n",
              "      <td>4</td>\n",
              "      <td>1</td>\n",
              "      <td>1</td>\n",
              "      <td>0</td>\n",
              "    </tr>\n",
              "    <tr>\n",
              "      <th>...</th>\n",
              "      <td>...</td>\n",
              "      <td>...</td>\n",
              "      <td>...</td>\n",
              "      <td>...</td>\n",
              "      <td>...</td>\n",
              "      <td>...</td>\n",
              "      <td>...</td>\n",
              "      <td>...</td>\n",
              "      <td>...</td>\n",
              "      <td>...</td>\n",
              "      <td>...</td>\n",
              "      <td>...</td>\n",
              "      <td>...</td>\n",
              "      <td>...</td>\n",
              "    </tr>\n",
              "    <tr>\n",
              "      <th>235838</th>\n",
              "      <td>0</td>\n",
              "      <td>4</td>\n",
              "      <td>32</td>\n",
              "      <td>30.0</td>\n",
              "      <td>22</td>\n",
              "      <td>2021</td>\n",
              "      <td>1764135.0</td>\n",
              "      <td>6.234267</td>\n",
              "      <td>-75.536311</td>\n",
              "      <td>3</td>\n",
              "      <td>1</td>\n",
              "      <td>1</td>\n",
              "      <td>4</td>\n",
              "      <td>3</td>\n",
              "    </tr>\n",
              "    <tr>\n",
              "      <th>235839</th>\n",
              "      <td>0</td>\n",
              "      <td>4</td>\n",
              "      <td>29</td>\n",
              "      <td>30.0</td>\n",
              "      <td>22</td>\n",
              "      <td>2021</td>\n",
              "      <td>1764135.0</td>\n",
              "      <td>6.234267</td>\n",
              "      <td>-75.536311</td>\n",
              "      <td>0</td>\n",
              "      <td>1</td>\n",
              "      <td>0</td>\n",
              "      <td>4</td>\n",
              "      <td>3</td>\n",
              "    </tr>\n",
              "    <tr>\n",
              "      <th>235840</th>\n",
              "      <td>0</td>\n",
              "      <td>1</td>\n",
              "      <td>41</td>\n",
              "      <td>30.0</td>\n",
              "      <td>22</td>\n",
              "      <td>2021</td>\n",
              "      <td>1763968.0</td>\n",
              "      <td>6.272697</td>\n",
              "      <td>-75.548675</td>\n",
              "      <td>0</td>\n",
              "      <td>1</td>\n",
              "      <td>1</td>\n",
              "      <td>4</td>\n",
              "      <td>3</td>\n",
              "    </tr>\n",
              "    <tr>\n",
              "      <th>235841</th>\n",
              "      <td>0</td>\n",
              "      <td>0</td>\n",
              "      <td>51</td>\n",
              "      <td>30.0</td>\n",
              "      <td>23</td>\n",
              "      <td>2021</td>\n",
              "      <td>1764133.0</td>\n",
              "      <td>NaN</td>\n",
              "      <td>NaN</td>\n",
              "      <td>5</td>\n",
              "      <td>1</td>\n",
              "      <td>0</td>\n",
              "      <td>4</td>\n",
              "      <td>3</td>\n",
              "    </tr>\n",
              "    <tr>\n",
              "      <th>235842</th>\n",
              "      <td>0</td>\n",
              "      <td>4</td>\n",
              "      <td>23</td>\n",
              "      <td>30.0</td>\n",
              "      <td>23</td>\n",
              "      <td>2021</td>\n",
              "      <td>1763946.0</td>\n",
              "      <td>NaN</td>\n",
              "      <td>NaN</td>\n",
              "      <td>3</td>\n",
              "      <td>1</td>\n",
              "      <td>1</td>\n",
              "      <td>4</td>\n",
              "      <td>3</td>\n",
              "    </tr>\n",
              "  </tbody>\n",
              "</table>\n",
              "<p>235843 rows × 14 columns</p>\n",
              "</div>\n",
              "      <button class=\"colab-df-convert\" onclick=\"convertToInteractive('df-8732eb82-b57d-4346-937e-0fce496a3b25')\"\n",
              "              title=\"Convert this dataframe to an interactive table.\"\n",
              "              style=\"display:none;\">\n",
              "        \n",
              "  <svg xmlns=\"http://www.w3.org/2000/svg\" height=\"24px\"viewBox=\"0 0 24 24\"\n",
              "       width=\"24px\">\n",
              "    <path d=\"M0 0h24v24H0V0z\" fill=\"none\"/>\n",
              "    <path d=\"M18.56 5.44l.94 2.06.94-2.06 2.06-.94-2.06-.94-.94-2.06-.94 2.06-2.06.94zm-11 1L8.5 8.5l.94-2.06 2.06-.94-2.06-.94L8.5 2.5l-.94 2.06-2.06.94zm10 10l.94 2.06.94-2.06 2.06-.94-2.06-.94-.94-2.06-.94 2.06-2.06.94z\"/><path d=\"M17.41 7.96l-1.37-1.37c-.4-.4-.92-.59-1.43-.59-.52 0-1.04.2-1.43.59L10.3 9.45l-7.72 7.72c-.78.78-.78 2.05 0 2.83L4 21.41c.39.39.9.59 1.41.59.51 0 1.02-.2 1.41-.59l7.78-7.78 2.81-2.81c.8-.78.8-2.07 0-2.86zM5.41 20L4 18.59l7.72-7.72 1.47 1.35L5.41 20z\"/>\n",
              "  </svg>\n",
              "      </button>\n",
              "      \n",
              "  <style>\n",
              "    .colab-df-container {\n",
              "      display:flex;\n",
              "      flex-wrap:wrap;\n",
              "      gap: 12px;\n",
              "    }\n",
              "\n",
              "    .colab-df-convert {\n",
              "      background-color: #E8F0FE;\n",
              "      border: none;\n",
              "      border-radius: 50%;\n",
              "      cursor: pointer;\n",
              "      display: none;\n",
              "      fill: #1967D2;\n",
              "      height: 32px;\n",
              "      padding: 0 0 0 0;\n",
              "      width: 32px;\n",
              "    }\n",
              "\n",
              "    .colab-df-convert:hover {\n",
              "      background-color: #E2EBFA;\n",
              "      box-shadow: 0px 1px 2px rgba(60, 64, 67, 0.3), 0px 1px 3px 1px rgba(60, 64, 67, 0.15);\n",
              "      fill: #174EA6;\n",
              "    }\n",
              "\n",
              "    [theme=dark] .colab-df-convert {\n",
              "      background-color: #3B4455;\n",
              "      fill: #D2E3FC;\n",
              "    }\n",
              "\n",
              "    [theme=dark] .colab-df-convert:hover {\n",
              "      background-color: #434B5C;\n",
              "      box-shadow: 0px 1px 3px 1px rgba(0, 0, 0, 0.15);\n",
              "      filter: drop-shadow(0px 1px 2px rgba(0, 0, 0, 0.3));\n",
              "      fill: #FFFFFF;\n",
              "    }\n",
              "  </style>\n",
              "\n",
              "      <script>\n",
              "        const buttonEl =\n",
              "          document.querySelector('#df-8732eb82-b57d-4346-937e-0fce496a3b25 button.colab-df-convert');\n",
              "        buttonEl.style.display =\n",
              "          google.colab.kernel.accessAllowed ? 'block' : 'none';\n",
              "\n",
              "        async function convertToInteractive(key) {\n",
              "          const element = document.querySelector('#df-8732eb82-b57d-4346-937e-0fce496a3b25');\n",
              "          const dataTable =\n",
              "            await google.colab.kernel.invokeFunction('convertToInteractive',\n",
              "                                                     [key], {});\n",
              "          if (!dataTable) return;\n",
              "\n",
              "          const docLinkHtml = 'Like what you see? Visit the ' +\n",
              "            '<a target=\"_blank\" href=https://colab.research.google.com/notebooks/data_table.ipynb>data table notebook</a>'\n",
              "            + ' to learn more about interactive tables.';\n",
              "          element.innerHTML = '';\n",
              "          dataTable['output_type'] = 'display_data';\n",
              "          await google.colab.output.renderOutput(dataTable, element);\n",
              "          const docLink = document.createElement('div');\n",
              "          docLink.innerHTML = docLinkHtml;\n",
              "          element.appendChild(docLink);\n",
              "        }\n",
              "      </script>\n",
              "    </div>\n",
              "  </div>\n",
              "  "
            ]
          },
          "metadata": {},
          "execution_count": 18
        }
      ]
    },
    {
      "cell_type": "code",
      "source": [
        "# BUSCO LAS COLUMNAS CON NAN\n",
        "df_number.isnull().sum()"
      ],
      "metadata": {
        "id": "cgEuDecpnv35",
        "outputId": "44d55ed4-854f-4429-a9ff-d9c98f0b891e",
        "colab": {
          "base_uri": "https://localhost:8080/"
        }
      },
      "execution_count": 19,
      "outputs": [
        {
          "output_type": "execute_result",
          "data": {
            "text/plain": [
              "Gravedad_victima        0\n",
              "Clase_incidente         0\n",
              "Edad                    0\n",
              "Num_dia                 1\n",
              "Hora                    0\n",
              "Anio                    0\n",
              "Radicado               49\n",
              "Latitud             20845\n",
              "Longitud            20845\n",
              "Condicion2              0\n",
              "Dia2                    0\n",
              "Sexo2                   0\n",
              "Semana_int              0\n",
              "MOMENTO_DIA_int         0\n",
              "dtype: int64"
            ]
          },
          "metadata": {},
          "execution_count": 19
        }
      ]
    },
    {
      "cell_type": "code",
      "source": [
        "# df_number = pd.read_csv('/content/drive/MyDrive/IA_TP/TP_ACCIDENTES_VIALES_MEDELLIN/df_number.csv')\n",
        "# ELIMINO TODAS LAS FILAS NAN\n",
        "df_number_no_nan = df_number.dropna()"
      ],
      "metadata": {
        "id": "oywiVcUmou1v"
      },
      "execution_count": 20,
      "outputs": []
    },
    {
      "cell_type": "code",
      "source": [
        "# df_number_no_nan2 = np.all(np.isfinite(df_number_no_nan2))"
      ],
      "metadata": {
        "id": "bWbbC_2Iq0qt"
      },
      "execution_count": 13,
      "outputs": []
    },
    {
      "cell_type": "code",
      "source": [
        "# df_number_no_nan.isnull().sum()\n",
        "df_number_no_nan_2 = df_number_no_nan.drop(['Anio','Radicado','Latitud','Longitud' ], axis=1)"
      ],
      "metadata": {
        "id": "clMwFCNUo623"
      },
      "execution_count": 22,
      "outputs": []
    },
    {
      "cell_type": "code",
      "source": [
        "df_number_no_nan_2.to_csv('/content/drive/MyDrive/IA_TP/TP_ACCIDENTES_VIALES_MEDELLIN/df_number_no_nan_2.csv')\n",
        "df_number_no_nan_2"
      ],
      "metadata": {
        "id": "0vVShsyXLGS1",
        "colab": {
          "base_uri": "https://localhost:8080/",
          "height": 423
        },
        "outputId": "eaa8b7fd-168c-4a5a-f921-5a24c97bb89a"
      },
      "execution_count": 24,
      "outputs": [
        {
          "output_type": "execute_result",
          "data": {
            "text/plain": [
              "        Gravedad_victima  Clase_incidente  Edad  Num_dia  Hora  Condicion2  \\\n",
              "0                      0                4    17      1.0     0           3   \n",
              "1                      0                0    20      1.0     0           3   \n",
              "2                      0                0    18      1.0     0           5   \n",
              "3                      0                0    19      1.0     0           3   \n",
              "4                      0                0    39      1.0     0           5   \n",
              "...                  ...              ...   ...      ...   ...         ...   \n",
              "235836                 0                4    44     30.0    20           3   \n",
              "235837                 0                2    38     30.0    20           3   \n",
              "235838                 0                4    32     30.0    22           3   \n",
              "235839                 0                4    29     30.0    22           0   \n",
              "235840                 0                1    41     30.0    22           0   \n",
              "\n",
              "        Dia2  Sexo2  Semana_int  MOMENTO_DIA_int  \n",
              "0          4      1           1                0  \n",
              "1          4      1           1                0  \n",
              "2          4      0           1                0  \n",
              "3          4      1           1                0  \n",
              "4          4      1           1                0  \n",
              "...      ...    ...         ...              ...  \n",
              "235836     1      0           4                5  \n",
              "235837     1      0           4                5  \n",
              "235838     1      1           4                3  \n",
              "235839     1      0           4                3  \n",
              "235840     1      1           4                3  \n",
              "\n",
              "[214952 rows x 10 columns]"
            ],
            "text/html": [
              "\n",
              "  <div id=\"df-6859405b-9ee3-4e1a-98e2-5eba5e3b7e4b\">\n",
              "    <div class=\"colab-df-container\">\n",
              "      <div>\n",
              "<style scoped>\n",
              "    .dataframe tbody tr th:only-of-type {\n",
              "        vertical-align: middle;\n",
              "    }\n",
              "\n",
              "    .dataframe tbody tr th {\n",
              "        vertical-align: top;\n",
              "    }\n",
              "\n",
              "    .dataframe thead th {\n",
              "        text-align: right;\n",
              "    }\n",
              "</style>\n",
              "<table border=\"1\" class=\"dataframe\">\n",
              "  <thead>\n",
              "    <tr style=\"text-align: right;\">\n",
              "      <th></th>\n",
              "      <th>Gravedad_victima</th>\n",
              "      <th>Clase_incidente</th>\n",
              "      <th>Edad</th>\n",
              "      <th>Num_dia</th>\n",
              "      <th>Hora</th>\n",
              "      <th>Condicion2</th>\n",
              "      <th>Dia2</th>\n",
              "      <th>Sexo2</th>\n",
              "      <th>Semana_int</th>\n",
              "      <th>MOMENTO_DIA_int</th>\n",
              "    </tr>\n",
              "  </thead>\n",
              "  <tbody>\n",
              "    <tr>\n",
              "      <th>0</th>\n",
              "      <td>0</td>\n",
              "      <td>4</td>\n",
              "      <td>17</td>\n",
              "      <td>1.0</td>\n",
              "      <td>0</td>\n",
              "      <td>3</td>\n",
              "      <td>4</td>\n",
              "      <td>1</td>\n",
              "      <td>1</td>\n",
              "      <td>0</td>\n",
              "    </tr>\n",
              "    <tr>\n",
              "      <th>1</th>\n",
              "      <td>0</td>\n",
              "      <td>0</td>\n",
              "      <td>20</td>\n",
              "      <td>1.0</td>\n",
              "      <td>0</td>\n",
              "      <td>3</td>\n",
              "      <td>4</td>\n",
              "      <td>1</td>\n",
              "      <td>1</td>\n",
              "      <td>0</td>\n",
              "    </tr>\n",
              "    <tr>\n",
              "      <th>2</th>\n",
              "      <td>0</td>\n",
              "      <td>0</td>\n",
              "      <td>18</td>\n",
              "      <td>1.0</td>\n",
              "      <td>0</td>\n",
              "      <td>5</td>\n",
              "      <td>4</td>\n",
              "      <td>0</td>\n",
              "      <td>1</td>\n",
              "      <td>0</td>\n",
              "    </tr>\n",
              "    <tr>\n",
              "      <th>3</th>\n",
              "      <td>0</td>\n",
              "      <td>0</td>\n",
              "      <td>19</td>\n",
              "      <td>1.0</td>\n",
              "      <td>0</td>\n",
              "      <td>3</td>\n",
              "      <td>4</td>\n",
              "      <td>1</td>\n",
              "      <td>1</td>\n",
              "      <td>0</td>\n",
              "    </tr>\n",
              "    <tr>\n",
              "      <th>4</th>\n",
              "      <td>0</td>\n",
              "      <td>0</td>\n",
              "      <td>39</td>\n",
              "      <td>1.0</td>\n",
              "      <td>0</td>\n",
              "      <td>5</td>\n",
              "      <td>4</td>\n",
              "      <td>1</td>\n",
              "      <td>1</td>\n",
              "      <td>0</td>\n",
              "    </tr>\n",
              "    <tr>\n",
              "      <th>...</th>\n",
              "      <td>...</td>\n",
              "      <td>...</td>\n",
              "      <td>...</td>\n",
              "      <td>...</td>\n",
              "      <td>...</td>\n",
              "      <td>...</td>\n",
              "      <td>...</td>\n",
              "      <td>...</td>\n",
              "      <td>...</td>\n",
              "      <td>...</td>\n",
              "    </tr>\n",
              "    <tr>\n",
              "      <th>235836</th>\n",
              "      <td>0</td>\n",
              "      <td>4</td>\n",
              "      <td>44</td>\n",
              "      <td>30.0</td>\n",
              "      <td>20</td>\n",
              "      <td>3</td>\n",
              "      <td>1</td>\n",
              "      <td>0</td>\n",
              "      <td>4</td>\n",
              "      <td>5</td>\n",
              "    </tr>\n",
              "    <tr>\n",
              "      <th>235837</th>\n",
              "      <td>0</td>\n",
              "      <td>2</td>\n",
              "      <td>38</td>\n",
              "      <td>30.0</td>\n",
              "      <td>20</td>\n",
              "      <td>3</td>\n",
              "      <td>1</td>\n",
              "      <td>0</td>\n",
              "      <td>4</td>\n",
              "      <td>5</td>\n",
              "    </tr>\n",
              "    <tr>\n",
              "      <th>235838</th>\n",
              "      <td>0</td>\n",
              "      <td>4</td>\n",
              "      <td>32</td>\n",
              "      <td>30.0</td>\n",
              "      <td>22</td>\n",
              "      <td>3</td>\n",
              "      <td>1</td>\n",
              "      <td>1</td>\n",
              "      <td>4</td>\n",
              "      <td>3</td>\n",
              "    </tr>\n",
              "    <tr>\n",
              "      <th>235839</th>\n",
              "      <td>0</td>\n",
              "      <td>4</td>\n",
              "      <td>29</td>\n",
              "      <td>30.0</td>\n",
              "      <td>22</td>\n",
              "      <td>0</td>\n",
              "      <td>1</td>\n",
              "      <td>0</td>\n",
              "      <td>4</td>\n",
              "      <td>3</td>\n",
              "    </tr>\n",
              "    <tr>\n",
              "      <th>235840</th>\n",
              "      <td>0</td>\n",
              "      <td>1</td>\n",
              "      <td>41</td>\n",
              "      <td>30.0</td>\n",
              "      <td>22</td>\n",
              "      <td>0</td>\n",
              "      <td>1</td>\n",
              "      <td>1</td>\n",
              "      <td>4</td>\n",
              "      <td>3</td>\n",
              "    </tr>\n",
              "  </tbody>\n",
              "</table>\n",
              "<p>214952 rows × 10 columns</p>\n",
              "</div>\n",
              "      <button class=\"colab-df-convert\" onclick=\"convertToInteractive('df-6859405b-9ee3-4e1a-98e2-5eba5e3b7e4b')\"\n",
              "              title=\"Convert this dataframe to an interactive table.\"\n",
              "              style=\"display:none;\">\n",
              "        \n",
              "  <svg xmlns=\"http://www.w3.org/2000/svg\" height=\"24px\"viewBox=\"0 0 24 24\"\n",
              "       width=\"24px\">\n",
              "    <path d=\"M0 0h24v24H0V0z\" fill=\"none\"/>\n",
              "    <path d=\"M18.56 5.44l.94 2.06.94-2.06 2.06-.94-2.06-.94-.94-2.06-.94 2.06-2.06.94zm-11 1L8.5 8.5l.94-2.06 2.06-.94-2.06-.94L8.5 2.5l-.94 2.06-2.06.94zm10 10l.94 2.06.94-2.06 2.06-.94-2.06-.94-.94-2.06-.94 2.06-2.06.94z\"/><path d=\"M17.41 7.96l-1.37-1.37c-.4-.4-.92-.59-1.43-.59-.52 0-1.04.2-1.43.59L10.3 9.45l-7.72 7.72c-.78.78-.78 2.05 0 2.83L4 21.41c.39.39.9.59 1.41.59.51 0 1.02-.2 1.41-.59l7.78-7.78 2.81-2.81c.8-.78.8-2.07 0-2.86zM5.41 20L4 18.59l7.72-7.72 1.47 1.35L5.41 20z\"/>\n",
              "  </svg>\n",
              "      </button>\n",
              "      \n",
              "  <style>\n",
              "    .colab-df-container {\n",
              "      display:flex;\n",
              "      flex-wrap:wrap;\n",
              "      gap: 12px;\n",
              "    }\n",
              "\n",
              "    .colab-df-convert {\n",
              "      background-color: #E8F0FE;\n",
              "      border: none;\n",
              "      border-radius: 50%;\n",
              "      cursor: pointer;\n",
              "      display: none;\n",
              "      fill: #1967D2;\n",
              "      height: 32px;\n",
              "      padding: 0 0 0 0;\n",
              "      width: 32px;\n",
              "    }\n",
              "\n",
              "    .colab-df-convert:hover {\n",
              "      background-color: #E2EBFA;\n",
              "      box-shadow: 0px 1px 2px rgba(60, 64, 67, 0.3), 0px 1px 3px 1px rgba(60, 64, 67, 0.15);\n",
              "      fill: #174EA6;\n",
              "    }\n",
              "\n",
              "    [theme=dark] .colab-df-convert {\n",
              "      background-color: #3B4455;\n",
              "      fill: #D2E3FC;\n",
              "    }\n",
              "\n",
              "    [theme=dark] .colab-df-convert:hover {\n",
              "      background-color: #434B5C;\n",
              "      box-shadow: 0px 1px 3px 1px rgba(0, 0, 0, 0.15);\n",
              "      filter: drop-shadow(0px 1px 2px rgba(0, 0, 0, 0.3));\n",
              "      fill: #FFFFFF;\n",
              "    }\n",
              "  </style>\n",
              "\n",
              "      <script>\n",
              "        const buttonEl =\n",
              "          document.querySelector('#df-6859405b-9ee3-4e1a-98e2-5eba5e3b7e4b button.colab-df-convert');\n",
              "        buttonEl.style.display =\n",
              "          google.colab.kernel.accessAllowed ? 'block' : 'none';\n",
              "\n",
              "        async function convertToInteractive(key) {\n",
              "          const element = document.querySelector('#df-6859405b-9ee3-4e1a-98e2-5eba5e3b7e4b');\n",
              "          const dataTable =\n",
              "            await google.colab.kernel.invokeFunction('convertToInteractive',\n",
              "                                                     [key], {});\n",
              "          if (!dataTable) return;\n",
              "\n",
              "          const docLinkHtml = 'Like what you see? Visit the ' +\n",
              "            '<a target=\"_blank\" href=https://colab.research.google.com/notebooks/data_table.ipynb>data table notebook</a>'\n",
              "            + ' to learn more about interactive tables.';\n",
              "          element.innerHTML = '';\n",
              "          dataTable['output_type'] = 'display_data';\n",
              "          await google.colab.output.renderOutput(dataTable, element);\n",
              "          const docLink = document.createElement('div');\n",
              "          docLink.innerHTML = docLinkHtml;\n",
              "          element.appendChild(docLink);\n",
              "        }\n",
              "      </script>\n",
              "    </div>\n",
              "  </div>\n",
              "  "
            ]
          },
          "metadata": {},
          "execution_count": 24
        }
      ]
    },
    {
      "cell_type": "code",
      "source": [
        "# df_number_escalado"
      ],
      "metadata": {
        "id": "K_czZtKjLf51"
      },
      "execution_count": 16,
      "outputs": []
    },
    {
      "cell_type": "markdown",
      "source": [
        "## REGRESION LOGISTICA SOBRE EL DF_NUMBER_NO_NAN"
      ],
      "metadata": {
        "id": "3hFeBN5EGdmV"
      }
    },
    {
      "cell_type": "code",
      "source": [
        "# PASOS\n",
        "# 1- AL SET DE DATOS HAY QUE SACARLE LA COLUMNA Y (GAVEDAD DE VICTIMA) y CREAR UN DATAFREAM CON EL VECTOR Y\n",
        "# DF_X = TODOS LOS CAMPOS MENOS Y\n",
        "# DF_Y = SOLO LA COLUMNA GRAVEDAD VICTIMA\n",
        "# 1.a  - GRAFICAR COLUMNAS\n",
        "# 2- REALIZAR EL SPLIT\n",
        "# 3- ENTRENAR\n",
        "# 4- PREDECIR\n",
        "# 5- METRICAS"
      ],
      "metadata": {
        "id": "SDpzyWZxGcZs"
      },
      "execution_count": 17,
      "outputs": []
    },
    {
      "cell_type": "code",
      "source": [
        ""
      ],
      "metadata": {
        "id": "QdUAMDibnSy_"
      },
      "execution_count": null,
      "outputs": []
    },
    {
      "cell_type": "markdown",
      "source": [
        "## ARMO LA MATRIZ X & EL VECTOR Y"
      ],
      "metadata": {
        "id": "JkMN7nEpMyKh"
      }
    },
    {
      "cell_type": "code",
      "source": [
        "# 1 ARMAR MATRIZ X y VECTOR Y\n",
        "y = df_number_no_nan_2['Gravedad_victima']\n",
        "X = df_number_no_nan_2.drop(['Gravedad_victima'], axis=1)\n",
        "print(y)\n",
        "print(X)\n"
      ],
      "metadata": {
        "colab": {
          "base_uri": "https://localhost:8080/"
        },
        "id": "WFR258XsJFgp",
        "outputId": "bb34ac86-7ec6-44ac-e052-3f03f5111cae"
      },
      "execution_count": 25,
      "outputs": [
        {
          "output_type": "stream",
          "name": "stdout",
          "text": [
            "0         0\n",
            "1         0\n",
            "2         0\n",
            "3         0\n",
            "4         0\n",
            "         ..\n",
            "235836    0\n",
            "235837    0\n",
            "235838    0\n",
            "235839    0\n",
            "235840    0\n",
            "Name: Gravedad_victima, Length: 214952, dtype: int64\n",
            "        Clase_incidente  Edad  Num_dia  Hora  Condicion2  Dia2  Sexo2  \\\n",
            "0                     4    17      1.0     0           3     4      1   \n",
            "1                     0    20      1.0     0           3     4      1   \n",
            "2                     0    18      1.0     0           5     4      0   \n",
            "3                     0    19      1.0     0           3     4      1   \n",
            "4                     0    39      1.0     0           5     4      1   \n",
            "...                 ...   ...      ...   ...         ...   ...    ...   \n",
            "235836                4    44     30.0    20           3     1      0   \n",
            "235837                2    38     30.0    20           3     1      0   \n",
            "235838                4    32     30.0    22           3     1      1   \n",
            "235839                4    29     30.0    22           0     1      0   \n",
            "235840                1    41     30.0    22           0     1      1   \n",
            "\n",
            "        Semana_int  MOMENTO_DIA_int  \n",
            "0                1                0  \n",
            "1                1                0  \n",
            "2                1                0  \n",
            "3                1                0  \n",
            "4                1                0  \n",
            "...            ...              ...  \n",
            "235836           4                5  \n",
            "235837           4                5  \n",
            "235838           4                3  \n",
            "235839           4                3  \n",
            "235840           4                3  \n",
            "\n",
            "[214952 rows x 9 columns]\n"
          ]
        }
      ]
    },
    {
      "cell_type": "markdown",
      "source": [
        "## SPLIT DEL DATASET"
      ],
      "metadata": {
        "id": "pdocYe1wMucD"
      }
    },
    {
      "cell_type": "code",
      "source": [
        "# 2- REALIZAR EL SPLIT\n",
        "# train a logistic regression model on the training set\n",
        "\n",
        "from sklearn.linear_model import LogisticRegression\n",
        "from sklearn.model_selection import train_test_split \n",
        "X_train, X_test, y_train, y_test = train_test_split(X,y,test_size=0.30)\n"
      ],
      "metadata": {
        "id": "YqBdf3CpKrWo"
      },
      "execution_count": 26,
      "outputs": []
    },
    {
      "cell_type": "markdown",
      "source": [
        "## CREO EL MODELO Y ENTRENO"
      ],
      "metadata": {
        "id": "7pZTKI1qMq67"
      }
    },
    {
      "cell_type": "code",
      "source": [
        "# 3- ENTRENAR\n",
        "# CREO EL MODELO\n",
        "logreg = LogisticRegression(solver='liblinear', random_state=0)\n",
        "# ENTRENO EL MODELO CON LOS DF SPLITEADOS\n",
        "logreg.fit(X_train, y_train)"
      ],
      "metadata": {
        "colab": {
          "base_uri": "https://localhost:8080/"
        },
        "id": "_FRU7qNDK_rW",
        "outputId": "5a681bd3-4f2e-4965-f275-25b8edc952c3"
      },
      "execution_count": 27,
      "outputs": [
        {
          "output_type": "execute_result",
          "data": {
            "text/plain": [
              "LogisticRegression(random_state=0, solver='liblinear')"
            ]
          },
          "metadata": {},
          "execution_count": 27
        }
      ]
    },
    {
      "cell_type": "code",
      "source": [
        "# Reviso la influencia de cada columna\n",
        "# Equivale a la matriz de pesos.\n",
        "print(logreg.coef_)"
      ],
      "metadata": {
        "colab": {
          "base_uri": "https://localhost:8080/"
        },
        "id": "C9RMpvqXL2gn",
        "outputId": "3ee47a88-934a-474f-b995-aafadff6fedc"
      },
      "execution_count": 28,
      "outputs": [
        {
          "output_type": "stream",
          "name": "stdout",
          "text": [
            "[[-0.44825805  0.02509171  0.0158453   0.02847566  0.1083726  -0.03456827\n",
            "   0.53568287 -0.12069952 -0.18432894]]\n"
          ]
        }
      ]
    },
    {
      "cell_type": "markdown",
      "source": [
        "# 4 - PREDECIR"
      ],
      "metadata": {
        "id": "82d2-HW6Mmzk"
      }
    },
    {
      "cell_type": "code",
      "source": [
        "# 4- PREDECIR\n",
        "# ESTA ES LA PREDICCION\n",
        "y_pred_test = logreg.predict(X_test)\n",
        "#SALIDA DE LA PREDICCION\n",
        "y_pred_test"
      ],
      "metadata": {
        "colab": {
          "base_uri": "https://localhost:8080/"
        },
        "id": "cFVVuaNiL9fo",
        "outputId": "47cbc611-485f-4433-83ac-30a264e44d94"
      },
      "execution_count": 29,
      "outputs": [
        {
          "output_type": "execute_result",
          "data": {
            "text/plain": [
              "array([0, 0, 0, ..., 0, 0, 0])"
            ]
          },
          "metadata": {},
          "execution_count": 29
        }
      ]
    },
    {
      "cell_type": "markdown",
      "source": [
        "## 5 - METRICAS"
      ],
      "metadata": {
        "id": "h_d38unvMh80"
      }
    },
    {
      "cell_type": "code",
      "source": [
        "# 5- METRICAS\n",
        "\n",
        "# CALCULO LA PRESICION DEL ALGORITMO DE PREDICCION COMPARANDO EL Y DE SALIDA REAL VS LA PREDICCION\n",
        "# La métrica accuracy representa el porcentaje total de valores correctamente\n",
        "from sklearn.metrics import accuracy_score\n",
        "\n",
        "# FUNCION DE CALCULO DE SCORE\n",
        "# accuracy_score(y_test, y_pred_test)\n",
        "\n",
        "print('Model accuracy score: {0:0.4f}'. format(accuracy_score(y_test, y_pred_test)))\n",
        "# Vemos las puntuaciones en el conjunto de entrenamiento y prueba: desde el modelo\n",
        "print('Training set score: {:.4f}'.format(logreg.score(X_train, y_train)))\n",
        "print('Test set score:     {:.4f}'.format(logreg.score(X_test, y_test)))"
      ],
      "metadata": {
        "colab": {
          "base_uri": "https://localhost:8080/"
        },
        "id": "Jki6Tu5bMPBx",
        "outputId": "7c09cd42-e394-42e8-af1e-8b749ed119af"
      },
      "execution_count": 30,
      "outputs": [
        {
          "output_type": "stream",
          "name": "stdout",
          "text": [
            "Model accuracy score: 0.9911\n",
            "Training set score: 0.9917\n",
            "Test set score:     0.9911\n"
          ]
        }
      ]
    },
    {
      "cell_type": "code",
      "source": [
        "# Creamos nuestra Matriz de Confusión:\n",
        "# COMPARANDO EL Y DE SALIDA REAL VS LA PREDICCION\n",
        "import seaborn as sns # statistical data visualization\n",
        "%matplotlib inline\n",
        "# import category_encoders as ce\n",
        "\n",
        "from sklearn.metrics import confusion_matrix\n",
        "\n",
        "cm = confusion_matrix(y_test, y_pred_test)\n",
        "print('Confusion matrix\\n\\n', cm)\n",
        "print('\\nTrue Positives(TP) = ', cm[0,0])\n",
        "print('\\nTrue Negatives(TN) = ', cm[1,1])\n",
        "print('\\nFalse Positives(FP) = ', cm[0,1])\n",
        "print('\\nFalse Negatives(FN) = ', cm[1,0])\n",
        "\n",
        "# Visualizamos la Matriz de Confusión:\n",
        "cm_matrix = pd.DataFrame(data=cm, columns=['Actual Positive:1', 'Actual Negative:0'], \n",
        "                                 index=['Predict Positive:1', 'Predict Negative:0'])\n",
        "sns.heatmap(cm_matrix, annot=True, fmt='d', cmap='YlGnBu')"
      ],
      "metadata": {
        "colab": {
          "base_uri": "https://localhost:8080/",
          "height": 505
        },
        "id": "DfywQRMtNH_p",
        "outputId": "b0cd662f-8a99-4059-e392-b5774eb3c74a"
      },
      "execution_count": 31,
      "outputs": [
        {
          "output_type": "stream",
          "name": "stdout",
          "text": [
            "Confusion matrix\n",
            "\n",
            " [[63911     0]\n",
            " [  575     0]]\n",
            "\n",
            "True Positives(TP) =  63911\n",
            "\n",
            "True Negatives(TN) =  0\n",
            "\n",
            "False Positives(FP) =  0\n",
            "\n",
            "False Negatives(FN) =  575\n"
          ]
        },
        {
          "output_type": "execute_result",
          "data": {
            "text/plain": [
              "<matplotlib.axes._subplots.AxesSubplot at 0x7f70f3542c90>"
            ]
          },
          "metadata": {},
          "execution_count": 31
        },
        {
          "output_type": "display_data",
          "data": {
            "text/plain": [
              "<Figure size 432x288 with 2 Axes>"
            ],
            "image/png": "[encoded data removed]"
          },
          "metadata": {
            "needs_background": "light"
          }
        }
      ]
    },
    {
      "cell_type": "code",
      "source": [
        "# El Informe de Clasificación es otra forma de evaluar el rendimiento del modelo de clasificación.\n",
        "# Muestra las puntuaciones de precisión, recuperación, f1 y soporte para el modelo:\n",
        "from sklearn.metrics import classification_report\n",
        "\n",
        "print(classification_report(y_test, y_pred_test))\n",
        "# aqui se observa que variable tiene mayor influencia\n",
        "print(\"coef\",logreg.coef_)"
      ],
      "metadata": {
        "colab": {
          "base_uri": "https://localhost:8080/"
        },
        "id": "oDZgTnLFNKhW",
        "outputId": "326c0618-796f-4d43-d07f-799e6773f8e5"
      },
      "execution_count": 32,
      "outputs": [
        {
          "output_type": "stream",
          "name": "stdout",
          "text": [
            "              precision    recall  f1-score   support\n",
            "\n",
            "           0       0.99      1.00      1.00     63911\n",
            "           1       0.00      0.00      0.00       575\n",
            "\n",
            "    accuracy                           0.99     64486\n",
            "   macro avg       0.50      0.50      0.50     64486\n",
            "weighted avg       0.98      0.99      0.99     64486\n",
            "\n",
            "coef [[-0.44825805  0.02509171  0.0158453   0.02847566  0.1083726  -0.03456827\n",
            "   0.53568287 -0.12069952 -0.18432894]]\n"
          ]
        }
      ]
    },
    {
      "cell_type": "code",
      "source": [
        "# y.loc[y[0]==0].count()\n",
        "# y.describe()\n",
        "y.value_counts()"
      ],
      "metadata": {
        "colab": {
          "base_uri": "https://localhost:8080/"
        },
        "id": "f0uLYjBdhMnL",
        "outputId": "05daf534-bef2-4926-b3f8-58340fb4d5be"
      },
      "execution_count": 33,
      "outputs": [
        {
          "output_type": "execute_result",
          "data": {
            "text/plain": [
              "0    213131\n",
              "1      1821\n",
              "Name: Gravedad_victima, dtype: int64"
            ]
          },
          "metadata": {},
          "execution_count": 33
        }
      ]
    },
    {
      "cell_type": "code",
      "source": [
        "a = 5*10+0.000005*10000000\n",
        "print(a)\n"
      ],
      "metadata": {
        "colab": {
          "base_uri": "https://localhost:8080/"
        },
        "id": "Iz_vnHb_pBux",
        "outputId": "e2ff6d23-5957-4ca0-f606-67f2b9056db3"
      },
      "execution_count": 34,
      "outputs": [
        {
          "output_type": "stream",
          "name": "stdout",
          "text": [
            "100.0\n"
          ]
        }
      ]
    },
    {
      "cell_type": "code",
      "source": [
        "from math import e\n",
        "r = 1 / (1+e**(a))\n",
        "r"
      ],
      "metadata": {
        "colab": {
          "base_uri": "https://localhost:8080/"
        },
        "id": "f0abDLB3nML3",
        "outputId": "fb553134-d0bf-41ba-daf6-80fefdd3afc6"
      },
      "execution_count": 55,
      "outputs": [
        {
          "output_type": "execute_result",
          "data": {
            "text/plain": [
              "3.7200759760208555e-44"
            ]
          },
          "metadata": {},
          "execution_count": 55
        }
      ]
    },
    {
      "cell_type": "markdown",
      "source": [
        "## SUPUESTOS DE LA REGRESION LOGISTICA\n",
        "REGRESION LOGISTICA: la variable de respuesta es binaria [0,1]"
      ],
      "metadata": {
        "id": "K8vZFGD1QRkP"
      }
    },
    {
      "cell_type": "code",
      "source": [
        "# EVALUO LA SALIDA (OUTPUT) DEBE TENER  2 VALORES\n",
        "# la funcion unique de la libreria numpy nos permite leer un array de numpy y su salida son valores unicos\n",
        "# https://numpy.org/doc/stable/reference/generated/numpy.unique.html\n",
        "print(np.unique(y))\n",
        "# EVALUO LA CANTIDAD DE VALORES QUE HAY PARA CADA UNO\n",
        "df_y = pd.DataFrame(y)\n",
        "df_y.groupby(['Gravedad_victima']).size()"
      ],
      "metadata": {
        "colab": {
          "base_uri": "https://localhost:8080/"
        },
        "id": "ORZEt6WWQPnY",
        "outputId": "303003a4-2e68-451d-b5a3-f25c3b9d4e3d"
      },
      "execution_count": 35,
      "outputs": [
        {
          "output_type": "stream",
          "name": "stdout",
          "text": [
            "[0 1]\n"
          ]
        },
        {
          "output_type": "execute_result",
          "data": {
            "text/plain": [
              "Gravedad_victima\n",
              "0    213131\n",
              "1      1821\n",
              "dtype: int64"
            ]
          },
          "metadata": {},
          "execution_count": 35
        }
      ]
    },
    {
      "cell_type": "markdown",
      "source": [
        "## SUPUESTO 2 - Linealidad de variables independientes y probabilidades logarítmicas\n",
        "\n",
        "REGRESION LOGISTICA: Existe una relación lineal entre las variables explicativas y el logit de la variable de respuesta\n",
        "## **FUNCION LOGIT**\n",
        "\n",
        "* La función logit es una parte importante de la regresión logística\n",
        "**En matemáticas, especialmente aquellas aplicadas en estadística, el logit de un número p entre 0 y 1 es**\n",
        "\n",
        "La base de la función logaritmo usada aquí es de poca importancia, siempre y cuando **sea mayor que 1**, aunque se usa a menudo el logaritmo natural con base e.\n",
        "\n",
        "**La función logit es la inversa del \"sigmoide\", o función \"logística\".**\n",
        "\n",
        "* Si p es una probabilidad entonces p/(1 − p) es la razón de momios, y el logit de la probabilidad es el logaritmo de la razón de momios; \n",
        "* **La diferencia entre los logits de dos probabilidades es el logaritmo del odds ratio (OR), obteniéndose así un mecanismo aditivo para combinar odds-ratios.**\n",
        "\n",
        "### LOGARITMO DE ODD"
      ],
      "metadata": {
        "id": "tZ7pYUY5RTVn"
      }
    },
    {
      "cell_type": "code",
      "source": [
        "# VAMOS A CONVERTIR LA MATRIZ DE NP a UN DF \n",
        "df = pd.DataFrame(X)\n",
        "\n",
        "# CREAMOS UNA COPIA DEL DF ORIGINAL PARA NO ALTERAR EL ORIGINAL\n",
        "df_lt = df.copy()  # lt = logit transform\n",
        "\n",
        "# Add logit transform interaction terms (natural log) for continuous variables e.g. Age * Log(Age)\n",
        "for var in df_lt.columns:\n",
        "    df_lt[f'{var}:Log_{var}'] = df_lt[var].apply(lambda x: x * np.log(x)) #np.log = natural log\n",
        "\n",
        "df_lt.head()\n",
        "# ESTA FUNCION GENERA COLUMNAS NUEVAS POR CADA UNA DE LAS VARIABLES SU LOGARITMO DE OD PARA PODER VER SU LINEALIDAD\n",
        "# DEBE SER LINEAL LA VARIABLE DE INTERES (INDEPENDIENTE) CON RESPECTO A SU LOGARITMO DE ODD ( se calcula la variable * logaritmo de si mismo)"
      ],
      "metadata": {
        "colab": {
          "base_uri": "https://localhost:8080/",
          "height": 270
        },
        "id": "E2XuEwTTQyLP",
        "outputId": "0929b5d7-b1aa-482b-cafe-27cf9545a0bc"
      },
      "execution_count": 36,
      "outputs": [
        {
          "output_type": "execute_result",
          "data": {
            "text/plain": [
              "   Clase_incidente  Edad  Num_dia  Hora  Condicion2  Dia2  Sexo2  Semana_int  \\\n",
              "0                4    17      1.0     0           3     4      1           1   \n",
              "1                0    20      1.0     0           3     4      1           1   \n",
              "2                0    18      1.0     0           5     4      0           1   \n",
              "3                0    19      1.0     0           3     4      1           1   \n",
              "4                0    39      1.0     0           5     4      1           1   \n",
              "\n",
              "   MOMENTO_DIA_int  Clase_incidente:Log_Clase_incidente  Edad:Log_Edad  \\\n",
              "0                0                             5.545177      48.164627   \n",
              "1                0                                  NaN      59.914645   \n",
              "2                0                                  NaN      52.026692   \n",
              "3                0                                  NaN      55.944341   \n",
              "4                0                                  NaN     142.878904   \n",
              "\n",
              "   Num_dia:Log_Num_dia  Hora:Log_Hora  Condicion2:Log_Condicion2  \\\n",
              "0                  0.0            NaN                   3.295837   \n",
              "1                  0.0            NaN                   3.295837   \n",
              "2                  0.0            NaN                   8.047190   \n",
              "3                  0.0            NaN                   3.295837   \n",
              "4                  0.0            NaN                   8.047190   \n",
              "\n",
              "   Dia2:Log_Dia2  Sexo2:Log_Sexo2  Semana_int:Log_Semana_int  \\\n",
              "0       5.545177              0.0                        0.0   \n",
              "1       5.545177              0.0                        0.0   \n",
              "2       5.545177              NaN                        0.0   \n",
              "3       5.545177              0.0                        0.0   \n",
              "4       5.545177              0.0                        0.0   \n",
              "\n",
              "   MOMENTO_DIA_int:Log_MOMENTO_DIA_int  \n",
              "0                                  NaN  \n",
              "1                                  NaN  \n",
              "2                                  NaN  \n",
              "3                                  NaN  \n",
              "4                                  NaN  "
            ],
            "text/html": [
              "\n",
              "  <div id=\"df-2cbfe28e-0a7f-46de-b61c-c547682e5ee0\">\n",
              "    <div class=\"colab-df-container\">\n",
              "      <div>\n",
              "<style scoped>\n",
              "    .dataframe tbody tr th:only-of-type {\n",
              "        vertical-align: middle;\n",
              "    }\n",
              "\n",
              "    .dataframe tbody tr th {\n",
              "        vertical-align: top;\n",
              "    }\n",
              "\n",
              "    .dataframe thead th {\n",
              "        text-align: right;\n",
              "    }\n",
              "</style>\n",
              "<table border=\"1\" class=\"dataframe\">\n",
              "  <thead>\n",
              "    <tr style=\"text-align: right;\">\n",
              "      <th></th>\n",
              "      <th>Clase_incidente</th>\n",
              "      <th>Edad</th>\n",
              "      <th>Num_dia</th>\n",
              "      <th>Hora</th>\n",
              "      <th>Condicion2</th>\n",
              "      <th>Dia2</th>\n",
              "      <th>Sexo2</th>\n",
              "      <th>Semana_int</th>\n",
              "      <th>MOMENTO_DIA_int</th>\n",
              "      <th>Clase_incidente:Log_Clase_incidente</th>\n",
              "      <th>Edad:Log_Edad</th>\n",
              "      <th>Num_dia:Log_Num_dia</th>\n",
              "      <th>Hora:Log_Hora</th>\n",
              "      <th>Condicion2:Log_Condicion2</th>\n",
              "      <th>Dia2:Log_Dia2</th>\n",
              "      <th>Sexo2:Log_Sexo2</th>\n",
              "      <th>Semana_int:Log_Semana_int</th>\n",
              "      <th>MOMENTO_DIA_int:Log_MOMENTO_DIA_int</th>\n",
              "    </tr>\n",
              "  </thead>\n",
              "  <tbody>\n",
              "    <tr>\n",
              "      <th>0</th>\n",
              "      <td>4</td>\n",
              "      <td>17</td>\n",
              "      <td>1.0</td>\n",
              "      <td>0</td>\n",
              "      <td>3</td>\n",
              "      <td>4</td>\n",
              "      <td>1</td>\n",
              "      <td>1</td>\n",
              "      <td>0</td>\n",
              "      <td>5.545177</td>\n",
              "      <td>48.164627</td>\n",
              "      <td>0.0</td>\n",
              "      <td>NaN</td>\n",
              "      <td>3.295837</td>\n",
              "      <td>5.545177</td>\n",
              "      <td>0.0</td>\n",
              "      <td>0.0</td>\n",
              "      <td>NaN</td>\n",
              "    </tr>\n",
              "    <tr>\n",
              "      <th>1</th>\n",
              "      <td>0</td>\n",
              "      <td>20</td>\n",
              "      <td>1.0</td>\n",
              "      <td>0</td>\n",
              "      <td>3</td>\n",
              "      <td>4</td>\n",
              "      <td>1</td>\n",
              "      <td>1</td>\n",
              "      <td>0</td>\n",
              "      <td>NaN</td>\n",
              "      <td>59.914645</td>\n",
              "      <td>0.0</td>\n",
              "      <td>NaN</td>\n",
              "      <td>3.295837</td>\n",
              "      <td>5.545177</td>\n",
              "      <td>0.0</td>\n",
              "      <td>0.0</td>\n",
              "      <td>NaN</td>\n",
              "    </tr>\n",
              "    <tr>\n",
              "      <th>2</th>\n",
              "      <td>0</td>\n",
              "      <td>18</td>\n",
              "      <td>1.0</td>\n",
              "      <td>0</td>\n",
              "      <td>5</td>\n",
              "      <td>4</td>\n",
              "      <td>0</td>\n",
              "      <td>1</td>\n",
              "      <td>0</td>\n",
              "      <td>NaN</td>\n",
              "      <td>52.026692</td>\n",
              "      <td>0.0</td>\n",
              "      <td>NaN</td>\n",
              "      <td>8.047190</td>\n",
              "      <td>5.545177</td>\n",
              "      <td>NaN</td>\n",
              "      <td>0.0</td>\n",
              "      <td>NaN</td>\n",
              "    </tr>\n",
              "    <tr>\n",
              "      <th>3</th>\n",
              "      <td>0</td>\n",
              "      <td>19</td>\n",
              "      <td>1.0</td>\n",
              "      <td>0</td>\n",
              "      <td>3</td>\n",
              "      <td>4</td>\n",
              "      <td>1</td>\n",
              "      <td>1</td>\n",
              "      <td>0</td>\n",
              "      <td>NaN</td>\n",
              "      <td>55.944341</td>\n",
              "      <td>0.0</td>\n",
              "      <td>NaN</td>\n",
              "      <td>3.295837</td>\n",
              "      <td>5.545177</td>\n",
              "      <td>0.0</td>\n",
              "      <td>0.0</td>\n",
              "      <td>NaN</td>\n",
              "    </tr>\n",
              "    <tr>\n",
              "      <th>4</th>\n",
              "      <td>0</td>\n",
              "      <td>39</td>\n",
              "      <td>1.0</td>\n",
              "      <td>0</td>\n",
              "      <td>5</td>\n",
              "      <td>4</td>\n",
              "      <td>1</td>\n",
              "      <td>1</td>\n",
              "      <td>0</td>\n",
              "      <td>NaN</td>\n",
              "      <td>142.878904</td>\n",
              "      <td>0.0</td>\n",
              "      <td>NaN</td>\n",
              "      <td>8.047190</td>\n",
              "      <td>5.545177</td>\n",
              "      <td>0.0</td>\n",
              "      <td>0.0</td>\n",
              "      <td>NaN</td>\n",
              "    </tr>\n",
              "  </tbody>\n",
              "</table>\n",
              "</div>\n",
              "      <button class=\"colab-df-convert\" onclick=\"convertToInteractive('df-2cbfe28e-0a7f-46de-b61c-c547682e5ee0')\"\n",
              "              title=\"Convert this dataframe to an interactive table.\"\n",
              "              style=\"display:none;\">\n",
              "        \n",
              "  <svg xmlns=\"http://www.w3.org/2000/svg\" height=\"24px\"viewBox=\"0 0 24 24\"\n",
              "       width=\"24px\">\n",
              "    <path d=\"M0 0h24v24H0V0z\" fill=\"none\"/>\n",
              "    <path d=\"M18.56 5.44l.94 2.06.94-2.06 2.06-.94-2.06-.94-.94-2.06-.94 2.06-2.06.94zm-11 1L8.5 8.5l.94-2.06 2.06-.94-2.06-.94L8.5 2.5l-.94 2.06-2.06.94zm10 10l.94 2.06.94-2.06 2.06-.94-2.06-.94-.94-2.06-.94 2.06-2.06.94z\"/><path d=\"M17.41 7.96l-1.37-1.37c-.4-.4-.92-.59-1.43-.59-.52 0-1.04.2-1.43.59L10.3 9.45l-7.72 7.72c-.78.78-.78 2.05 0 2.83L4 21.41c.39.39.9.59 1.41.59.51 0 1.02-.2 1.41-.59l7.78-7.78 2.81-2.81c.8-.78.8-2.07 0-2.86zM5.41 20L4 18.59l7.72-7.72 1.47 1.35L5.41 20z\"/>\n",
              "  </svg>\n",
              "      </button>\n",
              "      \n",
              "  <style>\n",
              "    .colab-df-container {\n",
              "      display:flex;\n",
              "      flex-wrap:wrap;\n",
              "      gap: 12px;\n",
              "    }\n",
              "\n",
              "    .colab-df-convert {\n",
              "      background-color: #E8F0FE;\n",
              "      border: none;\n",
              "      border-radius: 50%;\n",
              "      cursor: pointer;\n",
              "      display: none;\n",
              "      fill: #1967D2;\n",
              "      height: 32px;\n",
              "      padding: 0 0 0 0;\n",
              "      width: 32px;\n",
              "    }\n",
              "\n",
              "    .colab-df-convert:hover {\n",
              "      background-color: #E2EBFA;\n",
              "      box-shadow: 0px 1px 2px rgba(60, 64, 67, 0.3), 0px 1px 3px 1px rgba(60, 64, 67, 0.15);\n",
              "      fill: #174EA6;\n",
              "    }\n",
              "\n",
              "    [theme=dark] .colab-df-convert {\n",
              "      background-color: #3B4455;\n",
              "      fill: #D2E3FC;\n",
              "    }\n",
              "\n",
              "    [theme=dark] .colab-df-convert:hover {\n",
              "      background-color: #434B5C;\n",
              "      box-shadow: 0px 1px 3px 1px rgba(0, 0, 0, 0.15);\n",
              "      filter: drop-shadow(0px 1px 2px rgba(0, 0, 0, 0.3));\n",
              "      fill: #FFFFFF;\n",
              "    }\n",
              "  </style>\n",
              "\n",
              "      <script>\n",
              "        const buttonEl =\n",
              "          document.querySelector('#df-2cbfe28e-0a7f-46de-b61c-c547682e5ee0 button.colab-df-convert');\n",
              "        buttonEl.style.display =\n",
              "          google.colab.kernel.accessAllowed ? 'block' : 'none';\n",
              "\n",
              "        async function convertToInteractive(key) {\n",
              "          const element = document.querySelector('#df-2cbfe28e-0a7f-46de-b61c-c547682e5ee0');\n",
              "          const dataTable =\n",
              "            await google.colab.kernel.invokeFunction('convertToInteractive',\n",
              "                                                     [key], {});\n",
              "          if (!dataTable) return;\n",
              "\n",
              "          const docLinkHtml = 'Like what you see? Visit the ' +\n",
              "            '<a target=\"_blank\" href=https://colab.research.google.com/notebooks/data_table.ipynb>data table notebook</a>'\n",
              "            + ' to learn more about interactive tables.';\n",
              "          element.innerHTML = '';\n",
              "          dataTable['output_type'] = 'display_data';\n",
              "          await google.colab.output.renderOutput(dataTable, element);\n",
              "          const docLink = document.createElement('div');\n",
              "          docLink.innerHTML = docLinkHtml;\n",
              "          element.appendChild(docLink);\n",
              "        }\n",
              "      </script>\n",
              "    </div>\n",
              "  </div>\n",
              "  "
            ]
          },
          "metadata": {},
          "execution_count": 36
        }
      ]
    },
    {
      "cell_type": "code",
      "source": [
        "list(df_lt.columns)"
      ],
      "metadata": {
        "colab": {
          "base_uri": "https://localhost:8080/"
        },
        "id": "BAV-4gCNSzGt",
        "outputId": "80ddfc7d-e8da-4088-e493-d02c3a11440f"
      },
      "execution_count": 28,
      "outputs": [
        {
          "output_type": "execute_result",
          "data": {
            "text/plain": [
              "['Clase_incidente',\n",
              " 'Edad',\n",
              " 'Num_dia',\n",
              " 'Hora',\n",
              " 'Anio',\n",
              " 'Radicado',\n",
              " 'Latitud',\n",
              " 'Longitud',\n",
              " 'Condicion2',\n",
              " 'Dia2',\n",
              " 'Sexo2',\n",
              " 'Clase_incidente:Log_Clase_incidente',\n",
              " 'Edad:Log_Edad',\n",
              " 'Num_dia:Log_Num_dia',\n",
              " 'Hora:Log_Hora',\n",
              " 'Anio:Log_Anio',\n",
              " 'Radicado:Log_Radicado',\n",
              " 'Latitud:Log_Latitud',\n",
              " 'Longitud:Log_Longitud',\n",
              " 'Condicion2:Log_Condicion2',\n",
              " 'Dia2:Log_Dia2',\n",
              " 'Sexo2:Log_Sexo2']"
            ]
          },
          "metadata": {},
          "execution_count": 28
        }
      ]
    },
    {
      "cell_type": "code",
      "source": [
        "df_lt.isnull().sum()"
      ],
      "metadata": {
        "colab": {
          "base_uri": "https://localhost:8080/"
        },
        "id": "N15sAGbGUgo9",
        "outputId": "f731deb7-46d7-41e2-9c64-99e819fce5e4"
      },
      "execution_count": 37,
      "outputs": [
        {
          "output_type": "execute_result",
          "data": {
            "text/plain": [
              "Clase_incidente                            0\n",
              "Edad                                       0\n",
              "Num_dia                                    0\n",
              "Hora                                       0\n",
              "Condicion2                                 0\n",
              "Dia2                                       0\n",
              "Sexo2                                      0\n",
              "Semana_int                                 0\n",
              "MOMENTO_DIA_int                            0\n",
              "Clase_incidente:Log_Clase_incidente    36963\n",
              "Edad:Log_Edad                           2814\n",
              "Num_dia:Log_Num_dia                        0\n",
              "Hora:Log_Hora                           3333\n",
              "Condicion2:Log_Condicion2              32522\n",
              "Dia2:Log_Dia2                          25344\n",
              "Sexo2:Log_Sexo2                        65924\n",
              "Semana_int:Log_Semana_int                  0\n",
              "MOMENTO_DIA_int:Log_MOMENTO_DIA_int    32175\n",
              "dtype: int64"
            ]
          },
          "metadata": {},
          "execution_count": 37
        }
      ]
    },
    {
      "cell_type": "code",
      "source": [
        "df_lt_no_nan = df_lt.dropna() "
      ],
      "metadata": {
        "id": "ad_iCpp6j6kL"
      },
      "execution_count": 39,
      "outputs": []
    },
    {
      "cell_type": "code",
      "source": [
        "plt.hist(df_lt_no_nan['MOMENTO_DIA_int'])"
      ],
      "metadata": {
        "id": "1GMjyWRooVZh",
        "outputId": "aad33baf-c270-47c6-d5fe-0f855368add7",
        "colab": {
          "base_uri": "https://localhost:8080/",
          "height": 614
        }
      },
      "execution_count": 46,
      "outputs": [
        {
          "output_type": "error",
          "ename": "ValueError",
          "evalue": "ignored",
          "traceback": [
            "\u001b[0;31m---------------------------------------------------------------------------\u001b[0m",
            "\u001b[0;31mValueError\u001b[0m                                Traceback (most recent call last)",
            "\u001b[0;32m<ipython-input-46-e1541fd07084>\u001b[0m in \u001b[0;36m<module>\u001b[0;34m()\u001b[0m\n\u001b[0;32m----> 1\u001b[0;31m \u001b[0mplt\u001b[0m\u001b[0;34m.\u001b[0m\u001b[0mhist\u001b[0m\u001b[0;34m(\u001b[0m\u001b[0mdf_lt_no_nan\u001b[0m\u001b[0;34m[\u001b[0m\u001b[0;34m'MOMENTO_DIA_int'\u001b[0m\u001b[0;34m]\u001b[0m\u001b[0;34m,\u001b[0m\u001b[0mdf_lt_no_nan\u001b[0m\u001b[0;34m[\u001b[0m\u001b[0;34m'Clase_incidente'\u001b[0m\u001b[0;34m]\u001b[0m\u001b[0;34m)\u001b[0m\u001b[0;34m\u001b[0m\u001b[0;34m\u001b[0m\u001b[0m\n\u001b[0m",
            "\u001b[0;32m/usr/local/lib/python3.7/dist-packages/matplotlib/pyplot.py\u001b[0m in \u001b[0;36mhist\u001b[0;34m(x, bins, range, density, weights, cumulative, bottom, histtype, align, orientation, rwidth, log, color, label, stacked, data, **kwargs)\u001b[0m\n\u001b[1;32m   2608\u001b[0m         \u001b[0malign\u001b[0m\u001b[0;34m=\u001b[0m\u001b[0malign\u001b[0m\u001b[0;34m,\u001b[0m \u001b[0morientation\u001b[0m\u001b[0;34m=\u001b[0m\u001b[0morientation\u001b[0m\u001b[0;34m,\u001b[0m \u001b[0mrwidth\u001b[0m\u001b[0;34m=\u001b[0m\u001b[0mrwidth\u001b[0m\u001b[0;34m,\u001b[0m \u001b[0mlog\u001b[0m\u001b[0;34m=\u001b[0m\u001b[0mlog\u001b[0m\u001b[0;34m,\u001b[0m\u001b[0;34m\u001b[0m\u001b[0;34m\u001b[0m\u001b[0m\n\u001b[1;32m   2609\u001b[0m         color=color, label=label, stacked=stacked, **({\"data\": data}\n\u001b[0;32m-> 2610\u001b[0;31m         if data is not None else {}), **kwargs)\n\u001b[0m\u001b[1;32m   2611\u001b[0m \u001b[0;34m\u001b[0m\u001b[0m\n\u001b[1;32m   2612\u001b[0m \u001b[0;34m\u001b[0m\u001b[0m\n",
            "\u001b[0;32m/usr/local/lib/python3.7/dist-packages/matplotlib/__init__.py\u001b[0m in \u001b[0;36minner\u001b[0;34m(ax, data, *args, **kwargs)\u001b[0m\n\u001b[1;32m   1563\u001b[0m     \u001b[0;32mdef\u001b[0m \u001b[0minner\u001b[0m\u001b[0;34m(\u001b[0m\u001b[0max\u001b[0m\u001b[0;34m,\u001b[0m \u001b[0;34m*\u001b[0m\u001b[0margs\u001b[0m\u001b[0;34m,\u001b[0m \u001b[0mdata\u001b[0m\u001b[0;34m=\u001b[0m\u001b[0;32mNone\u001b[0m\u001b[0;34m,\u001b[0m \u001b[0;34m**\u001b[0m\u001b[0mkwargs\u001b[0m\u001b[0;34m)\u001b[0m\u001b[0;34m:\u001b[0m\u001b[0;34m\u001b[0m\u001b[0;34m\u001b[0m\u001b[0m\n\u001b[1;32m   1564\u001b[0m         \u001b[0;32mif\u001b[0m \u001b[0mdata\u001b[0m \u001b[0;32mis\u001b[0m \u001b[0;32mNone\u001b[0m\u001b[0;34m:\u001b[0m\u001b[0;34m\u001b[0m\u001b[0;34m\u001b[0m\u001b[0m\n\u001b[0;32m-> 1565\u001b[0;31m             \u001b[0;32mreturn\u001b[0m \u001b[0mfunc\u001b[0m\u001b[0;34m(\u001b[0m\u001b[0max\u001b[0m\u001b[0;34m,\u001b[0m \u001b[0;34m*\u001b[0m\u001b[0mmap\u001b[0m\u001b[0;34m(\u001b[0m\u001b[0msanitize_sequence\u001b[0m\u001b[0;34m,\u001b[0m \u001b[0margs\u001b[0m\u001b[0;34m)\u001b[0m\u001b[0;34m,\u001b[0m \u001b[0;34m**\u001b[0m\u001b[0mkwargs\u001b[0m\u001b[0;34m)\u001b[0m\u001b[0;34m\u001b[0m\u001b[0;34m\u001b[0m\u001b[0m\n\u001b[0m\u001b[1;32m   1566\u001b[0m \u001b[0;34m\u001b[0m\u001b[0m\n\u001b[1;32m   1567\u001b[0m         \u001b[0mbound\u001b[0m \u001b[0;34m=\u001b[0m \u001b[0mnew_sig\u001b[0m\u001b[0;34m.\u001b[0m\u001b[0mbind\u001b[0m\u001b[0;34m(\u001b[0m\u001b[0max\u001b[0m\u001b[0;34m,\u001b[0m \u001b[0;34m*\u001b[0m\u001b[0margs\u001b[0m\u001b[0;34m,\u001b[0m \u001b[0;34m**\u001b[0m\u001b[0mkwargs\u001b[0m\u001b[0;34m)\u001b[0m\u001b[0;34m\u001b[0m\u001b[0;34m\u001b[0m\u001b[0m\n",
            "\u001b[0;32m/usr/local/lib/python3.7/dist-packages/matplotlib/axes/_axes.py\u001b[0m in \u001b[0;36mhist\u001b[0;34m(self, x, bins, range, density, weights, cumulative, bottom, histtype, align, orientation, rwidth, log, color, label, stacked, **kwargs)\u001b[0m\n\u001b[1;32m   6658\u001b[0m             \u001b[0;31m# this will automatically overwrite bins,\u001b[0m\u001b[0;34m\u001b[0m\u001b[0;34m\u001b[0m\u001b[0;34m\u001b[0m\u001b[0m\n\u001b[1;32m   6659\u001b[0m             \u001b[0;31m# so that each histogram uses the same bins\u001b[0m\u001b[0;34m\u001b[0m\u001b[0;34m\u001b[0m\u001b[0;34m\u001b[0m\u001b[0m\n\u001b[0;32m-> 6660\u001b[0;31m             \u001b[0mm\u001b[0m\u001b[0;34m,\u001b[0m \u001b[0mbins\u001b[0m \u001b[0;34m=\u001b[0m \u001b[0mnp\u001b[0m\u001b[0;34m.\u001b[0m\u001b[0mhistogram\u001b[0m\u001b[0;34m(\u001b[0m\u001b[0mx\u001b[0m\u001b[0;34m[\u001b[0m\u001b[0mi\u001b[0m\u001b[0;34m]\u001b[0m\u001b[0;34m,\u001b[0m \u001b[0mbins\u001b[0m\u001b[0;34m,\u001b[0m \u001b[0mweights\u001b[0m\u001b[0;34m=\u001b[0m\u001b[0mw\u001b[0m\u001b[0;34m[\u001b[0m\u001b[0mi\u001b[0m\u001b[0;34m]\u001b[0m\u001b[0;34m,\u001b[0m \u001b[0;34m**\u001b[0m\u001b[0mhist_kwargs\u001b[0m\u001b[0;34m)\u001b[0m\u001b[0;34m\u001b[0m\u001b[0;34m\u001b[0m\u001b[0m\n\u001b[0m\u001b[1;32m   6661\u001b[0m             \u001b[0mtops\u001b[0m\u001b[0;34m.\u001b[0m\u001b[0mappend\u001b[0m\u001b[0;34m(\u001b[0m\u001b[0mm\u001b[0m\u001b[0;34m)\u001b[0m\u001b[0;34m\u001b[0m\u001b[0;34m\u001b[0m\u001b[0m\n\u001b[1;32m   6662\u001b[0m         \u001b[0mtops\u001b[0m \u001b[0;34m=\u001b[0m \u001b[0mnp\u001b[0m\u001b[0;34m.\u001b[0m\u001b[0marray\u001b[0m\u001b[0;34m(\u001b[0m\u001b[0mtops\u001b[0m\u001b[0;34m,\u001b[0m \u001b[0mfloat\u001b[0m\u001b[0;34m)\u001b[0m  \u001b[0;31m# causes problems later if it's an int\u001b[0m\u001b[0;34m\u001b[0m\u001b[0;34m\u001b[0m\u001b[0m\n",
            "\u001b[0;32m<__array_function__ internals>\u001b[0m in \u001b[0;36mhistogram\u001b[0;34m(*args, **kwargs)\u001b[0m\n",
            "\u001b[0;32m/usr/local/lib/python3.7/dist-packages/numpy/lib/histograms.py\u001b[0m in \u001b[0;36mhistogram\u001b[0;34m(a, bins, range, normed, weights, density)\u001b[0m\n\u001b[1;32m    791\u001b[0m     \u001b[0ma\u001b[0m\u001b[0;34m,\u001b[0m \u001b[0mweights\u001b[0m \u001b[0;34m=\u001b[0m \u001b[0m_ravel_and_check_weights\u001b[0m\u001b[0;34m(\u001b[0m\u001b[0ma\u001b[0m\u001b[0;34m,\u001b[0m \u001b[0mweights\u001b[0m\u001b[0;34m)\u001b[0m\u001b[0;34m\u001b[0m\u001b[0;34m\u001b[0m\u001b[0m\n\u001b[1;32m    792\u001b[0m \u001b[0;34m\u001b[0m\u001b[0m\n\u001b[0;32m--> 793\u001b[0;31m     \u001b[0mbin_edges\u001b[0m\u001b[0;34m,\u001b[0m \u001b[0muniform_bins\u001b[0m \u001b[0;34m=\u001b[0m \u001b[0m_get_bin_edges\u001b[0m\u001b[0;34m(\u001b[0m\u001b[0ma\u001b[0m\u001b[0;34m,\u001b[0m \u001b[0mbins\u001b[0m\u001b[0;34m,\u001b[0m \u001b[0mrange\u001b[0m\u001b[0;34m,\u001b[0m \u001b[0mweights\u001b[0m\u001b[0;34m)\u001b[0m\u001b[0;34m\u001b[0m\u001b[0;34m\u001b[0m\u001b[0m\n\u001b[0m\u001b[1;32m    794\u001b[0m \u001b[0;34m\u001b[0m\u001b[0m\n\u001b[1;32m    795\u001b[0m     \u001b[0;31m# Histogram is an integer or a float array depending on the weights.\u001b[0m\u001b[0;34m\u001b[0m\u001b[0;34m\u001b[0m\u001b[0;34m\u001b[0m\u001b[0m\n",
            "\u001b[0;32m/usr/local/lib/python3.7/dist-packages/numpy/lib/histograms.py\u001b[0m in \u001b[0;36m_get_bin_edges\u001b[0;34m(a, bins, range, weights)\u001b[0m\n\u001b[1;32m    430\u001b[0m         \u001b[0;32mif\u001b[0m \u001b[0mnp\u001b[0m\u001b[0;34m.\u001b[0m\u001b[0many\u001b[0m\u001b[0;34m(\u001b[0m\u001b[0mbin_edges\u001b[0m\u001b[0;34m[\u001b[0m\u001b[0;34m:\u001b[0m\u001b[0;34m-\u001b[0m\u001b[0;36m1\u001b[0m\u001b[0;34m]\u001b[0m \u001b[0;34m>\u001b[0m \u001b[0mbin_edges\u001b[0m\u001b[0;34m[\u001b[0m\u001b[0;36m1\u001b[0m\u001b[0;34m:\u001b[0m\u001b[0;34m]\u001b[0m\u001b[0;34m)\u001b[0m\u001b[0;34m:\u001b[0m\u001b[0;34m\u001b[0m\u001b[0;34m\u001b[0m\u001b[0m\n\u001b[1;32m    431\u001b[0m             raise ValueError(\n\u001b[0;32m--> 432\u001b[0;31m                 '`bins` must increase monotonically, when an array')\n\u001b[0m\u001b[1;32m    433\u001b[0m \u001b[0;34m\u001b[0m\u001b[0m\n\u001b[1;32m    434\u001b[0m     \u001b[0;32melse\u001b[0m\u001b[0;34m:\u001b[0m\u001b[0;34m\u001b[0m\u001b[0;34m\u001b[0m\u001b[0m\n",
            "\u001b[0;31mValueError\u001b[0m: `bins` must increase monotonically, when an array"
          ]
        },
        {
          "output_type": "display_data",
          "data": {
            "text/plain": [
              "<Figure size 432x288 with 1 Axes>"
            ],
            "image/png": "[encoded data removed]"
          },
          "metadata": {
            "needs_background": "light"
          }
        }
      ]
    },
    {
      "cell_type": "markdown",
      "source": [
        "NO GRAFICA x NULOS"
      ],
      "metadata": {
        "id": "vrDIguv8aArU"
      }
    },
    {
      "cell_type": "code",
      "source": [
        "# GRAFICO LAS COLUMNAS PARA OBSERVAR SU LINEALIDAD\n",
        "plt.figure(figsize = (10,15))\n",
        "\n",
        "plt.subplot(2,2,1)\n",
        "\n",
        "plt.title ('Clase_incidente')\n",
        "plt.scatter(df_lt['Clase_incidente'],df_lt['Clase_incidente:Log_Clase_incidente'])\n",
        "\n",
        "plt.figure(figsize=(10,15))\n",
        "plt.subplot(2,2,2)\n",
        "plt.title ('NUM_DIA')\n",
        "plt.scatter(df_lt['Num_dia'],df_lt['Num_dia:Log_Num_dia'])\n",
        "\n",
        "plt.figure(figsize=(10,15))\n",
        "plt.subplot(2,2,3)\n",
        "plt.title ('Edad')\n",
        "plt.scatter(df_lt['Edad'],df_lt['Edad:Log_Edad'])\n",
        "\n",
        "plt.figure(figsize=(10,15))\n",
        "plt.subplot(2,2,3)\n",
        "plt.title ('Edad')\n",
        "plt.scatter(df_lt['Edad'],df_lt['Edad:Log_Edad'])\n",
        "\n",
        "# plt.subplot(2,2,4)\n",
        "# plt.title ('Hora')\n",
        "# plt.scatter(df_lt[2],df_lt['Hora:Log_Hora'])\n",
        "\n",
        "# plt.subplot(2,3,1)\n",
        "# plt.title ('Anio')\n",
        "# plt.scatter(df_lt[2],df_lt['Anio:Log_Anio'])"
      ],
      "metadata": {
        "colab": {
          "base_uri": "https://localhost:8080/",
          "height": 1000
        },
        "id": "CnNLhzjrSJO0",
        "outputId": "aeec7831-9725-41cc-d416-30c17f7ced33"
      },
      "execution_count": 42,
      "outputs": [
        {
          "output_type": "execute_result",
          "data": {
            "text/plain": [
              "<matplotlib.collections.PathCollection at 0x7f70efbf5890>"
            ]
          },
          "metadata": {},
          "execution_count": 42
        },
        {
          "output_type": "display_data",
          "data": {
            "text/plain": [
              "<Figure size 720x1080 with 1 Axes>"
            ],
            "image/png": "[encoded data removed]"
          },
          "metadata": {
            "needs_background": "light"
          }
        },
        {
          "output_type": "display_data",
          "data": {
            "text/plain": [
              "<Figure size 720x1080 with 1 Axes>"
            ],
            "image/png": "[encoded data removed]"
          },
          "metadata": {
            "needs_background": "light"
          }
        },
        {
          "output_type": "display_data",
          "data": {
            "text/plain": [
              "<Figure size 720x1080 with 1 Axes>"
            ],
            "image/png": "[encoded data removed]"
          },
          "metadata": {
            "needs_background": "light"
          }
        }
      ]
    },
    {
      "cell_type": "code",
      "source": [
        "df_lt.head"
      ],
      "metadata": {
        "id": "dVRmpIxASYOX"
      },
      "execution_count": null,
      "outputs": []
    }
  ],
  "metadata": {
    "kernelspec": {
      "display_name": "Python 3 (ipykernel)",
      "language": "python",
      "name": "python3"
    },
    "language_info": {
      "codemirror_mode": {
        "name": "ipython",
        "version": 3
      },
      "file_extension": ".py",
      "mimetype": "text/x-python",
      "name": "python",
      "nbconvert_exporter": "python",
      "pygments_lexer": "ipython3",
      "version": "3.9.12"
    },
    "colab": {
      "name": "REGRESION_LOGISITCA_ACCIDENTES_VIALES_02.ipynb",
      "provenance": [],
      "collapsed_sections": [],
      "include_colab_link": true
    }
  },
  "nbformat": 4,
  "nbformat_minor": 0
}